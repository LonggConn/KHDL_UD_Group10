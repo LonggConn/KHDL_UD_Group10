{
  "nbformat": 4,
  "nbformat_minor": 0,
  "metadata": {
    "colab": {
      "name": "Bản sao của Copy of SCTP2.ipynb",
      "provenance": [],
      "collapsed_sections": [
        "KykP658FFFid",
        "Tz3E9uidIi40",
        "dEwF6fZWKqct",
        "F-VBT6afNrl1",
        "K28cRX9rN-ad",
        "MmqoOjmNOXNe",
        "6H2LU4__VzeC",
        "ZoCMzStHF1js",
        "ogCf30wKOHls",
        "sKccsxN926Lp",
        "qA_WcVpN-G5k",
        "Zs_vAp3MtPy-",
        "JZoSsbI0MdK3"
      ],
      "machine_shape": "hm",
      "toc_visible": true
    },
    "kernelspec": {
      "name": "python3",
      "display_name": "Python 3"
    },
    "accelerator": "TPU"
  },
  "cells": [
    {
      "cell_type": "markdown",
      "metadata": {
        "id": "wJBZ-ZHtdDDC"
      },
      "source": [
        "# KHDLUD Team 10\n",
        "\n",
        "Thành viên:<br>\n",
        "Trần Quốc Long - 18120202\n",
        "<br>Nguyễn Huy Danh - 1712318\n",
        "<br>Trần Đức Anh - 18120280\n",
        "<br>Du Chí Nhân - 18120492"
      ]
    },
    {
      "cell_type": "markdown",
      "metadata": {
        "id": "vIJ39n8SUayf"
      },
      "source": [
        "# Setup & Import"
      ]
    },
    {
      "cell_type": "code",
      "metadata": {
        "colab": {
          "base_uri": "https://localhost:8080/"
        },
        "outputId": "cfad8e38-fa24-498f-e8b1-2027b369dcdd",
        "id": "eUnjCekRdDDW"
      },
      "source": [
        "# data mount\n",
        "\n",
        "from google.colab import drive\n",
        "drive.mount('/content/drive')"
      ],
      "execution_count": null,
      "outputs": [
        {
          "output_type": "stream",
          "name": "stdout",
          "text": [
            "Mounted at /content/drive\n"
          ]
        }
      ]
    },
    {
      "cell_type": "code",
      "metadata": {
        "id": "qtbiXHbedDDY"
      },
      "source": [
        "# Lib\n",
        "import gc, os, warnings\n",
        "from multiprocessing import cpu_count\n",
        "from tqdm import tqdm\n",
        "\n",
        "import numpy as np\n",
        "from matplotlib import pyplot as plt\n",
        "import pandas as pd\n",
        "\n",
        "import lightgbm as lgb\n",
        "from sklearn.metrics import roc_auc_score\n",
        "from sklearn.model_selection import StratifiedKFold\n",
        "from sklearn.preprocessing import StandardScaler\n",
        "\n",
        "from keras.models import Model\n",
        "from keras.layers import Dense, BatchNormalization,Dropout, Embedding, Flatten, Concatenate, Input\n",
        "from keras.layers.core import Lambda\n",
        "from keras import backend as K\n",
        "from keras import optimizers\n",
        "from keras.layers.advanced_activations import PReLU\n",
        "\n",
        "from scipy.special import erfinv\n",
        "\n",
        "warnings.filterwarnings('ignore')"
      ],
      "execution_count": null,
      "outputs": []
    },
    {
      "cell_type": "code",
      "metadata": {
        "id": "FRNI9J--6crR"
      },
      "source": [
        "# const\n",
        "INPUT = '/content/drive/MyDrive/KHDLUD/src/input/'\n",
        "test_original_data  = INPUT + 'test.csv'\n",
        "train_original_data = INPUT + 'train.csv'\n",
        "sample_submission_file = INPUT + 'sample_submission.csv'\n",
        "OUTPUT = '/content/drive/MyDrive/KHDLUD/src/output/'"
      ],
      "execution_count": null,
      "outputs": []
    },
    {
      "cell_type": "markdown",
      "metadata": {
        "id": "KykP658FFFid"
      },
      "source": [
        "# Giới thiệu"
      ]
    },
    {
      "cell_type": "markdown",
      "metadata": {
        "id": "7KdApuo4FOM7"
      },
      "source": [
        "## Link cuộc thi"
      ]
    },
    {
      "cell_type": "markdown",
      "metadata": {
        "id": "pHXSle2LFT07"
      },
      "source": [
        "Kaggle competion:\n",
        "https://www.kaggle.com/c/santander-customer-transaction-prediction#\n",
        "    \n",
        "Solution git:\n",
        "https://github.com/KazukiOnodera/Santander-Customer-Transaction-Prediction\n",
        "\n",
        "Golf src:\n",
        "https://github.com/KazukiOnodera/santander-customer-transaction-prediction/blob/master/py/990_2nd_place_solution_golf.py"
      ]
    },
    {
      "cell_type": "markdown",
      "metadata": {
        "id": "6RYTJjTrFcA1"
      },
      "source": [
        "## Giới thiệu chủ đề"
      ]
    },
    {
      "cell_type": "markdown",
      "metadata": {
        "id": "kP_DSlS4FcvT"
      },
      "source": [
        "Tại Santander, sứ mệnh của chúng tôi là giúp mọi người và doanh nghiệp phát triển thịnh vượng. Chúng tôi luôn tìm cách giúp khách hàng hiểu được sức khỏe tài chính của họ và xác định những sản phẩm và dịch vụ nào có thể giúp họ đạt được các mục tiêu về tiền tệ của mình.\n",
        "\n",
        "Nhóm khoa học dữ liệu của chúng tôi liên tục thử thách các thuật toán học máy và làm việc với cộng đồng khoa học dữ liệu toàn cầu để đảm bảo chúng tôi có thể xác định chính xác hơn các cách mới để giải quyết thách thức phổ biến nhất, các vấn đề phân loại nhị phân, chẳng hạn như:\n",
        "\n",
        "Khách hàng có hài lòng không? \n",
        "Một khách hàng sẽ mua sản phẩm này? \n",
        "Khách hàng có thể trả khoản vay này không?\n",
        "\n",
        "**Trong thử thách này, chúng tôi mời Kagglers giúp chúng tôi xác định khách hàng nào sẽ thực hiện một giao dịch cụ thể trong tương lai, bất kể số tiền đã giao dịch. Dữ liệu được cung cấp cho cuộc thi này có cấu trúc giống với dữ liệu thực mà chúng tôi có sẵn để giải quyết vấn đề này.**"
      ]
    },
    {
      "cell_type": "markdown",
      "metadata": {
        "id": "mMv6SVMgHPrE"
      },
      "source": [
        "## Cách tính điểm"
      ]
    },
    {
      "cell_type": "markdown",
      "metadata": {
        "id": "Do-_6OdRHVGN"
      },
      "source": [
        "Kết quả dự đoán là xác suất một khách hàng sẽ thực hiện giao dịch trong tương lai.\n",
        "\n",
        "Đánh giá bằng độ đo [AUC](https://developers.google.com/machine-learning/crash-course/classification/roc-and-auc) (Area under the ROC curve) do sự mất cân bằng giữa 2 class 0 và 1\n",
        "\n",
        "![](https://drive.google.com/uc?id=1AQao_oSCjvjByhUTOKuLIzIgv2_9mWiy)"
      ]
    },
    {
      "cell_type": "markdown",
      "metadata": {
        "id": "-VfB6cPnIdPk"
      },
      "source": [
        "# Giải pháp"
      ]
    },
    {
      "cell_type": "markdown",
      "metadata": {
        "id": "Tz3E9uidIi40"
      },
      "source": [
        "## 1. Loại bỏ những giá trị giả"
      ]
    },
    {
      "cell_type": "markdown",
      "metadata": {
        "id": "xjsFutwqJJ6k"
      },
      "source": [
        "[Link tham khảo](https://www.kaggle.com/yag320/list-of-fake-samples-and-public-private-lb-split)\n",
        "\n",
        "Input: Dữ liệu của tập test (do việc này có ảnh hưởng đến quá trình và kết quả sau khi train)\n",
        "\n",
        "Output: Dữ liệu của tập test đã được loại bỏ dữ liệu giả (Fake Samples)\n",
        "\n",
        "Mục đích: Sau khi kiểm tra tập test và tập train thì một điều bất cập đã được nhận ra là: Trong trong tập test có các giá trị độc nhất ở trên từng đặc trưng khác với tập train. Tác giả đã đoán rằng người ta đã sử dụng kĩ thuật sampling distributions (phân phối mẫu) từ dữ liệu mẫu thật trong thống kê để tạo ra một số mẫu tổng hợp trong dữ liệu test. Và chúng ta sẽ lọc đi những mẫu dữ liệu giả ấy vì những mẫu giả ấy sẽ không đóng vai trò tính điểm trong tập test chính thức.\n",
        "\n",
        "Quy trình thực hiện: Dựa trên kiến thức về phân phối mẫu, tác giả đã nghĩ ra một cách để phân loại các dữ liệu giả đấy khi kiểm tra đó chính là\n",
        "\n",
        "- Nếu 1 mẫu có ít nhất 1 đặc trưng mang giá trị độc nhất thì đó sẽ là mẫu thật\n",
        "\n",
        "- Nếu 1 mẫu sau khi kiểm tra toàn bộ đều không có giá trị độc nhất thì đó chính là mẫu giả.\n"
      ]
    },
    {
      "cell_type": "code",
      "metadata": {
        "colab": {
          "base_uri": "https://localhost:8080/"
        },
        "id": "OJt9opCfJTIk",
        "outputId": "0557c35c-7b46-4cb7-b3ac-d0499c33705a"
      },
      "source": [
        "%%time\n",
        "\n",
        "te_ = pd.read_csv(test_original_data).drop(['ID_code'], axis=1).values\n",
        "\n",
        "# unique_samples = []\n",
        "unique_count = np.zeros_like(te_)\n",
        "for feature in tqdm(range(te_.shape[1])):\n",
        "    _, index_, count_ = np.unique(te_[:, feature], return_counts=True, return_index=True)\n",
        "    unique_count[index_[count_ == 1], feature] += 1\n",
        "\n",
        "real_samples_indexes = np.argwhere(np.sum(unique_count, axis=1) > 0)[:, 0]\n",
        "synthetic_samples_indexes = np.argwhere(np.sum(unique_count, axis=1) == 0)[:, 0]"
      ],
      "execution_count": null,
      "outputs": [
        {
          "output_type": "stream",
          "name": "stderr",
          "text": [
            "100%|██████████| 200/200 [00:06<00:00, 30.30it/s]"
          ]
        },
        {
          "output_type": "stream",
          "name": "stdout",
          "text": [
            "CPU times: user 12.9 s, sys: 523 ms, total: 13.4 s\n",
            "Wall time: 14.3 s\n"
          ]
        },
        {
          "output_type": "stream",
          "name": "stderr",
          "text": [
            "\n"
          ]
        }
      ]
    },
    {
      "cell_type": "code",
      "source": [
        "del te_, unique_count\n",
        "gc.collect()"
      ],
      "metadata": {
        "colab": {
          "base_uri": "https://localhost:8080/"
        },
        "id": "UrG47Evz1CrP",
        "outputId": "d018418a-737c-419b-a5d3-caa292ce7aa7"
      },
      "execution_count": null,
      "outputs": [
        {
          "output_type": "execute_result",
          "data": {
            "text/plain": [
              "66"
            ]
          },
          "metadata": {},
          "execution_count": 5
        }
      ]
    },
    {
      "cell_type": "code",
      "metadata": {
        "colab": {
          "base_uri": "https://localhost:8080/"
        },
        "id": "IY8vLyvkJvkF",
        "outputId": "3b526bff-c118-4eff-ae1a-c6064e221f75"
      },
      "source": [
        "# real data\n",
        "\n",
        "print(len(real_samples_indexes))\n",
        "real_samples_indexes"
      ],
      "execution_count": null,
      "outputs": [
        {
          "output_type": "stream",
          "name": "stdout",
          "text": [
            "100000\n"
          ]
        },
        {
          "output_type": "execute_result",
          "data": {
            "text/plain": [
              "array([     3,      7,     11, ..., 199995, 199996, 199999])"
            ]
          },
          "metadata": {},
          "execution_count": 6
        }
      ]
    },
    {
      "cell_type": "code",
      "metadata": {
        "colab": {
          "base_uri": "https://localhost:8080/"
        },
        "id": "3JOSiypA6ftY",
        "outputId": "7543d0a0-c2f9-4878-ee1d-db39829e7efb"
      },
      "source": [
        "# fake data\n",
        "\n",
        "print(len(synthetic_samples_indexes))\n",
        "synthetic_samples_indexes"
      ],
      "execution_count": null,
      "outputs": [
        {
          "output_type": "stream",
          "name": "stdout",
          "text": [
            "100000\n"
          ]
        },
        {
          "output_type": "execute_result",
          "data": {
            "text/plain": [
              "array([     0,      1,      2, ..., 199994, 199997, 199998])"
            ]
          },
          "metadata": {},
          "execution_count": 7
        }
      ]
    },
    {
      "cell_type": "markdown",
      "metadata": {
        "id": "dEwF6fZWKqct"
      },
      "source": [
        "## 2. Nghịch đảo và loại bỏ một số đặc trưng"
      ]
    },
    {
      "cell_type": "markdown",
      "metadata": {
        "id": "TclcZF1SKuk1"
      },
      "source": [
        "[Link tham khảo 1](https://www.kaggle.com/sibmike/are-vars-mixed-up-time-intervals)\n",
        "\n",
        "[Link tham khảo 2](https://www.kaggle.com/cdeotte/modified-naive-bayes-santander-0-899/notebook)\n",
        "\n",
        "Input: Dữ liệu của tập test và tập train\n",
        "\n",
        "Output: Dữ liệu đã drop và nghịch đảo một số đặc trưng\n",
        "  \n",
        "Mục đích: Cải thiện hiệu quả quá trình huấn luyện\n",
        "\n",
        "Sau khi xem qua phân phối xác suất, ta thấy rằng chúng có hình dạng giống nhau chỉ khác scale hoặc là bị lật ngược lại. Vì vậy ta sẽ đưa chúng về cùng dạng để giúp cho mô hình học hiệu quả hơn.\n",
        "\n",
        "Quy trình thực hiện: Chúng ta sẽ xác định những đặc trưng có cùng hình dạng nhưng bị ngược và lật lại bằng cách nhân với -1."
      ]
    },
    {
      "cell_type": "code",
      "metadata": {
        "id": "EwFF7HewNlKV",
        "colab": {
          "base_uri": "https://localhost:8080/"
        },
        "outputId": "cedbef8d-eacb-4ddc-f75a-499546f561e4"
      },
      "source": [
        "%%time\n",
        "\n",
        "train = pd.read_csv(train_original_data)\n",
        "test  = pd.read_csv(test_original_data).drop(synthetic_samples_indexes)\n",
        "        \n",
        "X_train = train.iloc[:, 2:].values\n",
        "y_train = train.target.values\n",
        "\n",
        "X_test = test.iloc[:, 1:].values\n",
        "\n",
        "X = np.concatenate([X_train, X_test], axis=0)\n",
        "del X_train, X_test; gc.collect()\n",
        "\n",
        "reverse_list = [0, 1, 2, 3, 4, 5, 6, 7, 8, 11, 15, 16, 18, 19, 22, 24, 25, 26,\n",
        "                27, 29, 32, 35, 37, 40, 41, 47, 48, 49, 51, 52, 53, 55, 60, 61,\n",
        "                62, 65, 66, 67, 69, 70, 71, 74, 78, 79, 82, 84, 89, 90, 91, 94,\n",
        "                95, 96, 97, 99, 103, 105, 106, 110, 111, 112, 118, 119, 125, 128,\n",
        "                130, 133, 134, 135, 137, 138, 140, 144, 145, 147, 151, 155, 157,\n",
        "                159, 161, 162, 163, 164, 167, 168, 170, 171, 173, 175, 176, 179,\n",
        "                180, 181, 184, 185, 187, 189, 190, 191, 195, 196, 199,]\n",
        "                \n",
        "for j in reverse_list:\n",
        "    X[:, j] *= -1\n",
        "\n",
        "drop_vars = [7,\n",
        "            10,\n",
        "            17,\n",
        "            27,\n",
        "            29,\n",
        "            30,\n",
        "            38,\n",
        "            41,\n",
        "            46,\n",
        "            96,\n",
        "            100,\n",
        "            103,\n",
        "            126,\n",
        "            158,\n",
        "            185]\n",
        "\n",
        "var_len = 200 - len(drop_vars)\n",
        "\n",
        "# drop\n",
        "X = np.delete(X, drop_vars, 1)"
      ],
      "execution_count": null,
      "outputs": [
        {
          "output_type": "stream",
          "name": "stdout",
          "text": [
            "CPU times: user 12.5 s, sys: 658 ms, total: 13.1 s\n",
            "Wall time: 13.9 s\n"
          ]
        }
      ]
    },
    {
      "cell_type": "markdown",
      "metadata": {
        "id": "oeCR0EbkK--s"
      },
      "source": [
        "Before:\n",
        "\n",
        "![](https://drive.google.com/uc?export=view&id=10WaUKsy0znLjyNuNwD5CyQu9ZKiJkZKo)\n",
        "\n",
        "After:\n",
        "\n",
        "![](https://drive.google.com/uc?export=view&id=1SVOB8U8O1PdDPuByR5Ao5wlrZw94TC0y)"
      ]
    },
    {
      "cell_type": "markdown",
      "source": [
        "Lý do các đặc trưng này bị loại bỏ: Vì khi xét xác suất có điều kiện với class 1 thì phân phối của chúng có hình dáng khác nhau và khác với các đặc trưng còn lại.\n",
        "\n",
        "Theo như tác giả đã thử nghiệm, việc nghịch đảo thực sự giúp ích cho mô hình, và việc loại bỏ các đặc trưng không tác động quá lớn đến mô hình:\n",
        "\n",
        "![](https://drive.google.com/uc?id=1mBe_AzoE76VMzuSb_dSZX-1nx9RGh7Ez)\n",
        "\n",
        "![](https://drive.google.com/uc?id=1uK8QMBD5UH8k6jxxk1w8J6j-ADo-0NE6)\n",
        "\n"
      ],
      "metadata": {
        "id": "YNe1jRhoAohW"
      }
    },
    {
      "cell_type": "markdown",
      "metadata": {
        "id": "F-VBT6afNrl1"
      },
      "source": [
        "## 3. Standard Scaling"
      ]
    },
    {
      "cell_type": "markdown",
      "metadata": {
        "id": "u7WgY6VONvWd"
      },
      "source": [
        "Input: Dữ liệu sau khi đã loại bỏ fake và reverse, drop\n",
        "\n",
        "Output: Dữ liệu đã chuẩn hóa\n",
        "\n",
        "Mục đích: Sau khi đã loại bỏ các mẫu fake và những giá trị gây nhiễu, chuẩn hóa dữ liệu sẽ giúp dễ dàng nhận ra các điểm dữ liệu bất thường. Ngoài ra, còn giúp tránh được những vấn đề do  sự khác biệt về độ đo, phục vụ cho việc unpivot ở bước 5\n",
        "\n",
        "Quy trình thực hiện: "
      ]
    },
    {
      "cell_type": "code",
      "metadata": {
        "colab": {
          "base_uri": "https://localhost:8080/"
        },
        "id": "Lap-zWJ3N0ud",
        "outputId": "95be7939-012c-4ac2-e8ca-fedb21d5aab6"
      },
      "source": [
        "%%time\n",
        "\n",
        "# scaling\n",
        "scaler = StandardScaler()\n",
        "X = scaler.fit_transform(X)"
      ],
      "execution_count": null,
      "outputs": [
        {
          "output_type": "stream",
          "name": "stdout",
          "text": [
            "CPU times: user 641 ms, sys: 5.93 ms, total: 647 ms\n",
            "Wall time: 639 ms\n"
          ]
        }
      ]
    },
    {
      "cell_type": "markdown",
      "metadata": {
        "id": "K28cRX9rN-ad"
      },
      "source": [
        "## 4. Count round Encoding"
      ]
    },
    {
      "cell_type": "markdown",
      "metadata": {
        "id": "7m6Qc0ipOAOV"
      },
      "source": [
        "Input: Output của bước 3\n",
        "\n",
        "Output: Dữ liệu cũ + các cột đếm số lượng theo từng cột\n",
        "\n",
        "Mục đích: Feature engineering, giúp cải thiện kết quả\n",
        "\n",
        "Quy trình thực hiện:<br>\n",
        "Count encoding - Với mỗi cột, đếm số lượng giá trị và tạo ra cột mới bằng cách ánh xạ: giá trị -> số lượng<br>\n",
        "Count round encoding - Tương tự như 4 nhưng giá trị được làm tròn lần lượt là 1,2 và 3 chữ số thập phân rồi mới đếm"
      ]
    },
    {
      "cell_type": "code",
      "metadata": {
        "colab": {
          "base_uri": "https://localhost:8080/"
        },
        "id": "RLIolpo8ONlw",
        "outputId": "0b8d7125-89d1-43c5-f378-a2b4f068e6ab"
      },
      "source": [
        "# count encoding\n",
        "X_cnt = np.zeros((len(X), var_len * 4))\n",
        "\n",
        "for j in tqdm(range(var_len)):\n",
        "    for i in range(1, 4):\n",
        "        x = np.round(X[:, j], i+1)\n",
        "        dic = pd.value_counts(x).to_dict()\n",
        "        X_cnt[:, i+j*4] = pd.Series(x).map(dic)\n",
        "    x = X[:, j]\n",
        "    dic = pd.value_counts(x).to_dict()\n",
        "    X_cnt[:, j*4] = pd.Series(x).map(dic)"
      ],
      "execution_count": null,
      "outputs": [
        {
          "output_type": "stream",
          "name": "stderr",
          "text": [
            "100%|██████████| 185/185 [01:39<00:00,  1.87it/s]\n"
          ]
        }
      ]
    },
    {
      "cell_type": "code",
      "metadata": {
        "colab": {
          "base_uri": "https://localhost:8080/"
        },
        "id": "FFQttpkVOckQ",
        "outputId": "a609b641-4c54-4951-a96c-fb7d29f2a766"
      },
      "source": [
        "# raw + count feature\n",
        "X_raw = X.copy() # rename for readable\n",
        "del X; gc.collect()\n",
        "\n",
        "X = np.zeros((len(X_raw), var_len * 5))\n",
        "for j in tqdm(range(var_len)):\n",
        "    X[:, 5*j+1:5*j+5] = X_cnt[:, 4*j:4*j+4]\n",
        "    X[:, 5*j] = X_raw[:, j]"
      ],
      "execution_count": null,
      "outputs": [
        {
          "output_type": "stream",
          "name": "stderr",
          "text": [
            "100%|██████████| 185/185 [00:04<00:00, 39.42it/s]\n"
          ]
        }
      ]
    },
    {
      "cell_type": "code",
      "source": [
        "del X_raw, X_cnt\n",
        "gc.collect()"
      ],
      "metadata": {
        "id": "Rn-2L-W4979C",
        "colab": {
          "base_uri": "https://localhost:8080/"
        },
        "outputId": "02b65c3e-409f-4070-aadb-7449ee7b33fd"
      },
      "execution_count": null,
      "outputs": [
        {
          "output_type": "execute_result",
          "data": {
            "text/plain": [
              "53"
            ]
          },
          "metadata": {},
          "execution_count": 12
        }
      ]
    },
    {
      "cell_type": "markdown",
      "metadata": {
        "id": "MmqoOjmNOXNe"
      },
      "source": [
        "## 5. Unpivot tất cả các cột"
      ]
    },
    {
      "cell_type": "markdown",
      "metadata": {
        "id": "nXTRz__QOYke"
      },
      "source": [
        "Input: Output của bước 4\n",
        "\n",
        "Output: Tạo ra 1 table mới với 3m7 x 6\n",
        "\n",
        "Mục đích: Họ cho rằng giá trị các cột là độc lập với nhau và có thể dùng giá trị của 1 cột để dự đoán target nên họ unpivot, hỗ trợ dự đoán target vì họ đã thử và thấy có cải thiện kết quả\n",
        "\n",
        "Thực hiện: Cứ mỗi biến sẽ là 6 cột (Raw_value, 4 cột đã encode, thuộc về cột nào) đem đi stack vào nhau"
      ]
    },
    {
      "cell_type": "code",
      "metadata": {
        "id": "p-p7hddGTWA2",
        "cellView": "form"
      },
      "source": [
        "#@title \n",
        "# treat each var as same\n",
        "X_train_concat = np.concatenate([\n",
        "    np.concatenate([\n",
        "        X[:200000, 5*cnum:5*cnum+5], \n",
        "        np.ones((len(y_train), 1)).astype(\"int\")*cnum\n",
        "    ], axis=1) for cnum in range(var_len)], axis=0)\n",
        "y_train_concat = np.concatenate([y_train for cnum in range(var_len)], axis=0)"
      ],
      "execution_count": null,
      "outputs": []
    },
    {
      "cell_type": "code",
      "source": [
        "%%time\n",
        "\n",
        "# Re-write\n",
        "\n",
        "X_train_concat = np.concatenate([X[:200000, 0:5], np.zeros((200000, 1)).astype(np.uint8)], axis=1)\n",
        "X_test = np.concatenate((X[200000:, 0:5], np.zeros((100000, 1)).astype(np.uint8)), axis=1)\n",
        "\n",
        "for cnum in tqdm(range(1, var_len)):\n",
        "    tmp = np.concatenate([X[:200000, 5*cnum:5*cnum+5], np.ones((200000, 1)).astype(np.uint8)*cnum], axis=1)\n",
        "    X_train_concat = np.concatenate([X_train_concat, tmp], axis=0)\n",
        "    tmp = np.concatenate((X[200000:, 5*cnum:5*cnum+5], np.ones((100000, 1)).astype(np.uint8)*cnum), axis=1)\n",
        "    X_test = np.concatenate((X_test,tmp), axis=0)\n",
        "    \n",
        "y_train_concat = np.tile(y_train, var_len)"
      ],
      "metadata": {
        "id": "qv1IZydQ-SgH",
        "colab": {
          "base_uri": "https://localhost:8080/"
        },
        "outputId": "ad9a23f3-971c-41ca-c36a-e6e07ef6ffc0"
      },
      "execution_count": null,
      "outputs": [
        {
          "output_type": "stream",
          "name": "stderr",
          "text": [
            "100%|██████████| 184/184 [01:01<00:00,  3.01it/s]"
          ]
        },
        {
          "output_type": "stream",
          "name": "stdout",
          "text": [
            "CPU times: user 59.8 s, sys: 3.01 s, total: 1min 2s\n",
            "Wall time: 1min 1s\n"
          ]
        },
        {
          "output_type": "stream",
          "name": "stderr",
          "text": [
            "\n"
          ]
        }
      ]
    },
    {
      "cell_type": "code",
      "source": [
        "# Kết quả sau khi tiền xử lý\n",
        "\n",
        "show = pd.DataFrame(X_train_concat, columns = ['raw values', 'count_1', 'count_2', 'count_3', 'count_4','var'])\n",
        "show"
      ],
      "metadata": {
        "id": "Qrxvr_xIUS--",
        "colab": {
          "base_uri": "https://localhost:8080/",
          "height": 424
        },
        "outputId": "cd9d788e-097d-40ae-8ed1-f10ae4282622"
      },
      "execution_count": null,
      "outputs": [
        {
          "output_type": "execute_result",
          "data": {
            "text/html": [
              "\n",
              "  <div id=\"df-eee438dc-17d2-4fb9-ac62-aa70298d25c8\">\n",
              "    <div class=\"colab-df-container\">\n",
              "      <div>\n",
              "<style scoped>\n",
              "    .dataframe tbody tr th:only-of-type {\n",
              "        vertical-align: middle;\n",
              "    }\n",
              "\n",
              "    .dataframe tbody tr th {\n",
              "        vertical-align: top;\n",
              "    }\n",
              "\n",
              "    .dataframe thead th {\n",
              "        text-align: right;\n",
              "    }\n",
              "</style>\n",
              "<table border=\"1\" class=\"dataframe\">\n",
              "  <thead>\n",
              "    <tr style=\"text-align: right;\">\n",
              "      <th></th>\n",
              "      <th>raw values</th>\n",
              "      <th>count_1</th>\n",
              "      <th>count_2</th>\n",
              "      <th>count_3</th>\n",
              "      <th>count_4</th>\n",
              "      <th>var</th>\n",
              "    </tr>\n",
              "  </thead>\n",
              "  <tbody>\n",
              "    <tr>\n",
              "      <th>0</th>\n",
              "      <td>0.575796</td>\n",
              "      <td>8.0</td>\n",
              "      <td>1093.0</td>\n",
              "      <td>122.0</td>\n",
              "      <td>14.0</td>\n",
              "      <td>0.0</td>\n",
              "    </tr>\n",
              "    <tr>\n",
              "      <th>1</th>\n",
              "      <td>-0.271663</td>\n",
              "      <td>3.0</td>\n",
              "      <td>973.0</td>\n",
              "      <td>87.0</td>\n",
              "      <td>6.0</td>\n",
              "      <td>0.0</td>\n",
              "    </tr>\n",
              "    <tr>\n",
              "      <th>2</th>\n",
              "      <td>0.679857</td>\n",
              "      <td>6.0</td>\n",
              "      <td>1015.0</td>\n",
              "      <td>94.0</td>\n",
              "      <td>14.0</td>\n",
              "      <td>0.0</td>\n",
              "    </tr>\n",
              "    <tr>\n",
              "      <th>3</th>\n",
              "      <td>-0.126794</td>\n",
              "      <td>3.0</td>\n",
              "      <td>1084.0</td>\n",
              "      <td>93.0</td>\n",
              "      <td>6.0</td>\n",
              "      <td>0.0</td>\n",
              "    </tr>\n",
              "    <tr>\n",
              "      <th>4</th>\n",
              "      <td>0.275857</td>\n",
              "      <td>8.0</td>\n",
              "      <td>1131.0</td>\n",
              "      <td>135.0</td>\n",
              "      <td>18.0</td>\n",
              "      <td>0.0</td>\n",
              "    </tr>\n",
              "    <tr>\n",
              "      <th>...</th>\n",
              "      <td>...</td>\n",
              "      <td>...</td>\n",
              "      <td>...</td>\n",
              "      <td>...</td>\n",
              "      <td>...</td>\n",
              "      <td>...</td>\n",
              "    </tr>\n",
              "    <tr>\n",
              "      <th>36999995</th>\n",
              "      <td>1.396420</td>\n",
              "      <td>2.0</td>\n",
              "      <td>527.0</td>\n",
              "      <td>39.0</td>\n",
              "      <td>6.0</td>\n",
              "      <td>184.0</td>\n",
              "    </tr>\n",
              "    <tr>\n",
              "      <th>36999996</th>\n",
              "      <td>-0.348698</td>\n",
              "      <td>2.0</td>\n",
              "      <td>1017.0</td>\n",
              "      <td>113.0</td>\n",
              "      <td>13.0</td>\n",
              "      <td>184.0</td>\n",
              "    </tr>\n",
              "    <tr>\n",
              "      <th>36999997</th>\n",
              "      <td>-0.718784</td>\n",
              "      <td>1.0</td>\n",
              "      <td>1101.0</td>\n",
              "      <td>116.0</td>\n",
              "      <td>17.0</td>\n",
              "      <td>184.0</td>\n",
              "    </tr>\n",
              "    <tr>\n",
              "      <th>36999998</th>\n",
              "      <td>1.016240</td>\n",
              "      <td>1.0</td>\n",
              "      <td>800.0</td>\n",
              "      <td>68.0</td>\n",
              "      <td>6.0</td>\n",
              "      <td>184.0</td>\n",
              "    </tr>\n",
              "    <tr>\n",
              "      <th>36999999</th>\n",
              "      <td>-0.329497</td>\n",
              "      <td>1.0</td>\n",
              "      <td>993.0</td>\n",
              "      <td>83.0</td>\n",
              "      <td>5.0</td>\n",
              "      <td>184.0</td>\n",
              "    </tr>\n",
              "  </tbody>\n",
              "</table>\n",
              "<p>37000000 rows × 6 columns</p>\n",
              "</div>\n",
              "      <button class=\"colab-df-convert\" onclick=\"convertToInteractive('df-eee438dc-17d2-4fb9-ac62-aa70298d25c8')\"\n",
              "              title=\"Convert this dataframe to an interactive table.\"\n",
              "              style=\"display:none;\">\n",
              "        \n",
              "  <svg xmlns=\"http://www.w3.org/2000/svg\" height=\"24px\"viewBox=\"0 0 24 24\"\n",
              "       width=\"24px\">\n",
              "    <path d=\"M0 0h24v24H0V0z\" fill=\"none\"/>\n",
              "    <path d=\"M18.56 5.44l.94 2.06.94-2.06 2.06-.94-2.06-.94-.94-2.06-.94 2.06-2.06.94zm-11 1L8.5 8.5l.94-2.06 2.06-.94-2.06-.94L8.5 2.5l-.94 2.06-2.06.94zm10 10l.94 2.06.94-2.06 2.06-.94-2.06-.94-.94-2.06-.94 2.06-2.06.94z\"/><path d=\"M17.41 7.96l-1.37-1.37c-.4-.4-.92-.59-1.43-.59-.52 0-1.04.2-1.43.59L10.3 9.45l-7.72 7.72c-.78.78-.78 2.05 0 2.83L4 21.41c.39.39.9.59 1.41.59.51 0 1.02-.2 1.41-.59l7.78-7.78 2.81-2.81c.8-.78.8-2.07 0-2.86zM5.41 20L4 18.59l7.72-7.72 1.47 1.35L5.41 20z\"/>\n",
              "  </svg>\n",
              "      </button>\n",
              "      \n",
              "  <style>\n",
              "    .colab-df-container {\n",
              "      display:flex;\n",
              "      flex-wrap:wrap;\n",
              "      gap: 12px;\n",
              "    }\n",
              "\n",
              "    .colab-df-convert {\n",
              "      background-color: #E8F0FE;\n",
              "      border: none;\n",
              "      border-radius: 50%;\n",
              "      cursor: pointer;\n",
              "      display: none;\n",
              "      fill: #1967D2;\n",
              "      height: 32px;\n",
              "      padding: 0 0 0 0;\n",
              "      width: 32px;\n",
              "    }\n",
              "\n",
              "    .colab-df-convert:hover {\n",
              "      background-color: #E2EBFA;\n",
              "      box-shadow: 0px 1px 2px rgba(60, 64, 67, 0.3), 0px 1px 3px 1px rgba(60, 64, 67, 0.15);\n",
              "      fill: #174EA6;\n",
              "    }\n",
              "\n",
              "    [theme=dark] .colab-df-convert {\n",
              "      background-color: #3B4455;\n",
              "      fill: #D2E3FC;\n",
              "    }\n",
              "\n",
              "    [theme=dark] .colab-df-convert:hover {\n",
              "      background-color: #434B5C;\n",
              "      box-shadow: 0px 1px 3px 1px rgba(0, 0, 0, 0.15);\n",
              "      filter: drop-shadow(0px 1px 2px rgba(0, 0, 0, 0.3));\n",
              "      fill: #FFFFFF;\n",
              "    }\n",
              "  </style>\n",
              "\n",
              "      <script>\n",
              "        const buttonEl =\n",
              "          document.querySelector('#df-eee438dc-17d2-4fb9-ac62-aa70298d25c8 button.colab-df-convert');\n",
              "        buttonEl.style.display =\n",
              "          google.colab.kernel.accessAllowed ? 'block' : 'none';\n",
              "\n",
              "        async function convertToInteractive(key) {\n",
              "          const element = document.querySelector('#df-eee438dc-17d2-4fb9-ac62-aa70298d25c8');\n",
              "          const dataTable =\n",
              "            await google.colab.kernel.invokeFunction('convertToInteractive',\n",
              "                                                     [key], {});\n",
              "          if (!dataTable) return;\n",
              "\n",
              "          const docLinkHtml = 'Like what you see? Visit the ' +\n",
              "            '<a target=\"_blank\" href=https://colab.research.google.com/notebooks/data_table.ipynb>data table notebook</a>'\n",
              "            + ' to learn more about interactive tables.';\n",
              "          element.innerHTML = '';\n",
              "          dataTable['output_type'] = 'display_data';\n",
              "          await google.colab.output.renderOutput(dataTable, element);\n",
              "          const docLink = document.createElement('div');\n",
              "          docLink.innerHTML = docLinkHtml;\n",
              "          element.appendChild(docLink);\n",
              "        }\n",
              "      </script>\n",
              "    </div>\n",
              "  </div>\n",
              "  "
            ],
            "text/plain": [
              "          raw values  count_1  count_2  count_3  count_4    var\n",
              "0           0.575796      8.0   1093.0    122.0     14.0    0.0\n",
              "1          -0.271663      3.0    973.0     87.0      6.0    0.0\n",
              "2           0.679857      6.0   1015.0     94.0     14.0    0.0\n",
              "3          -0.126794      3.0   1084.0     93.0      6.0    0.0\n",
              "4           0.275857      8.0   1131.0    135.0     18.0    0.0\n",
              "...              ...      ...      ...      ...      ...    ...\n",
              "36999995    1.396420      2.0    527.0     39.0      6.0  184.0\n",
              "36999996   -0.348698      2.0   1017.0    113.0     13.0  184.0\n",
              "36999997   -0.718784      1.0   1101.0    116.0     17.0  184.0\n",
              "36999998    1.016240      1.0    800.0     68.0      6.0  184.0\n",
              "36999999   -0.329497      1.0    993.0     83.0      5.0  184.0\n",
              "\n",
              "[37000000 rows x 6 columns]"
            ]
          },
          "metadata": {},
          "execution_count": 14
        }
      ]
    },
    {
      "cell_type": "code",
      "source": [
        "del show, tmp\n",
        "gc.collect()"
      ],
      "metadata": {
        "id": "LW2r7dgzBgBj",
        "colab": {
          "base_uri": "https://localhost:8080/"
        },
        "outputId": "fcf2637b-1e9c-4934-b115-eceb2008e0ea"
      },
      "execution_count": null,
      "outputs": [
        {
          "output_type": "execute_result",
          "data": {
            "text/plain": [
              "62"
            ]
          },
          "metadata": {},
          "execution_count": 15
        }
      ]
    },
    {
      "cell_type": "markdown",
      "source": [
        "Giải thích của tác giả:\n",
        "\n",
        "![](https://drive.google.com/uc?id=1HN3ommg9DKeykNJjzpYomI2HaS_ETv1-)\n",
        "\n",
        "- Giả sử độc lập có điều kiện: \n",
        "    - $P(X \\mid Y=1) = P(x_1 \\mid Y=1)*P(x_2 \\mid Y=1)$ \n",
        "    - $P(X \\mid Y=0) = P(x_1 \\mid Y=0)*P(x_2 \\mid Y=0)$\n",
        "\n",
        "$\\\\[1em]$\n",
        "\n",
        "- Nhưng ta **không** giả sử rằng: $P(x_1)*P(x_2)=P(X)$\n",
        "\n",
        "$\\\\[1em]$\n",
        "\n",
        "Thứ ta cần: $P(Y=1 \\mid X) \\\\[1em]\n",
        "= \\frac{P(X \\mid Y=1) \\cdot P(Y=1)}{P(X)} \\\\[2em]\n",
        "= \\frac{P(x_1 \\mid Y=1) \\cdot P(x_2 \\mid Y=1) \\cdot P(Y=1)}{P(X)} \\\\[2em]\n",
        "= \\frac{P(Y=1 \\mid x_1) \\cdot P(Y=1 \\mid x_2) \\cdot P(x_1) \\cdot P(x_2)}{P(X) \\cdot P(Y=1)} \\\\[2em]$\n",
        "\n",
        "$\\Rightarrow$ Dự đoán Y không tốt vì nó phụ thuộc vào $\\frac{P(x_1) \\cdot P(x_2)}{P(X)}\\\\[1em]$\n",
        "\n",
        "Nhưng với $\\frac{P(Y=1 \\mid X)}{P(Y=0 \\mid X)}\\\\[1em]$ (Tỷ lệ - odds)\n",
        "\n",
        "$= \\frac{P(Y=1 \\mid x_1) \\cdot P(Y=1 \\mid x_2) \\cdot P(Y=0)}{P(Y=0 \\mid x_1) \\cdot P(Y=0 \\mid x_2) \\cdot P(Y=1)}$\n"
      ],
      "metadata": {
        "id": "kh5Xbpaq9yBY"
      }
    },
    {
      "cell_type": "markdown",
      "source": [
        "![](https://drive.google.com/uc?id=1PR0P9HJ_lP9QCMXs7TYB1jLK_-AD_pvX)\n",
        "\n",
        "[Bài viết được nhắc đến](https://www.kaggle.com/jiweiliu/fast-pdf-calculation-with-correlation-matrix)"
      ],
      "metadata": {
        "id": "PmJC6fMeboPv"
      }
    },
    {
      "cell_type": "markdown",
      "source": [
        "## 6. Ví dụ đơn giản cho hiệu quả của việc tiền xử lý:"
      ],
      "metadata": {
        "id": "6H2LU4__VzeC"
      }
    },
    {
      "cell_type": "code",
      "source": [
        "#@title\n",
        "# Dữ liệu ban đầu\n",
        "\n",
        "example_data = {'c1' : [3, 4, 5],\n",
        "                'c2' : [-3, -4, -5],\n",
        "                'c3' : [-3, -4, -5],\n",
        "                'target' : [0, 1, 1]}\n",
        "example_df = pd.DataFrame(example_data)\n",
        "example_df"
      ],
      "metadata": {
        "colab": {
          "base_uri": "https://localhost:8080/",
          "height": 144
        },
        "cellView": "form",
        "id": "FvEUl2zYVRT8",
        "outputId": "52e81405-17f5-4e75-cc95-593567df1a6c"
      },
      "execution_count": null,
      "outputs": [
        {
          "output_type": "execute_result",
          "data": {
            "text/html": [
              "\n",
              "  <div id=\"df-463cd8ef-a98d-4f6d-bfac-9efe29690410\">\n",
              "    <div class=\"colab-df-container\">\n",
              "      <div>\n",
              "<style scoped>\n",
              "    .dataframe tbody tr th:only-of-type {\n",
              "        vertical-align: middle;\n",
              "    }\n",
              "\n",
              "    .dataframe tbody tr th {\n",
              "        vertical-align: top;\n",
              "    }\n",
              "\n",
              "    .dataframe thead th {\n",
              "        text-align: right;\n",
              "    }\n",
              "</style>\n",
              "<table border=\"1\" class=\"dataframe\">\n",
              "  <thead>\n",
              "    <tr style=\"text-align: right;\">\n",
              "      <th></th>\n",
              "      <th>c1</th>\n",
              "      <th>c2</th>\n",
              "      <th>c3</th>\n",
              "      <th>target</th>\n",
              "    </tr>\n",
              "  </thead>\n",
              "  <tbody>\n",
              "    <tr>\n",
              "      <th>0</th>\n",
              "      <td>3</td>\n",
              "      <td>-3</td>\n",
              "      <td>-3</td>\n",
              "      <td>0</td>\n",
              "    </tr>\n",
              "    <tr>\n",
              "      <th>1</th>\n",
              "      <td>4</td>\n",
              "      <td>-4</td>\n",
              "      <td>-4</td>\n",
              "      <td>1</td>\n",
              "    </tr>\n",
              "    <tr>\n",
              "      <th>2</th>\n",
              "      <td>5</td>\n",
              "      <td>-5</td>\n",
              "      <td>-5</td>\n",
              "      <td>1</td>\n",
              "    </tr>\n",
              "  </tbody>\n",
              "</table>\n",
              "</div>\n",
              "      <button class=\"colab-df-convert\" onclick=\"convertToInteractive('df-463cd8ef-a98d-4f6d-bfac-9efe29690410')\"\n",
              "              title=\"Convert this dataframe to an interactive table.\"\n",
              "              style=\"display:none;\">\n",
              "        \n",
              "  <svg xmlns=\"http://www.w3.org/2000/svg\" height=\"24px\"viewBox=\"0 0 24 24\"\n",
              "       width=\"24px\">\n",
              "    <path d=\"M0 0h24v24H0V0z\" fill=\"none\"/>\n",
              "    <path d=\"M18.56 5.44l.94 2.06.94-2.06 2.06-.94-2.06-.94-.94-2.06-.94 2.06-2.06.94zm-11 1L8.5 8.5l.94-2.06 2.06-.94-2.06-.94L8.5 2.5l-.94 2.06-2.06.94zm10 10l.94 2.06.94-2.06 2.06-.94-2.06-.94-.94-2.06-.94 2.06-2.06.94z\"/><path d=\"M17.41 7.96l-1.37-1.37c-.4-.4-.92-.59-1.43-.59-.52 0-1.04.2-1.43.59L10.3 9.45l-7.72 7.72c-.78.78-.78 2.05 0 2.83L4 21.41c.39.39.9.59 1.41.59.51 0 1.02-.2 1.41-.59l7.78-7.78 2.81-2.81c.8-.78.8-2.07 0-2.86zM5.41 20L4 18.59l7.72-7.72 1.47 1.35L5.41 20z\"/>\n",
              "  </svg>\n",
              "      </button>\n",
              "      \n",
              "  <style>\n",
              "    .colab-df-container {\n",
              "      display:flex;\n",
              "      flex-wrap:wrap;\n",
              "      gap: 12px;\n",
              "    }\n",
              "\n",
              "    .colab-df-convert {\n",
              "      background-color: #E8F0FE;\n",
              "      border: none;\n",
              "      border-radius: 50%;\n",
              "      cursor: pointer;\n",
              "      display: none;\n",
              "      fill: #1967D2;\n",
              "      height: 32px;\n",
              "      padding: 0 0 0 0;\n",
              "      width: 32px;\n",
              "    }\n",
              "\n",
              "    .colab-df-convert:hover {\n",
              "      background-color: #E2EBFA;\n",
              "      box-shadow: 0px 1px 2px rgba(60, 64, 67, 0.3), 0px 1px 3px 1px rgba(60, 64, 67, 0.15);\n",
              "      fill: #174EA6;\n",
              "    }\n",
              "\n",
              "    [theme=dark] .colab-df-convert {\n",
              "      background-color: #3B4455;\n",
              "      fill: #D2E3FC;\n",
              "    }\n",
              "\n",
              "    [theme=dark] .colab-df-convert:hover {\n",
              "      background-color: #434B5C;\n",
              "      box-shadow: 0px 1px 3px 1px rgba(0, 0, 0, 0.15);\n",
              "      filter: drop-shadow(0px 1px 2px rgba(0, 0, 0, 0.3));\n",
              "      fill: #FFFFFF;\n",
              "    }\n",
              "  </style>\n",
              "\n",
              "      <script>\n",
              "        const buttonEl =\n",
              "          document.querySelector('#df-463cd8ef-a98d-4f6d-bfac-9efe29690410 button.colab-df-convert');\n",
              "        buttonEl.style.display =\n",
              "          google.colab.kernel.accessAllowed ? 'block' : 'none';\n",
              "\n",
              "        async function convertToInteractive(key) {\n",
              "          const element = document.querySelector('#df-463cd8ef-a98d-4f6d-bfac-9efe29690410');\n",
              "          const dataTable =\n",
              "            await google.colab.kernel.invokeFunction('convertToInteractive',\n",
              "                                                     [key], {});\n",
              "          if (!dataTable) return;\n",
              "\n",
              "          const docLinkHtml = 'Like what you see? Visit the ' +\n",
              "            '<a target=\"_blank\" href=https://colab.research.google.com/notebooks/data_table.ipynb>data table notebook</a>'\n",
              "            + ' to learn more about interactive tables.';\n",
              "          element.innerHTML = '';\n",
              "          dataTable['output_type'] = 'display_data';\n",
              "          await google.colab.output.renderOutput(dataTable, element);\n",
              "          const docLink = document.createElement('div');\n",
              "          docLink.innerHTML = docLinkHtml;\n",
              "          element.appendChild(docLink);\n",
              "        }\n",
              "      </script>\n",
              "    </div>\n",
              "  </div>\n",
              "  "
            ],
            "text/plain": [
              "   c1  c2  c3  target\n",
              "0   3  -3  -3       0\n",
              "1   4  -4  -4       1\n",
              "2   5  -5  -5       1"
            ]
          },
          "metadata": {},
          "execution_count": 5
        }
      ]
    },
    {
      "cell_type": "code",
      "source": [
        "#@title\n",
        "# Sau khi qua nghịch đảo, unpivot\n",
        "example_data2 = {'raw_value' : [3, 4, 5]*3,\n",
        "                 'var' : [1]*3 + [2]*3 + [3]*3,\n",
        "                'target' : [0, 1, 1]*3}\n",
        "example_df2 = pd.DataFrame(example_data2)\n",
        "example_df2"
      ],
      "metadata": {
        "colab": {
          "base_uri": "https://localhost:8080/",
          "height": 331
        },
        "id": "P0buRuljXxV3",
        "outputId": "de5dd2b5-14b9-4ee0-c503-2099c588ab74",
        "cellView": "form"
      },
      "execution_count": null,
      "outputs": [
        {
          "output_type": "execute_result",
          "data": {
            "text/html": [
              "<div>\n",
              "<style scoped>\n",
              "    .dataframe tbody tr th:only-of-type {\n",
              "        vertical-align: middle;\n",
              "    }\n",
              "\n",
              "    .dataframe tbody tr th {\n",
              "        vertical-align: top;\n",
              "    }\n",
              "\n",
              "    .dataframe thead th {\n",
              "        text-align: right;\n",
              "    }\n",
              "</style>\n",
              "<table border=\"1\" class=\"dataframe\">\n",
              "  <thead>\n",
              "    <tr style=\"text-align: right;\">\n",
              "      <th></th>\n",
              "      <th>raw_value</th>\n",
              "      <th>var</th>\n",
              "      <th>target</th>\n",
              "    </tr>\n",
              "  </thead>\n",
              "  <tbody>\n",
              "    <tr>\n",
              "      <th>0</th>\n",
              "      <td>3</td>\n",
              "      <td>1</td>\n",
              "      <td>0</td>\n",
              "    </tr>\n",
              "    <tr>\n",
              "      <th>1</th>\n",
              "      <td>4</td>\n",
              "      <td>1</td>\n",
              "      <td>1</td>\n",
              "    </tr>\n",
              "    <tr>\n",
              "      <th>2</th>\n",
              "      <td>5</td>\n",
              "      <td>1</td>\n",
              "      <td>1</td>\n",
              "    </tr>\n",
              "    <tr>\n",
              "      <th>3</th>\n",
              "      <td>3</td>\n",
              "      <td>2</td>\n",
              "      <td>0</td>\n",
              "    </tr>\n",
              "    <tr>\n",
              "      <th>4</th>\n",
              "      <td>4</td>\n",
              "      <td>2</td>\n",
              "      <td>1</td>\n",
              "    </tr>\n",
              "    <tr>\n",
              "      <th>5</th>\n",
              "      <td>5</td>\n",
              "      <td>2</td>\n",
              "      <td>1</td>\n",
              "    </tr>\n",
              "    <tr>\n",
              "      <th>6</th>\n",
              "      <td>3</td>\n",
              "      <td>3</td>\n",
              "      <td>0</td>\n",
              "    </tr>\n",
              "    <tr>\n",
              "      <th>7</th>\n",
              "      <td>4</td>\n",
              "      <td>3</td>\n",
              "      <td>1</td>\n",
              "    </tr>\n",
              "    <tr>\n",
              "      <th>8</th>\n",
              "      <td>5</td>\n",
              "      <td>3</td>\n",
              "      <td>1</td>\n",
              "    </tr>\n",
              "  </tbody>\n",
              "</table>\n",
              "</div>"
            ],
            "text/plain": [
              "   raw_value  var  target\n",
              "0          3    1       0\n",
              "1          4    1       1\n",
              "2          5    1       1\n",
              "3          3    2       0\n",
              "4          4    2       1\n",
              "5          5    2       1\n",
              "6          3    3       0\n",
              "7          4    3       1\n",
              "8          5    3       1"
            ]
          },
          "metadata": {},
          "execution_count": 39
        }
      ]
    },
    {
      "cell_type": "markdown",
      "source": [
        "Cây quyết định nếu như không nghịch đảo:\n",
        "\n",
        "![](https://drive.google.com/uc?id=1PK7URGNZl8gDHle4j0zbFkI_7iUAc-Qc)\n",
        "\n",
        "![](https://drive.google.com/uc?id=1c5stV5bFgHAVkaeL2k2fHmucUlvnUMnj)"
      ],
      "metadata": {
        "id": "AHn0Qlg0M95w"
      }
    },
    {
      "cell_type": "markdown",
      "source": [
        "Cây quyết định khi có nghịch đảo:\n",
        "\n",
        "![](https://drive.google.com/uc?id=178IRFRWSsHplR_uu1HwSPlQOo1DZ5aMk)"
      ],
      "metadata": {
        "id": "SYiPgCDHNhhH"
      }
    },
    {
      "cell_type": "markdown",
      "metadata": {
        "id": "x2GpXealTjrW"
      },
      "source": [
        "## 7. Quá trình Training và Predict"
      ]
    },
    {
      "cell_type": "markdown",
      "metadata": {
        "id": "YnZ1PM1oTmBf"
      },
      "source": [
        "Input: dữ liệu sau khi unpivot và được gán tên các cột vào\n",
        "\n",
        "Output: các model sau khi được train\n",
        "\n",
        "Mục đích: từ data sau khi đã chuẩn hóa, tạo ra các model, dùng các model này để dự đoán\n",
        "\n",
        "Mô tả: Trong golf solution, tác giả train và predict sử dụng Gradient Boosting với framework LightBGM\n",
        "\n"
      ]
    },
    {
      "cell_type": "markdown",
      "metadata": {
        "id": "ZoCMzStHF1js"
      },
      "source": [
        "### Về Gradient Boosting với framework LightGBM\n"
      ]
    },
    {
      "cell_type": "markdown",
      "source": [
        "***Gradient Boosting là gì?***\n",
        "\n",
        "\n",
        "Gradient Boosting là thuật toán học máy, thường được dùng trong để hồi quy, phân loại và các tác vụ khác. Bản chất của GB là cố gắng tạo ra một phương pháp phân loại mạnh từ một số phương pháp phân loại yếu ( các cây quyết định ) . Điều này được thực hiện bằng cách xây dựng mô hình từ dữ liệu đào tạo, sau đó tạo ra một mô hình thứ hai cố gắng sửa lỗi từ mô hình đầu tiên. Các mô hình được thêm vào cho đến khi tập đào tạo được dự đoán hoàn hảo hoặc thêm một số mô hình tối đa.\n",
        "\n",
        "nói đơn giản thì GB sẽ tạo lần lượt các cây quyết định, cây ban đầu có thể yếu, lỗi nhiều, các cây sau đó sẽ được xây dựng với mục đích giảm thiểu lỗi trên cây trước đó\n",
        "\n",
        "\n",
        "\n",
        "***Light GBM là gì?***\n",
        "\n",
        "Là một thuật toán thông dụng trong các cuộc thi trên Kaggle, với các ưu điểm như:\n",
        "\n",
        "    Training nhanh hơn và hiệu quả hơn\n",
        "    Ít tiêu thụ bộ nhớ\n",
        "    Chính xác hơn\n",
        "    Có hỗ trợ parallel, GPU,..\n",
        "    ổn định để xử lý các bộ dữ liệu kích thước lớn\n",
        "\n",
        "Trong khi đa số các thuật toán thúc đẩy ( boosting algorithm)  khác phát triễn cây theo chiều ngang ( level-wise tree growth) , LightGBM phát triễn cây theo chiều dọc (leaf-wise tree growth).\n",
        "\n",
        "![](https://drive.google.com/uc?export=view&id=1A3Er0Ik-AVuFtzyqW4l0p8JqAVv4JM0J)\n",
        "\n",
        "\n",
        "Chỗ này hiểu đơn giản thì level-wise tree growth tương tự như BFS, còn ***leaf-wise tree growth*** tương tự như DFS, sẽ mở rộng theo chiều dọc tại node cần thiết, nên là  so về hiệu quả trên cây quyết định thì leaf-wise tree growth sẽ tốt hơn cho các bộ dữ liệu kích thước lớn"
      ],
      "metadata": {
        "id": "X8vXcVKd4DGL"
      }
    },
    {
      "cell_type": "markdown",
      "source": [
        "### Config"
      ],
      "metadata": {
        "id": "ogCf30wKOHls"
      }
    },
    {
      "cell_type": "code",
      "metadata": {
        "id": "Ac4mUI5I6e_2"
      },
      "source": [
        "NFOLD = 10\n",
        "NROUND = 1600\n",
        "SEED = np.random.randint(99999)\n",
        "np.random.seed(SEED)\n",
        "params = {\n",
        "    'bagging_freq': 5,              # tần suất bagging\n",
        "    'bagging_fraction': 1.0,        ## dùng để tăng tốc training, có thể được dùng để giải quyết over-fitting\n",
        "    'boost_from_average':'false',   # điều chỉnh điểm ban đầu thành giá trị trung bình của các nhãn để hội tụ nhanh hơn\n",
        "    'boost': 'gbdt',                # Gradient Boosting Decision Tree truyền thống\n",
        "    'feature_fraction': 1.0,        ## 1 nghĩa là LightGBM sẽ chọn toàn bộ feature trước khi training mỗi cây\n",
        "                                    ## dùng để tăng tốc training, có thể được dùng để giải quyết over-fitting\n",
        "    'learning_rate': 0.005,         \n",
        "                                    # quá nhỏ: hội tụ về phía mức lỗi tối thiểu, tăng lượng thời gian cần thiết để đào tạo mô hình.\n",
        "                                    # quá cao: Điều này sẽ làm cho quá trình training không ổn định, kết quả thiếu chính xác nhưng thời gian training nhanh hơn.\n",
        "                                    \n",
        "    'max_depth': -1,                ## giới hạn độ sâu tối đa cho cây. \n",
        "                                    # được sử dụng để đối phó với over-fitting khi dữ liệu nhỏ. -1 nghĩa là không giới hạn\n",
        "    'metric':'binary_logloss',      ##\n",
        "    'min_data_in_leaf': 30,         # số lượng dữ liệu tối thiểu trong một lá. Có thể được sử dụng để đối phó với over-fitting\n",
        "    'min_sum_hessian_in_leaf': 10.0,# Giống như min_data_in_leaf, có thể được sử dụng để đối phó với over-fitting \n",
        "    'num_leaves': 64,               # số lượng lá tối đa trong một cây\n",
        "    'num_threads': cpu_count(),     # sử dụng toàn bộ số lượng CPU trong hệ thống\n",
        "    'tree_learner': 'serial',       # single machine tree learner\n",
        "    'objective': 'binary',          # binary log loss classification\n",
        "    'verbosity': -1                 # kiểm soát mức độ chi tiết của LightGBM\n",
        "    }"
      ],
      "execution_count": null,
      "outputs": []
    },
    {
      "cell_type": "markdown",
      "metadata": {
        "id": "sKccsxN926Lp"
      },
      "source": [
        "### Phân chia dữ liệu cho 10-fold\n",
        "\n",
        "Phần dữ liệu Training thì sẽ được chia ngẫu nhiên thành K phần (K trong bài toán đang sử dụng là 10). \n",
        "\n",
        "Phân thành 2 tập, 1 tập train và 1 tập validation dùng cho bước training\n"
      ]
    },
    {
      "cell_type": "code",
      "metadata": {
        "id": "VpUd7jSU6p_-",
        "colab": {
          "base_uri": "https://localhost:8080/"
        },
        "outputId": "09e10444-051f-4679-ca78-b2960195666b"
      },
      "source": [
        "%%time\n",
        "\n",
        "train_group = np.arange(len(X_train_concat))%200000\n",
        "\n",
        "id_y = pd.DataFrame(zip(train_group, y_train_concat), \n",
        "                    columns=['id', 'y'])\n",
        "\n",
        "id_y_uq = id_y.drop_duplicates('id').reset_index(drop=True)\n",
        "\n",
        "def stratified(nfold=5):\n",
        "    \n",
        "    id_y_uq0 = id_y_uq[id_y_uq.y==0].sample(frac=1)\n",
        "    id_y_uq1 = id_y_uq[id_y_uq.y==1].sample(frac=1)\n",
        "    \n",
        "    id_y_uq0['g'] = [i%nfold for i in range(len(id_y_uq0))]\n",
        "    id_y_uq1['g'] = [i%nfold for i in range(len(id_y_uq1))]\n",
        "    id_y_uq_ = pd.concat([id_y_uq0, id_y_uq1])\n",
        "    \n",
        "    id_y_ = pd.merge(id_y[['id']], id_y_uq_, how='left', on='id')\n",
        "    \n",
        "    train_idx_list = []\n",
        "    valid_idx_list = []\n",
        "    for i in range(nfold):\n",
        "        train_idx = id_y_[id_y_.g!=i].index\n",
        "        train_idx_list.append(train_idx)\n",
        "        valid_idx = id_y_[id_y_.g==i].index\n",
        "        valid_idx_list.append(valid_idx)\n",
        "    \n",
        "    return train_idx_list, valid_idx_list\n",
        "\n",
        "train_idx_list, valid_idx_list = stratified(NFOLD)"
      ],
      "execution_count": null,
      "outputs": [
        {
          "output_type": "stream",
          "name": "stdout",
          "text": [
            "CPU times: user 49.1 s, sys: 3.3 s, total: 52.4 s\n",
            "Wall time: 50.8 s\n"
          ]
        }
      ]
    },
    {
      "cell_type": "code",
      "source": [
        "%%time\n",
        "\n",
        "# Re-write\n",
        "\n",
        "id_y = pd.DataFrame(y_train_concat, columns=['y']).reset_index().rename(columns={'index':'id'})\n",
        "id_y['id'] = id_y['id'] % 200000\n",
        "\n",
        "id_y_uq = pd.DataFrame(y_train, columns=['y'])"
      ],
      "metadata": {
        "colab": {
          "base_uri": "https://localhost:8080/"
        },
        "id": "YfmUpSg0uTPY",
        "outputId": "8b7f4148-222f-4d38-a8af-cc8a6021f0ae"
      },
      "execution_count": null,
      "outputs": [
        {
          "output_type": "stream",
          "name": "stdout",
          "text": [
            "CPU times: user 840 ms, sys: 5.02 ms, total: 845 ms\n",
            "Wall time: 853 ms\n"
          ]
        }
      ]
    },
    {
      "cell_type": "code",
      "source": [
        "id_y_uq = pd.DataFrame(y_train, columns=['y']).reset_index().rename(columns={'index':'id'})\n",
        "id_y = np.tile(id_y_uq.values, (3,1))\n",
        "id_y = pd.DataFrame(id_y, columns=['id','y'])"
      ],
      "metadata": {
        "id": "d-OiSumDm79S"
      },
      "execution_count": null,
      "outputs": []
    },
    {
      "cell_type": "code",
      "source": [
        "# Re-write\n",
        "\n",
        "def stratified(nfold=5):\n",
        "    skf = StratifiedKFold(n_splits=nfold,shuffle=True)\n",
        "\n",
        "    for train_idx, valid_idx in skf.split(id_y_uq, id_y_uq['y']):\n",
        "        yield (id_y[id_y['id'].isin(train_idx)].index, id_y[id_y['id'].isin(valid_idx)].index)"
      ],
      "metadata": {
        "id": "lq0iO7w6ro_t"
      },
      "execution_count": null,
      "outputs": []
    },
    {
      "cell_type": "markdown",
      "metadata": {
        "id": "qA_WcVpN-G5k"
      },
      "source": [
        "### Building model, training & predict\n",
        "\n",
        "Train model K=10 lần, mỗi lần train sẽ chọn 1 phần làm dữ liệu validation và K-1 phần còn lại làm dữ liệu training.\n",
        "\n",
        "Kết quả sau mỗi lần train sẽ lưu lại.\n",
        "\n",
        "Kết quả đánh giá model cuối cùng sẽ là trung bình cộng kết quả đánh giá của K lần train trên."
      ]
    },
    {
      "cell_type": "code",
      "metadata": {
        "id": "Lp5SfT5b6rqu",
        "colab": {
          "base_uri": "https://localhost:8080/"
        },
        "outputId": "428ebaba-b34b-4a21-d285-f533b5476a3d"
      },
      "source": [
        "%%time\n",
        "\n",
        "models = []\n",
        "oof = np.zeros(len(id_y))\n",
        "p_test_all = np.zeros((100000, var_len, NFOLD))\n",
        "\n",
        "for i in tqdm(range(NFOLD)):\n",
        "    print(f'Building {i}...')\n",
        "    \n",
        "    train_idx = train_idx_list[i]\n",
        "    valid_idx = valid_idx_list[i]\n",
        "    \n",
        "    # train\n",
        "    X_train_cv = X_train_concat[train_idx]\n",
        "    y_train_cv = y_train_concat[train_idx]\n",
        "    \n",
        "    # valid\n",
        "    X_valid = X_train_concat[valid_idx]\n",
        "    \n",
        "    \n",
        "    print('gen Dataset')\n",
        "    dtrain = lgb.Dataset(\n",
        "        X_train_cv, y_train_cv, \n",
        "        feature_name=['value', 'count_org', 'count_2', 'count_3', 'count_4', 'varnum'], \n",
        "        categorical_feature=['varnum'], free_raw_data=False\n",
        "    )\n",
        "\n",
        "    print('Trainning....')\n",
        "    model = lgb.train(params, train_set=dtrain, num_boost_round=NROUND, verbose_eval=100)\n",
        "\n",
        "    model.save_model(f'{OUTPUT}Nhan_model{i}.txt', num_iteration=model.best_iteration)\n",
        "    \n",
        "    print('Predicting....')\n",
        "    p_valid = model.predict(X_valid)\n",
        "    p_test  = model.predict(X_test)\n",
        "    for j in tqdm(range(var_len)):\n",
        "        oof[valid_idx] = p_valid\n",
        "        p_test_all[:, j, i] = p_test[j*100000:(j+1)*100000]\n",
        "    '''\n",
        "        my_model.booster_.save_model('mode.txt')\n",
        "        #load from model:\n",
        "\n",
        "        bst = lgb.Booster(model_file='mode.txt')\n",
        "    '''\n",
        "\n",
        "    models.append(model)"
      ],
      "execution_count": null,
      "outputs": [
        {
          "output_type": "stream",
          "name": "stderr",
          "text": [
            "\r  0%|          | 0/10 [00:00<?, ?it/s]"
          ]
        },
        {
          "output_type": "stream",
          "name": "stdout",
          "text": [
            "Building 0...\n",
            "gen Dataset\n",
            "Trainning....\n",
            "Predicting....\n"
          ]
        },
        {
          "output_type": "stream",
          "name": "stderr",
          "text": [
            "\n",
            "  0%|          | 0/185 [00:00<?, ?it/s]\u001b[A\n",
            "  2%|▏         | 3/185 [00:00<00:07, 25.17it/s]\u001b[A\n",
            "  3%|▎         | 6/185 [00:00<00:07, 25.06it/s]\u001b[A\n",
            "  5%|▍         | 9/185 [00:00<00:07, 24.99it/s]\u001b[A\n",
            "  6%|▋         | 12/185 [00:00<00:06, 25.07it/s]\u001b[A\n",
            "  8%|▊         | 15/185 [00:00<00:06, 25.16it/s]\u001b[A\n",
            " 10%|▉         | 18/185 [00:00<00:06, 25.29it/s]\u001b[A\n",
            " 11%|█▏        | 21/185 [00:00<00:06, 25.37it/s]\u001b[A\n",
            " 13%|█▎        | 24/185 [00:00<00:06, 25.35it/s]\u001b[A\n",
            " 15%|█▍        | 27/185 [00:01<00:06, 25.24it/s]\u001b[A\n",
            " 16%|█▌        | 30/185 [00:01<00:06, 25.26it/s]\u001b[A\n",
            " 18%|█▊        | 33/185 [00:01<00:06, 25.30it/s]\u001b[A\n",
            " 19%|█▉        | 36/185 [00:01<00:05, 25.21it/s]\u001b[A\n",
            " 21%|██        | 39/185 [00:01<00:05, 25.10it/s]\u001b[A\n",
            " 23%|██▎       | 42/185 [00:01<00:05, 25.05it/s]\u001b[A\n",
            " 24%|██▍       | 45/185 [00:01<00:05, 25.04it/s]\u001b[A\n",
            " 26%|██▌       | 48/185 [00:01<00:05, 24.93it/s]\u001b[A\n",
            " 28%|██▊       | 51/185 [00:02<00:05, 24.98it/s]\u001b[A\n",
            " 29%|██▉       | 54/185 [00:02<00:05, 25.13it/s]\u001b[A\n",
            " 31%|███       | 57/185 [00:02<00:05, 25.22it/s]\u001b[A\n",
            " 32%|███▏      | 60/185 [00:02<00:04, 25.34it/s]\u001b[A\n",
            " 34%|███▍      | 63/185 [00:02<00:04, 25.30it/s]\u001b[A\n",
            " 36%|███▌      | 66/185 [00:02<00:04, 25.28it/s]\u001b[A\n",
            " 37%|███▋      | 69/185 [00:02<00:04, 25.32it/s]\u001b[A\n",
            " 39%|███▉      | 72/185 [00:02<00:04, 25.31it/s]\u001b[A\n",
            " 41%|████      | 75/185 [00:02<00:04, 25.24it/s]\u001b[A\n",
            " 42%|████▏     | 78/185 [00:03<00:04, 25.16it/s]\u001b[A\n",
            " 44%|████▍     | 81/185 [00:03<00:04, 25.15it/s]\u001b[A\n",
            " 45%|████▌     | 84/185 [00:03<00:04, 25.05it/s]\u001b[A\n",
            " 47%|████▋     | 87/185 [00:03<00:03, 25.08it/s]\u001b[A\n",
            " 49%|████▊     | 90/185 [00:03<00:03, 25.08it/s]\u001b[A\n",
            " 50%|█████     | 93/185 [00:03<00:03, 25.13it/s]\u001b[A\n",
            " 52%|█████▏    | 96/185 [00:03<00:03, 25.25it/s]\u001b[A\n",
            " 54%|█████▎    | 99/185 [00:03<00:03, 25.33it/s]\u001b[A\n",
            " 55%|█████▌    | 102/185 [00:04<00:03, 25.29it/s]\u001b[A\n",
            " 57%|█████▋    | 105/185 [00:04<00:03, 25.31it/s]\u001b[A\n",
            " 58%|█████▊    | 108/185 [00:04<00:03, 25.23it/s]\u001b[A\n",
            " 60%|██████    | 111/185 [00:04<00:02, 25.27it/s]\u001b[A\n",
            " 62%|██████▏   | 114/185 [00:04<00:02, 25.32it/s]\u001b[A\n",
            " 63%|██████▎   | 117/185 [00:04<00:02, 25.28it/s]\u001b[A\n",
            " 65%|██████▍   | 120/185 [00:04<00:02, 25.24it/s]\u001b[A\n",
            " 66%|██████▋   | 123/185 [00:04<00:02, 25.37it/s]\u001b[A\n",
            " 68%|██████▊   | 126/185 [00:04<00:02, 25.35it/s]\u001b[A\n",
            " 70%|██████▉   | 129/185 [00:05<00:02, 25.30it/s]\u001b[A\n",
            " 71%|███████▏  | 132/185 [00:05<00:02, 25.20it/s]\u001b[A\n",
            " 73%|███████▎  | 135/185 [00:05<00:01, 25.20it/s]\u001b[A\n",
            " 75%|███████▍  | 138/185 [00:05<00:01, 25.12it/s]\u001b[A\n",
            " 76%|███████▌  | 141/185 [00:05<00:01, 25.29it/s]\u001b[A\n",
            " 78%|███████▊  | 144/185 [00:05<00:01, 25.45it/s]\u001b[A\n",
            " 79%|███████▉  | 147/185 [00:05<00:01, 25.44it/s]\u001b[A\n",
            " 81%|████████  | 150/185 [00:05<00:01, 25.53it/s]\u001b[A\n",
            " 83%|████████▎ | 153/185 [00:06<00:01, 25.53it/s]\u001b[A\n",
            " 84%|████████▍ | 156/185 [00:06<00:01, 25.46it/s]\u001b[A\n",
            " 86%|████████▌ | 159/185 [00:06<00:01, 25.39it/s]\u001b[A\n",
            " 88%|████████▊ | 162/185 [00:06<00:00, 25.21it/s]\u001b[A\n",
            " 89%|████████▉ | 165/185 [00:06<00:00, 25.20it/s]\u001b[A\n",
            " 91%|█████████ | 168/185 [00:06<00:00, 25.36it/s]\u001b[A\n",
            " 92%|█████████▏| 171/185 [00:06<00:00, 25.36it/s]\u001b[A\n",
            " 94%|█████████▍| 174/185 [00:06<00:00, 25.40it/s]\u001b[A\n",
            " 96%|█████████▌| 177/185 [00:07<00:00, 25.40it/s]\u001b[A\n",
            " 97%|█████████▋| 180/185 [00:07<00:00, 25.40it/s]\u001b[A\n",
            "100%|██████████| 185/185 [00:07<00:00, 25.25it/s]\n",
            " 10%|█         | 1/10 [12:15<1:50:20, 735.60s/it]"
          ]
        },
        {
          "output_type": "stream",
          "name": "stdout",
          "text": [
            "Building 1...\n",
            "gen Dataset\n",
            "Trainning....\n",
            "Predicting....\n"
          ]
        },
        {
          "output_type": "stream",
          "name": "stderr",
          "text": [
            "\n",
            "  0%|          | 0/185 [00:00<?, ?it/s]\u001b[A\n",
            "  2%|▏         | 3/185 [00:00<00:06, 26.12it/s]\u001b[A\n",
            "  3%|▎         | 6/185 [00:00<00:06, 25.96it/s]\u001b[A\n",
            "  5%|▍         | 9/185 [00:00<00:06, 26.06it/s]\u001b[A\n",
            "  6%|▋         | 12/185 [00:00<00:06, 26.09it/s]\u001b[A\n",
            "  8%|▊         | 15/185 [00:00<00:06, 26.16it/s]\u001b[A\n",
            " 10%|▉         | 18/185 [00:00<00:06, 26.15it/s]\u001b[A\n",
            " 11%|█▏        | 21/185 [00:00<00:06, 26.19it/s]\u001b[A\n",
            " 13%|█▎        | 24/185 [00:00<00:06, 26.11it/s]\u001b[A\n",
            " 15%|█▍        | 27/185 [00:01<00:06, 26.10it/s]\u001b[A\n",
            " 16%|█▌        | 30/185 [00:01<00:05, 26.12it/s]\u001b[A\n",
            " 18%|█▊        | 33/185 [00:01<00:05, 26.22it/s]\u001b[A\n",
            " 19%|█▉        | 36/185 [00:01<00:05, 26.23it/s]\u001b[A\n",
            " 21%|██        | 39/185 [00:01<00:05, 26.27it/s]\u001b[A\n",
            " 23%|██▎       | 42/185 [00:01<00:05, 26.24it/s]\u001b[A\n",
            " 24%|██▍       | 45/185 [00:01<00:05, 26.09it/s]\u001b[A\n",
            " 26%|██▌       | 48/185 [00:01<00:05, 26.24it/s]\u001b[A\n",
            " 28%|██▊       | 51/185 [00:01<00:05, 26.32it/s]\u001b[A\n",
            " 29%|██▉       | 54/185 [00:02<00:04, 26.46it/s]\u001b[A\n",
            " 31%|███       | 57/185 [00:02<00:04, 26.57it/s]\u001b[A\n",
            " 32%|███▏      | 60/185 [00:02<00:04, 26.40it/s]\u001b[A\n",
            " 34%|███▍      | 63/185 [00:02<00:04, 26.35it/s]\u001b[A\n",
            " 36%|███▌      | 66/185 [00:02<00:04, 26.32it/s]\u001b[A\n",
            " 37%|███▋      | 69/185 [00:02<00:04, 26.18it/s]\u001b[A\n",
            " 39%|███▉      | 72/185 [00:02<00:04, 26.19it/s]\u001b[A\n",
            " 41%|████      | 75/185 [00:02<00:04, 26.30it/s]\u001b[A\n",
            " 42%|████▏     | 78/185 [00:02<00:04, 26.36it/s]\u001b[A\n",
            " 44%|████▍     | 81/185 [00:03<00:03, 26.22it/s]\u001b[A\n",
            " 45%|████▌     | 84/185 [00:03<00:03, 26.10it/s]\u001b[A\n",
            " 47%|████▋     | 87/185 [00:03<00:03, 26.00it/s]\u001b[A\n",
            " 49%|████▊     | 90/185 [00:03<00:03, 26.07it/s]\u001b[A\n",
            " 50%|█████     | 93/185 [00:03<00:03, 26.20it/s]\u001b[A\n",
            " 52%|█████▏    | 96/185 [00:03<00:03, 26.23it/s]\u001b[A\n",
            " 54%|█████▎    | 99/185 [00:03<00:03, 26.32it/s]\u001b[A\n",
            " 55%|█████▌    | 102/185 [00:03<00:03, 26.40it/s]\u001b[A\n",
            " 57%|█████▋    | 105/185 [00:04<00:03, 26.28it/s]\u001b[A\n",
            " 58%|█████▊    | 108/185 [00:04<00:02, 26.24it/s]\u001b[A\n",
            " 60%|██████    | 111/185 [00:04<00:02, 26.27it/s]\u001b[A\n",
            " 62%|██████▏   | 114/185 [00:04<00:02, 26.33it/s]\u001b[A\n",
            " 63%|██████▎   | 117/185 [00:04<00:02, 26.35it/s]\u001b[A\n",
            " 65%|██████▍   | 120/185 [00:04<00:02, 26.29it/s]\u001b[A\n",
            " 66%|██████▋   | 123/185 [00:04<00:02, 26.26it/s]\u001b[A\n",
            " 68%|██████▊   | 126/185 [00:04<00:02, 26.21it/s]\u001b[A\n",
            " 70%|██████▉   | 129/185 [00:04<00:02, 26.13it/s]\u001b[A\n",
            " 71%|███████▏  | 132/185 [00:05<00:02, 26.24it/s]\u001b[A\n",
            " 73%|███████▎  | 135/185 [00:05<00:01, 26.49it/s]\u001b[A\n",
            " 75%|███████▍  | 138/185 [00:05<00:01, 26.63it/s]\u001b[A\n",
            " 76%|███████▌  | 141/185 [00:05<00:01, 26.52it/s]\u001b[A\n",
            " 78%|███████▊  | 144/185 [00:05<00:01, 26.49it/s]\u001b[A\n",
            " 79%|███████▉  | 147/185 [00:05<00:01, 26.39it/s]\u001b[A\n",
            " 81%|████████  | 150/185 [00:05<00:01, 26.43it/s]\u001b[A\n",
            " 83%|████████▎ | 153/185 [00:05<00:01, 26.27it/s]\u001b[A\n",
            " 84%|████████▍ | 156/185 [00:05<00:01, 26.42it/s]\u001b[A\n",
            " 86%|████████▌ | 159/185 [00:06<00:00, 26.34it/s]\u001b[A\n",
            " 88%|████████▊ | 162/185 [00:06<00:00, 26.44it/s]\u001b[A\n",
            " 89%|████████▉ | 165/185 [00:06<00:00, 26.53it/s]\u001b[A\n",
            " 91%|█████████ | 168/185 [00:06<00:00, 26.66it/s]\u001b[A\n",
            " 92%|█████████▏| 171/185 [00:06<00:00, 26.66it/s]\u001b[A\n",
            " 94%|█████████▍| 174/185 [00:06<00:00, 26.54it/s]\u001b[A\n",
            " 96%|█████████▌| 177/185 [00:06<00:00, 26.49it/s]\u001b[A\n",
            " 97%|█████████▋| 180/185 [00:06<00:00, 26.35it/s]\u001b[A\n",
            "100%|██████████| 185/185 [00:07<00:00, 26.30it/s]\n",
            " 20%|██        | 2/10 [24:07<1:36:14, 721.83s/it]"
          ]
        },
        {
          "output_type": "stream",
          "name": "stdout",
          "text": [
            "Building 2...\n",
            "gen Dataset\n",
            "Trainning....\n",
            "Predicting....\n"
          ]
        },
        {
          "output_type": "stream",
          "name": "stderr",
          "text": [
            "\n",
            "  0%|          | 0/185 [00:00<?, ?it/s]\u001b[A\n",
            "  2%|▏         | 3/185 [00:00<00:06, 26.47it/s]\u001b[A\n",
            "  3%|▎         | 6/185 [00:00<00:06, 26.57it/s]\u001b[A\n",
            "  5%|▍         | 9/185 [00:00<00:06, 26.55it/s]\u001b[A\n",
            "  6%|▋         | 12/185 [00:00<00:06, 26.50it/s]\u001b[A\n",
            "  8%|▊         | 15/185 [00:00<00:06, 26.49it/s]\u001b[A\n",
            " 10%|▉         | 18/185 [00:00<00:06, 26.43it/s]\u001b[A\n",
            " 11%|█▏        | 21/185 [00:00<00:06, 26.54it/s]\u001b[A\n",
            " 13%|█▎        | 24/185 [00:00<00:06, 26.45it/s]\u001b[A\n",
            " 15%|█▍        | 27/185 [00:01<00:06, 26.31it/s]\u001b[A\n",
            " 16%|█▌        | 30/185 [00:01<00:05, 26.22it/s]\u001b[A\n",
            " 18%|█▊        | 33/185 [00:01<00:05, 26.30it/s]\u001b[A\n",
            " 19%|█▉        | 36/185 [00:01<00:05, 26.51it/s]\u001b[A\n",
            " 21%|██        | 39/185 [00:01<00:05, 26.38it/s]\u001b[A\n",
            " 23%|██▎       | 42/185 [00:01<00:05, 26.43it/s]\u001b[A\n",
            " 24%|██▍       | 45/185 [00:01<00:05, 26.44it/s]\u001b[A\n",
            " 26%|██▌       | 48/185 [00:01<00:05, 26.56it/s]\u001b[A\n",
            " 28%|██▊       | 51/185 [00:01<00:05, 26.59it/s]\u001b[A\n",
            " 29%|██▉       | 54/185 [00:02<00:04, 26.59it/s]\u001b[A\n",
            " 31%|███       | 57/185 [00:02<00:04, 26.63it/s]\u001b[A\n",
            " 32%|███▏      | 60/185 [00:02<00:04, 26.68it/s]\u001b[A\n",
            " 34%|███▍      | 63/185 [00:02<00:04, 26.76it/s]\u001b[A\n",
            " 36%|███▌      | 66/185 [00:02<00:04, 26.76it/s]\u001b[A\n",
            " 37%|███▋      | 69/185 [00:02<00:04, 26.71it/s]\u001b[A\n",
            " 39%|███▉      | 72/185 [00:02<00:04, 26.73it/s]\u001b[A\n",
            " 41%|████      | 75/185 [00:02<00:04, 26.75it/s]\u001b[A\n",
            " 42%|████▏     | 78/185 [00:02<00:03, 26.76it/s]\u001b[A\n",
            " 44%|████▍     | 81/185 [00:03<00:03, 26.66it/s]\u001b[A\n",
            " 45%|████▌     | 84/185 [00:03<00:03, 26.72it/s]\u001b[A\n",
            " 47%|████▋     | 87/185 [00:03<00:03, 26.77it/s]\u001b[A\n",
            " 49%|████▊     | 90/185 [00:03<00:03, 26.81it/s]\u001b[A\n",
            " 50%|█████     | 93/185 [00:03<00:03, 26.83it/s]\u001b[A\n",
            " 52%|█████▏    | 96/185 [00:03<00:03, 26.73it/s]\u001b[A\n",
            " 54%|█████▎    | 99/185 [00:03<00:03, 26.73it/s]\u001b[A\n",
            " 55%|█████▌    | 102/185 [00:03<00:03, 26.72it/s]\u001b[A\n",
            " 57%|█████▋    | 105/185 [00:03<00:02, 26.68it/s]\u001b[A\n",
            " 58%|█████▊    | 108/185 [00:04<00:02, 26.57it/s]\u001b[A\n",
            " 60%|██████    | 111/185 [00:04<00:02, 26.63it/s]\u001b[A\n",
            " 62%|██████▏   | 114/185 [00:04<00:02, 26.72it/s]\u001b[A\n",
            " 63%|██████▎   | 117/185 [00:04<00:02, 26.74it/s]\u001b[A\n",
            " 65%|██████▍   | 120/185 [00:04<00:02, 26.73it/s]\u001b[A\n",
            " 66%|██████▋   | 123/185 [00:04<00:02, 26.76it/s]\u001b[A\n",
            " 68%|██████▊   | 126/185 [00:04<00:02, 26.56it/s]\u001b[A\n",
            " 70%|██████▉   | 129/185 [00:04<00:02, 26.58it/s]\u001b[A\n",
            " 71%|███████▏  | 132/185 [00:04<00:02, 26.49it/s]\u001b[A\n",
            " 73%|███████▎  | 135/185 [00:05<00:01, 26.50it/s]\u001b[A\n",
            " 75%|███████▍  | 138/185 [00:05<00:01, 26.53it/s]\u001b[A\n",
            " 76%|███████▌  | 141/185 [00:05<00:01, 26.67it/s]\u001b[A\n",
            " 78%|███████▊  | 144/185 [00:05<00:01, 26.70it/s]\u001b[A\n",
            " 79%|███████▉  | 147/185 [00:05<00:01, 26.70it/s]\u001b[A\n",
            " 81%|████████  | 150/185 [00:05<00:01, 26.69it/s]\u001b[A\n",
            " 83%|████████▎ | 153/185 [00:05<00:01, 26.71it/s]\u001b[A\n",
            " 84%|████████▍ | 156/185 [00:05<00:01, 26.70it/s]\u001b[A\n",
            " 86%|████████▌ | 159/185 [00:05<00:00, 26.65it/s]\u001b[A\n",
            " 88%|████████▊ | 162/185 [00:06<00:00, 26.66it/s]\u001b[A\n",
            " 89%|████████▉ | 165/185 [00:06<00:00, 26.76it/s]\u001b[A\n",
            " 91%|█████████ | 168/185 [00:06<00:00, 26.78it/s]\u001b[A\n",
            " 92%|█████████▏| 171/185 [00:06<00:00, 26.80it/s]\u001b[A\n",
            " 94%|█████████▍| 174/185 [00:06<00:00, 26.75it/s]\u001b[A\n",
            " 96%|█████████▌| 177/185 [00:06<00:00, 26.80it/s]\u001b[A\n",
            " 97%|█████████▋| 180/185 [00:06<00:00, 26.78it/s]\u001b[A\n",
            "100%|██████████| 185/185 [00:06<00:00, 26.63it/s]\n",
            " 30%|███       | 3/10 [35:59<1:23:40, 717.28s/it]"
          ]
        },
        {
          "output_type": "stream",
          "name": "stdout",
          "text": [
            "Building 3...\n",
            "gen Dataset\n",
            "Trainning....\n",
            "Predicting....\n"
          ]
        },
        {
          "output_type": "stream",
          "name": "stderr",
          "text": [
            "\n",
            "  0%|          | 0/185 [00:00<?, ?it/s]\u001b[A\n",
            "  2%|▏         | 3/185 [00:00<00:07, 24.86it/s]\u001b[A\n",
            "  3%|▎         | 6/185 [00:00<00:06, 25.75it/s]\u001b[A\n",
            "  5%|▍         | 9/185 [00:00<00:06, 26.18it/s]\u001b[A\n",
            "  6%|▋         | 12/185 [00:00<00:06, 26.45it/s]\u001b[A\n",
            "  8%|▊         | 15/185 [00:00<00:06, 26.65it/s]\u001b[A\n",
            " 10%|▉         | 18/185 [00:00<00:06, 26.80it/s]\u001b[A\n",
            " 11%|█▏        | 21/185 [00:00<00:06, 26.68it/s]\u001b[A\n",
            " 13%|█▎        | 24/185 [00:00<00:06, 26.69it/s]\u001b[A\n",
            " 15%|█▍        | 27/185 [00:01<00:05, 26.70it/s]\u001b[A\n",
            " 16%|█▌        | 30/185 [00:01<00:05, 26.71it/s]\u001b[A\n",
            " 18%|█▊        | 33/185 [00:01<00:05, 26.77it/s]\u001b[A\n",
            " 19%|█▉        | 36/185 [00:01<00:05, 26.79it/s]\u001b[A\n",
            " 21%|██        | 39/185 [00:01<00:05, 26.81it/s]\u001b[A\n",
            " 23%|██▎       | 42/185 [00:01<00:05, 26.80it/s]\u001b[A\n",
            " 24%|██▍       | 45/185 [00:01<00:05, 26.84it/s]\u001b[A\n",
            " 26%|██▌       | 48/185 [00:01<00:05, 26.78it/s]\u001b[A\n",
            " 28%|██▊       | 51/185 [00:01<00:05, 26.76it/s]\u001b[A\n",
            " 29%|██▉       | 54/185 [00:02<00:04, 26.75it/s]\u001b[A\n",
            " 31%|███       | 57/185 [00:02<00:04, 26.72it/s]\u001b[A\n",
            " 32%|███▏      | 60/185 [00:02<00:04, 26.75it/s]\u001b[A\n",
            " 34%|███▍      | 63/185 [00:02<00:04, 26.81it/s]\u001b[A\n",
            " 36%|███▌      | 66/185 [00:02<00:04, 26.86it/s]\u001b[A\n",
            " 37%|███▋      | 69/185 [00:02<00:04, 26.85it/s]\u001b[A\n",
            " 39%|███▉      | 72/185 [00:02<00:04, 26.73it/s]\u001b[A\n",
            " 41%|████      | 75/185 [00:02<00:04, 26.57it/s]\u001b[A\n",
            " 42%|████▏     | 78/185 [00:02<00:04, 26.54it/s]\u001b[A\n",
            " 44%|████▍     | 81/185 [00:03<00:03, 26.44it/s]\u001b[A\n",
            " 45%|████▌     | 84/185 [00:03<00:03, 26.38it/s]\u001b[A\n",
            " 47%|████▋     | 87/185 [00:03<00:03, 26.36it/s]\u001b[A\n",
            " 49%|████▊     | 90/185 [00:03<00:03, 26.56it/s]\u001b[A\n",
            " 50%|█████     | 93/185 [00:03<00:03, 26.64it/s]\u001b[A\n",
            " 52%|█████▏    | 96/185 [00:03<00:03, 26.77it/s]\u001b[A\n",
            " 54%|█████▎    | 99/185 [00:03<00:03, 26.82it/s]\u001b[A\n",
            " 55%|█████▌    | 102/185 [00:03<00:03, 26.80it/s]\u001b[A\n",
            " 57%|█████▋    | 105/185 [00:03<00:02, 26.87it/s]\u001b[A\n",
            " 58%|█████▊    | 108/185 [00:04<00:02, 26.85it/s]\u001b[A\n",
            " 60%|██████    | 111/185 [00:04<00:02, 26.76it/s]\u001b[A\n",
            " 62%|██████▏   | 114/185 [00:04<00:02, 26.75it/s]\u001b[A\n",
            " 63%|██████▎   | 117/185 [00:04<00:02, 26.76it/s]\u001b[A\n",
            " 65%|██████▍   | 120/185 [00:04<00:02, 26.76it/s]\u001b[A\n",
            " 66%|██████▋   | 123/185 [00:04<00:02, 26.95it/s]\u001b[A\n",
            " 68%|██████▊   | 126/185 [00:04<00:02, 26.98it/s]\u001b[A\n",
            " 70%|██████▉   | 129/185 [00:04<00:02, 26.72it/s]\u001b[A\n",
            " 71%|███████▏  | 132/185 [00:04<00:01, 26.66it/s]\u001b[A\n",
            " 73%|███████▎  | 135/185 [00:05<00:01, 26.59it/s]\u001b[A\n",
            " 75%|███████▍  | 138/185 [00:05<00:01, 26.59it/s]\u001b[A\n",
            " 76%|███████▌  | 141/185 [00:05<00:01, 26.61it/s]\u001b[A\n",
            " 78%|███████▊  | 144/185 [00:05<00:01, 26.68it/s]\u001b[A\n",
            " 79%|███████▉  | 147/185 [00:05<00:01, 26.68it/s]\u001b[A\n",
            " 81%|████████  | 150/185 [00:05<00:01, 26.68it/s]\u001b[A\n",
            " 83%|████████▎ | 153/185 [00:05<00:01, 26.65it/s]\u001b[A\n",
            " 84%|████████▍ | 156/185 [00:05<00:01, 26.64it/s]\u001b[A\n",
            " 86%|████████▌ | 159/185 [00:05<00:00, 26.58it/s]\u001b[A\n",
            " 88%|████████▊ | 162/185 [00:06<00:00, 26.51it/s]\u001b[A\n",
            " 89%|████████▉ | 165/185 [00:06<00:00, 26.48it/s]\u001b[A\n",
            " 91%|█████████ | 168/185 [00:06<00:00, 26.56it/s]\u001b[A\n",
            " 92%|█████████▏| 171/185 [00:06<00:00, 26.64it/s]\u001b[A\n",
            " 94%|█████████▍| 174/185 [00:06<00:00, 26.72it/s]\u001b[A\n",
            " 96%|█████████▌| 177/185 [00:06<00:00, 26.78it/s]\u001b[A\n",
            " 97%|█████████▋| 180/185 [00:06<00:00, 26.70it/s]\u001b[A\n",
            "100%|██████████| 185/185 [00:06<00:00, 26.66it/s]\n",
            " 40%|████      | 4/10 [47:45<1:11:16, 712.74s/it]"
          ]
        },
        {
          "output_type": "stream",
          "name": "stdout",
          "text": [
            "Building 4...\n",
            "gen Dataset\n",
            "Trainning....\n",
            "Predicting....\n"
          ]
        },
        {
          "output_type": "stream",
          "name": "stderr",
          "text": [
            "\n",
            "  0%|          | 0/185 [00:00<?, ?it/s]\u001b[A\n",
            "  2%|▏         | 3/185 [00:00<00:06, 27.31it/s]\u001b[A\n",
            "  3%|▎         | 6/185 [00:00<00:06, 27.35it/s]\u001b[A\n",
            "  5%|▍         | 9/185 [00:00<00:06, 27.20it/s]\u001b[A\n",
            "  6%|▋         | 12/185 [00:00<00:06, 27.08it/s]\u001b[A\n",
            "  8%|▊         | 15/185 [00:00<00:06, 27.06it/s]\u001b[A\n",
            " 10%|▉         | 18/185 [00:00<00:06, 26.95it/s]\u001b[A\n",
            " 11%|█▏        | 21/185 [00:00<00:06, 26.90it/s]\u001b[A\n",
            " 13%|█▎        | 24/185 [00:00<00:05, 26.89it/s]\u001b[A\n",
            " 15%|█▍        | 27/185 [00:01<00:05, 26.96it/s]\u001b[A\n",
            " 16%|█▌        | 30/185 [00:01<00:05, 26.98it/s]\u001b[A\n",
            " 18%|█▊        | 33/185 [00:01<00:05, 27.00it/s]\u001b[A\n",
            " 19%|█▉        | 36/185 [00:01<00:05, 26.92it/s]\u001b[A\n",
            " 21%|██        | 39/185 [00:01<00:05, 26.77it/s]\u001b[A\n",
            " 23%|██▎       | 42/185 [00:01<00:05, 26.67it/s]\u001b[A\n",
            " 24%|██▍       | 45/185 [00:01<00:05, 26.69it/s]\u001b[A\n",
            " 26%|██▌       | 48/185 [00:01<00:05, 26.64it/s]\u001b[A\n",
            " 28%|██▊       | 51/185 [00:01<00:05, 26.64it/s]\u001b[A\n",
            " 29%|██▉       | 54/185 [00:02<00:04, 26.63it/s]\u001b[A\n",
            " 31%|███       | 57/185 [00:02<00:04, 26.65it/s]\u001b[A\n",
            " 32%|███▏      | 60/185 [00:02<00:04, 26.47it/s]\u001b[A\n",
            " 34%|███▍      | 63/185 [00:02<00:04, 26.58it/s]\u001b[A\n",
            " 36%|███▌      | 66/185 [00:02<00:04, 26.66it/s]\u001b[A\n",
            " 37%|███▋      | 69/185 [00:02<00:04, 26.57it/s]\u001b[A\n",
            " 39%|███▉      | 72/185 [00:02<00:04, 26.58it/s]\u001b[A\n",
            " 41%|████      | 75/185 [00:02<00:04, 26.56it/s]\u001b[A\n",
            " 42%|████▏     | 78/185 [00:02<00:04, 26.55it/s]\u001b[A\n",
            " 44%|████▍     | 81/185 [00:03<00:03, 26.65it/s]\u001b[A\n",
            " 45%|████▌     | 84/185 [00:03<00:03, 26.78it/s]\u001b[A\n",
            " 47%|████▋     | 87/185 [00:03<00:03, 26.72it/s]\u001b[A\n",
            " 49%|████▊     | 90/185 [00:03<00:03, 26.59it/s]\u001b[A\n",
            " 50%|█████     | 93/185 [00:03<00:03, 26.54it/s]\u001b[A\n",
            " 52%|█████▏    | 96/185 [00:03<00:03, 26.41it/s]\u001b[A\n",
            " 54%|█████▎    | 99/185 [00:03<00:03, 26.35it/s]\u001b[A\n",
            " 55%|█████▌    | 102/185 [00:03<00:03, 26.28it/s]\u001b[A\n",
            " 57%|█████▋    | 105/185 [00:03<00:03, 26.45it/s]\u001b[A\n",
            " 58%|█████▊    | 108/185 [00:04<00:02, 26.51it/s]\u001b[A\n",
            " 60%|██████    | 111/185 [00:04<00:02, 26.59it/s]\u001b[A\n",
            " 62%|██████▏   | 114/185 [00:04<00:02, 26.66it/s]\u001b[A\n",
            " 63%|██████▎   | 117/185 [00:04<00:02, 26.69it/s]\u001b[A\n",
            " 65%|██████▍   | 120/185 [00:04<00:02, 26.59it/s]\u001b[A\n",
            " 66%|██████▋   | 123/185 [00:04<00:02, 26.46it/s]\u001b[A\n",
            " 68%|██████▊   | 126/185 [00:04<00:02, 26.38it/s]\u001b[A\n",
            " 70%|██████▉   | 129/185 [00:04<00:02, 26.57it/s]\u001b[A\n",
            " 71%|███████▏  | 132/185 [00:04<00:01, 26.59it/s]\u001b[A\n",
            " 73%|███████▎  | 135/185 [00:05<00:01, 26.58it/s]\u001b[A\n",
            " 75%|███████▍  | 138/185 [00:05<00:01, 26.46it/s]\u001b[A\n",
            " 76%|███████▌  | 141/185 [00:05<00:01, 26.53it/s]\u001b[A\n",
            " 78%|███████▊  | 144/185 [00:05<00:01, 26.49it/s]\u001b[A\n",
            " 79%|███████▉  | 147/185 [00:05<00:01, 26.55it/s]\u001b[A\n",
            " 81%|████████  | 150/185 [00:05<00:01, 26.66it/s]\u001b[A\n",
            " 83%|████████▎ | 153/185 [00:05<00:01, 26.54it/s]\u001b[A\n",
            " 84%|████████▍ | 156/185 [00:05<00:01, 26.44it/s]\u001b[A\n",
            " 86%|████████▌ | 159/185 [00:05<00:00, 26.36it/s]\u001b[A\n",
            " 88%|████████▊ | 162/185 [00:06<00:00, 26.37it/s]\u001b[A\n",
            " 89%|████████▉ | 165/185 [00:06<00:00, 26.36it/s]\u001b[A\n",
            " 91%|█████████ | 168/185 [00:06<00:00, 26.38it/s]\u001b[A\n",
            " 92%|█████████▏| 171/185 [00:06<00:00, 26.35it/s]\u001b[A\n",
            " 94%|█████████▍| 174/185 [00:06<00:00, 26.44it/s]\u001b[A\n",
            " 96%|█████████▌| 177/185 [00:06<00:00, 26.48it/s]\u001b[A\n",
            " 97%|█████████▋| 180/185 [00:06<00:00, 26.55it/s]\u001b[A\n",
            "100%|██████████| 185/185 [00:06<00:00, 26.61it/s]\n",
            " 50%|█████     | 5/10 [59:39<59:26, 713.33s/it]  "
          ]
        },
        {
          "output_type": "stream",
          "name": "stdout",
          "text": [
            "Building 5...\n",
            "gen Dataset\n",
            "Trainning....\n",
            "Predicting....\n"
          ]
        },
        {
          "output_type": "stream",
          "name": "stderr",
          "text": [
            "\n",
            "  0%|          | 0/185 [00:00<?, ?it/s]\u001b[A\n",
            "  2%|▏         | 3/185 [00:00<00:06, 26.61it/s]\u001b[A\n",
            "  3%|▎         | 6/185 [00:00<00:06, 26.57it/s]\u001b[A\n",
            "  5%|▍         | 9/185 [00:00<00:06, 26.64it/s]\u001b[A\n",
            "  6%|▋         | 12/185 [00:00<00:06, 26.78it/s]\u001b[A\n",
            "  8%|▊         | 15/185 [00:00<00:06, 26.78it/s]\u001b[A\n",
            " 10%|▉         | 18/185 [00:00<00:06, 26.77it/s]\u001b[A\n",
            " 11%|█▏        | 21/185 [00:00<00:06, 26.96it/s]\u001b[A\n",
            " 13%|█▎        | 24/185 [00:00<00:05, 27.16it/s]\u001b[A\n",
            " 15%|█▍        | 27/185 [00:01<00:05, 27.31it/s]\u001b[A\n",
            " 16%|█▌        | 30/185 [00:01<00:05, 27.19it/s]\u001b[A\n",
            " 18%|█▊        | 33/185 [00:01<00:05, 27.16it/s]\u001b[A\n",
            " 19%|█▉        | 36/185 [00:01<00:05, 27.14it/s]\u001b[A\n",
            " 21%|██        | 39/185 [00:01<00:05, 27.18it/s]\u001b[A\n",
            " 23%|██▎       | 42/185 [00:01<00:05, 27.21it/s]\u001b[A\n",
            " 24%|██▍       | 45/185 [00:01<00:05, 27.27it/s]\u001b[A\n",
            " 26%|██▌       | 48/185 [00:01<00:05, 27.26it/s]\u001b[A\n",
            " 28%|██▊       | 51/185 [00:01<00:04, 27.27it/s]\u001b[A\n",
            " 29%|██▉       | 54/185 [00:01<00:04, 27.07it/s]\u001b[A\n",
            " 31%|███       | 57/185 [00:02<00:04, 26.90it/s]\u001b[A\n",
            " 32%|███▏      | 60/185 [00:02<00:04, 26.69it/s]\u001b[A\n",
            " 34%|███▍      | 63/185 [00:02<00:04, 26.73it/s]\u001b[A\n",
            " 36%|███▌      | 66/185 [00:02<00:04, 26.78it/s]\u001b[A\n",
            " 37%|███▋      | 69/185 [00:02<00:04, 26.83it/s]\u001b[A\n",
            " 39%|███▉      | 72/185 [00:02<00:04, 26.86it/s]\u001b[A\n",
            " 41%|████      | 75/185 [00:02<00:04, 26.73it/s]\u001b[A\n",
            " 42%|████▏     | 78/185 [00:02<00:04, 26.62it/s]\u001b[A\n",
            " 44%|████▍     | 81/185 [00:03<00:03, 26.62it/s]\u001b[A\n",
            " 45%|████▌     | 84/185 [00:03<00:03, 26.55it/s]\u001b[A\n",
            " 47%|████▋     | 87/185 [00:03<00:03, 26.52it/s]\u001b[A\n",
            " 49%|████▊     | 90/185 [00:03<00:03, 26.53it/s]\u001b[A\n",
            " 50%|█████     | 93/185 [00:03<00:03, 26.57it/s]\u001b[A\n",
            " 52%|█████▏    | 96/185 [00:03<00:03, 26.59it/s]\u001b[A\n",
            " 54%|█████▎    | 99/185 [00:03<00:03, 26.72it/s]\u001b[A\n",
            " 55%|█████▌    | 102/185 [00:03<00:03, 26.85it/s]\u001b[A\n",
            " 57%|█████▋    | 105/185 [00:03<00:02, 26.88it/s]\u001b[A\n",
            " 58%|█████▊    | 108/185 [00:04<00:02, 26.94it/s]\u001b[A\n",
            " 60%|██████    | 111/185 [00:04<00:02, 26.80it/s]\u001b[A\n",
            " 62%|██████▏   | 114/185 [00:04<00:02, 26.63it/s]\u001b[A\n",
            " 63%|██████▎   | 117/185 [00:04<00:02, 26.52it/s]\u001b[A\n",
            " 65%|██████▍   | 120/185 [00:04<00:02, 26.42it/s]\u001b[A\n",
            " 66%|██████▋   | 123/185 [00:04<00:02, 26.44it/s]\u001b[A\n",
            " 68%|██████▊   | 126/185 [00:04<00:02, 26.45it/s]\u001b[A\n",
            " 70%|██████▉   | 129/185 [00:04<00:02, 26.45it/s]\u001b[A\n",
            " 71%|███████▏  | 132/185 [00:04<00:02, 26.42it/s]\u001b[A\n",
            " 73%|███████▎  | 135/185 [00:05<00:01, 26.44it/s]\u001b[A\n",
            " 75%|███████▍  | 138/185 [00:05<00:01, 26.43it/s]\u001b[A\n",
            " 76%|███████▌  | 141/185 [00:05<00:01, 26.41it/s]\u001b[A\n",
            " 78%|███████▊  | 144/185 [00:05<00:01, 26.37it/s]\u001b[A\n",
            " 79%|███████▉  | 147/185 [00:05<00:01, 26.41it/s]\u001b[A\n",
            " 81%|████████  | 150/185 [00:05<00:01, 26.41it/s]\u001b[A\n",
            " 83%|████████▎ | 153/185 [00:05<00:01, 26.42it/s]\u001b[A\n",
            " 84%|████████▍ | 156/185 [00:05<00:01, 26.49it/s]\u001b[A\n",
            " 86%|████████▌ | 159/185 [00:05<00:00, 26.68it/s]\u001b[A\n",
            " 88%|████████▊ | 162/185 [00:06<00:00, 26.69it/s]\u001b[A\n",
            " 89%|████████▉ | 165/185 [00:06<00:00, 26.47it/s]\u001b[A\n",
            " 91%|█████████ | 168/185 [00:06<00:00, 26.42it/s]\u001b[A\n",
            " 92%|█████████▏| 171/185 [00:06<00:00, 26.42it/s]\u001b[A\n",
            " 94%|█████████▍| 174/185 [00:06<00:00, 26.33it/s]\u001b[A\n",
            " 96%|█████████▌| 177/185 [00:06<00:00, 26.31it/s]\u001b[A\n",
            " 97%|█████████▋| 180/185 [00:06<00:00, 26.34it/s]\u001b[A\n",
            "100%|██████████| 185/185 [00:06<00:00, 26.68it/s]\n",
            " 60%|██████    | 6/10 [1:11:24<47:21, 710.36s/it]"
          ]
        },
        {
          "output_type": "stream",
          "name": "stdout",
          "text": [
            "Building 6...\n",
            "gen Dataset\n",
            "Trainning....\n",
            "Predicting....\n"
          ]
        },
        {
          "output_type": "stream",
          "name": "stderr",
          "text": [
            "\n",
            "  0%|          | 0/185 [00:00<?, ?it/s]\u001b[A\n",
            "  2%|▏         | 3/185 [00:00<00:06, 26.47it/s]\u001b[A\n",
            "  3%|▎         | 6/185 [00:00<00:06, 26.59it/s]\u001b[A\n",
            "  5%|▍         | 9/185 [00:00<00:06, 26.61it/s]\u001b[A\n",
            "  6%|▋         | 12/185 [00:00<00:06, 26.53it/s]\u001b[A\n",
            "  8%|▊         | 15/185 [00:00<00:06, 26.64it/s]\u001b[A\n",
            " 10%|▉         | 18/185 [00:00<00:06, 26.54it/s]\u001b[A\n",
            " 11%|█▏        | 21/185 [00:00<00:06, 26.57it/s]\u001b[A\n",
            " 13%|█▎        | 24/185 [00:00<00:06, 26.48it/s]\u001b[A\n",
            " 15%|█▍        | 27/185 [00:01<00:05, 26.49it/s]\u001b[A\n",
            " 16%|█▌        | 30/185 [00:01<00:05, 26.45it/s]\u001b[A\n",
            " 18%|█▊        | 33/185 [00:01<00:05, 26.49it/s]\u001b[A\n",
            " 19%|█▉        | 36/185 [00:01<00:05, 26.56it/s]\u001b[A\n",
            " 21%|██        | 39/185 [00:01<00:05, 26.59it/s]\u001b[A\n",
            " 23%|██▎       | 42/185 [00:01<00:05, 26.38it/s]\u001b[A\n",
            " 24%|██▍       | 45/185 [00:01<00:05, 26.39it/s]\u001b[A\n",
            " 26%|██▌       | 48/185 [00:01<00:05, 26.35it/s]\u001b[A\n",
            " 28%|██▊       | 51/185 [00:01<00:05, 26.33it/s]\u001b[A\n",
            " 29%|██▉       | 54/185 [00:02<00:04, 26.25it/s]\u001b[A\n",
            " 31%|███       | 57/185 [00:02<00:04, 26.33it/s]\u001b[A\n",
            " 32%|███▏      | 60/185 [00:02<00:04, 26.41it/s]\u001b[A\n",
            " 34%|███▍      | 63/185 [00:02<00:04, 26.62it/s]\u001b[A\n",
            " 36%|███▌      | 66/185 [00:02<00:04, 26.74it/s]\u001b[A\n",
            " 37%|███▋      | 69/185 [00:02<00:04, 26.77it/s]\u001b[A\n",
            " 39%|███▉      | 72/185 [00:02<00:04, 26.66it/s]\u001b[A\n",
            " 41%|████      | 75/185 [00:02<00:04, 26.66it/s]\u001b[A\n",
            " 42%|████▏     | 78/185 [00:02<00:04, 26.67it/s]\u001b[A\n",
            " 44%|████▍     | 81/185 [00:03<00:03, 26.55it/s]\u001b[A\n",
            " 45%|████▌     | 84/185 [00:03<00:03, 26.59it/s]\u001b[A\n",
            " 47%|████▋     | 87/185 [00:03<00:03, 26.65it/s]\u001b[A\n",
            " 49%|████▊     | 90/185 [00:03<00:03, 26.71it/s]\u001b[A\n",
            " 50%|█████     | 93/185 [00:03<00:03, 26.70it/s]\u001b[A\n",
            " 52%|█████▏    | 96/185 [00:03<00:03, 26.64it/s]\u001b[A\n",
            " 54%|█████▎    | 99/185 [00:03<00:03, 26.62it/s]\u001b[A\n",
            " 55%|█████▌    | 102/185 [00:03<00:03, 26.52it/s]\u001b[A\n",
            " 57%|█████▋    | 105/185 [00:03<00:03, 26.52it/s]\u001b[A\n",
            " 58%|█████▊    | 108/185 [00:04<00:02, 26.57it/s]\u001b[A\n",
            " 60%|██████    | 111/185 [00:04<00:02, 26.62it/s]\u001b[A\n",
            " 62%|██████▏   | 114/185 [00:04<00:02, 26.72it/s]\u001b[A\n",
            " 63%|██████▎   | 117/185 [00:04<00:02, 26.76it/s]\u001b[A\n",
            " 65%|██████▍   | 120/185 [00:04<00:02, 26.78it/s]\u001b[A\n",
            " 66%|██████▋   | 123/185 [00:04<00:02, 26.82it/s]\u001b[A\n",
            " 68%|██████▊   | 126/185 [00:04<00:02, 26.79it/s]\u001b[A\n",
            " 70%|██████▉   | 129/185 [00:04<00:02, 26.75it/s]\u001b[A\n",
            " 71%|███████▏  | 132/185 [00:04<00:01, 26.72it/s]\u001b[A\n",
            " 73%|███████▎  | 135/185 [00:05<00:01, 26.68it/s]\u001b[A\n",
            " 75%|███████▍  | 138/185 [00:05<00:01, 26.68it/s]\u001b[A\n",
            " 76%|███████▌  | 141/185 [00:05<00:01, 26.76it/s]\u001b[A\n",
            " 78%|███████▊  | 144/185 [00:05<00:01, 26.83it/s]\u001b[A\n",
            " 79%|███████▉  | 147/185 [00:05<00:01, 26.83it/s]\u001b[A\n",
            " 81%|████████  | 150/185 [00:05<00:01, 26.89it/s]\u001b[A\n",
            " 83%|████████▎ | 153/185 [00:05<00:01, 26.84it/s]\u001b[A\n",
            " 84%|████████▍ | 156/185 [00:05<00:01, 26.76it/s]\u001b[A\n",
            " 86%|████████▌ | 159/185 [00:05<00:00, 26.64it/s]\u001b[A\n",
            " 88%|████████▊ | 162/185 [00:06<00:00, 26.61it/s]\u001b[A\n",
            " 89%|████████▉ | 165/185 [00:06<00:00, 26.79it/s]\u001b[A\n",
            " 91%|█████████ | 168/185 [00:06<00:00, 26.94it/s]\u001b[A\n",
            " 92%|█████████▏| 171/185 [00:06<00:00, 26.88it/s]\u001b[A\n",
            " 94%|█████████▍| 174/185 [00:06<00:00, 26.87it/s]\u001b[A\n",
            " 96%|█████████▌| 177/185 [00:06<00:00, 26.88it/s]\u001b[A\n",
            " 97%|█████████▋| 180/185 [00:06<00:00, 26.95it/s]\u001b[A\n",
            "100%|██████████| 185/185 [00:06<00:00, 26.64it/s]\n",
            " 70%|███████   | 7/10 [1:23:16<35:32, 710.96s/it]"
          ]
        },
        {
          "output_type": "stream",
          "name": "stdout",
          "text": [
            "Building 7...\n",
            "gen Dataset\n",
            "Trainning....\n",
            "Predicting....\n"
          ]
        },
        {
          "output_type": "stream",
          "name": "stderr",
          "text": [
            "\n",
            "  0%|          | 0/185 [00:00<?, ?it/s]\u001b[A\n",
            "  2%|▏         | 3/185 [00:00<00:06, 26.40it/s]\u001b[A\n",
            "  3%|▎         | 6/185 [00:00<00:06, 26.13it/s]\u001b[A\n",
            "  5%|▍         | 9/185 [00:00<00:06, 26.22it/s]\u001b[A\n",
            "  6%|▋         | 12/185 [00:00<00:06, 26.37it/s]\u001b[A\n",
            "  8%|▊         | 15/185 [00:00<00:06, 26.51it/s]\u001b[A\n",
            " 10%|▉         | 18/185 [00:00<00:06, 26.63it/s]\u001b[A\n",
            " 11%|█▏        | 21/185 [00:00<00:06, 26.70it/s]\u001b[A\n",
            " 13%|█▎        | 24/185 [00:00<00:06, 26.69it/s]\u001b[A\n",
            " 15%|█▍        | 27/185 [00:01<00:05, 26.59it/s]\u001b[A\n",
            " 16%|█▌        | 30/185 [00:01<00:05, 26.46it/s]\u001b[A\n",
            " 18%|█▊        | 33/185 [00:01<00:05, 26.36it/s]\u001b[A\n",
            " 19%|█▉        | 36/185 [00:01<00:05, 26.34it/s]\u001b[A\n",
            " 21%|██        | 39/185 [00:01<00:05, 26.43it/s]\u001b[A\n",
            " 23%|██▎       | 42/185 [00:01<00:05, 26.59it/s]\u001b[A\n",
            " 24%|██▍       | 45/185 [00:01<00:05, 26.68it/s]\u001b[A\n",
            " 26%|██▌       | 48/185 [00:01<00:05, 26.79it/s]\u001b[A\n",
            " 28%|██▊       | 51/185 [00:01<00:04, 26.82it/s]\u001b[A\n",
            " 29%|██▉       | 54/185 [00:02<00:04, 26.88it/s]\u001b[A\n",
            " 31%|███       | 57/185 [00:02<00:04, 26.86it/s]\u001b[A\n",
            " 32%|███▏      | 60/185 [00:02<00:04, 26.79it/s]\u001b[A\n",
            " 34%|███▍      | 63/185 [00:02<00:04, 26.61it/s]\u001b[A\n",
            " 36%|███▌      | 66/185 [00:02<00:04, 26.50it/s]\u001b[A\n",
            " 37%|███▋      | 69/185 [00:02<00:04, 26.32it/s]\u001b[A\n",
            " 39%|███▉      | 72/185 [00:02<00:04, 26.22it/s]\u001b[A\n",
            " 41%|████      | 75/185 [00:02<00:04, 26.22it/s]\u001b[A\n",
            " 42%|████▏     | 78/185 [00:02<00:04, 26.25it/s]\u001b[A\n",
            " 44%|████▍     | 81/185 [00:03<00:03, 26.32it/s]\u001b[A\n",
            " 45%|████▌     | 84/185 [00:03<00:03, 26.32it/s]\u001b[A\n",
            " 47%|████▋     | 87/185 [00:03<00:03, 26.42it/s]\u001b[A\n",
            " 49%|████▊     | 90/185 [00:03<00:03, 26.53it/s]\u001b[A\n",
            " 50%|█████     | 93/185 [00:03<00:03, 26.61it/s]\u001b[A\n",
            " 52%|█████▏    | 96/185 [00:03<00:03, 26.49it/s]\u001b[A\n",
            " 54%|█████▎    | 99/185 [00:03<00:03, 26.48it/s]\u001b[A\n",
            " 55%|█████▌    | 102/185 [00:03<00:03, 26.50it/s]\u001b[A\n",
            " 57%|█████▋    | 105/185 [00:03<00:03, 26.57it/s]\u001b[A\n",
            " 58%|█████▊    | 108/185 [00:04<00:02, 26.53it/s]\u001b[A\n",
            " 60%|██████    | 111/185 [00:04<00:02, 26.58it/s]\u001b[A\n",
            " 62%|██████▏   | 114/185 [00:04<00:02, 26.45it/s]\u001b[A\n",
            " 63%|██████▎   | 117/185 [00:04<00:02, 26.40it/s]\u001b[A\n",
            " 65%|██████▍   | 120/185 [00:04<00:02, 26.57it/s]\u001b[A\n",
            " 66%|██████▋   | 123/185 [00:04<00:02, 26.70it/s]\u001b[A\n",
            " 68%|██████▊   | 126/185 [00:04<00:02, 26.55it/s]\u001b[A\n",
            " 70%|██████▉   | 129/185 [00:04<00:02, 26.47it/s]\u001b[A\n",
            " 71%|███████▏  | 132/185 [00:04<00:02, 26.43it/s]\u001b[A\n",
            " 73%|███████▎  | 135/185 [00:05<00:01, 26.39it/s]\u001b[A\n",
            " 75%|███████▍  | 138/185 [00:05<00:01, 26.38it/s]\u001b[A\n",
            " 76%|███████▌  | 141/185 [00:05<00:01, 26.43it/s]\u001b[A\n",
            " 78%|███████▊  | 144/185 [00:05<00:01, 26.52it/s]\u001b[A\n",
            " 79%|███████▉  | 147/185 [00:05<00:01, 26.75it/s]\u001b[A\n",
            " 81%|████████  | 150/185 [00:05<00:01, 26.76it/s]\u001b[A\n",
            " 83%|████████▎ | 153/185 [00:05<00:01, 26.73it/s]\u001b[A\n",
            " 84%|████████▍ | 156/185 [00:05<00:01, 26.88it/s]\u001b[A\n",
            " 86%|████████▌ | 159/185 [00:05<00:00, 27.00it/s]\u001b[A\n",
            " 88%|████████▊ | 162/185 [00:06<00:00, 27.09it/s]\u001b[A\n",
            " 89%|████████▉ | 165/185 [00:06<00:00, 26.98it/s]\u001b[A\n",
            " 91%|█████████ | 168/185 [00:06<00:00, 26.61it/s]\u001b[A\n",
            " 92%|█████████▏| 171/185 [00:06<00:00, 26.46it/s]\u001b[A\n",
            " 94%|█████████▍| 174/185 [00:06<00:00, 26.35it/s]\u001b[A\n",
            " 96%|█████████▌| 177/185 [00:06<00:00, 26.56it/s]\u001b[A\n",
            " 97%|█████████▋| 180/185 [00:06<00:00, 26.76it/s]\u001b[A\n",
            "100%|██████████| 185/185 [00:06<00:00, 26.57it/s]\n",
            " 80%|████████  | 8/10 [1:35:08<23:42, 711.20s/it]"
          ]
        },
        {
          "output_type": "stream",
          "name": "stdout",
          "text": [
            "Building 8...\n",
            "gen Dataset\n",
            "Trainning....\n",
            "Predicting....\n"
          ]
        },
        {
          "output_type": "stream",
          "name": "stderr",
          "text": [
            "\n",
            "  0%|          | 0/185 [00:00<?, ?it/s]\u001b[A\n",
            "  2%|▏         | 3/185 [00:00<00:06, 26.38it/s]\u001b[A\n",
            "  3%|▎         | 6/185 [00:00<00:06, 26.21it/s]\u001b[A\n",
            "  5%|▍         | 9/185 [00:00<00:06, 26.20it/s]\u001b[A\n",
            "  6%|▋         | 12/185 [00:00<00:06, 26.16it/s]\u001b[A\n",
            "  8%|▊         | 15/185 [00:00<00:06, 26.22it/s]\u001b[A\n",
            " 10%|▉         | 18/185 [00:00<00:06, 26.29it/s]\u001b[A\n",
            " 11%|█▏        | 21/185 [00:00<00:06, 26.33it/s]\u001b[A\n",
            " 13%|█▎        | 24/185 [00:00<00:06, 26.16it/s]\u001b[A\n",
            " 15%|█▍        | 27/185 [00:01<00:06, 25.84it/s]\u001b[A\n",
            " 16%|█▌        | 30/185 [00:01<00:05, 25.84it/s]\u001b[A\n",
            " 18%|█▊        | 33/185 [00:01<00:05, 25.84it/s]\u001b[A\n",
            " 19%|█▉        | 36/185 [00:01<00:05, 26.01it/s]\u001b[A\n",
            " 21%|██        | 39/185 [00:01<00:05, 26.03it/s]\u001b[A\n",
            " 23%|██▎       | 42/185 [00:01<00:05, 26.13it/s]\u001b[A\n",
            " 24%|██▍       | 45/185 [00:01<00:05, 26.13it/s]\u001b[A\n",
            " 26%|██▌       | 48/185 [00:01<00:05, 26.15it/s]\u001b[A\n",
            " 28%|██▊       | 51/185 [00:01<00:05, 26.27it/s]\u001b[A\n",
            " 29%|██▉       | 54/185 [00:02<00:04, 26.22it/s]\u001b[A\n",
            " 31%|███       | 57/185 [00:02<00:04, 26.15it/s]\u001b[A\n",
            " 32%|███▏      | 60/185 [00:02<00:04, 26.12it/s]\u001b[A\n",
            " 34%|███▍      | 63/185 [00:02<00:04, 26.10it/s]\u001b[A\n",
            " 36%|███▌      | 66/185 [00:02<00:04, 26.09it/s]\u001b[A\n",
            " 37%|███▋      | 69/185 [00:02<00:04, 26.06it/s]\u001b[A\n",
            " 39%|███▉      | 72/185 [00:02<00:04, 26.19it/s]\u001b[A\n",
            " 41%|████      | 75/185 [00:02<00:04, 26.21it/s]\u001b[A\n",
            " 42%|████▏     | 78/185 [00:02<00:04, 26.30it/s]\u001b[A\n",
            " 44%|████▍     | 81/185 [00:03<00:03, 26.32it/s]\u001b[A\n",
            " 45%|████▌     | 84/185 [00:03<00:03, 26.33it/s]\u001b[A\n",
            " 47%|████▋     | 87/185 [00:03<00:03, 26.34it/s]\u001b[A\n",
            " 49%|████▊     | 90/185 [00:03<00:03, 26.27it/s]\u001b[A\n",
            " 50%|█████     | 93/185 [00:03<00:03, 26.27it/s]\u001b[A\n",
            " 52%|█████▏    | 96/185 [00:03<00:03, 26.21it/s]\u001b[A\n",
            " 54%|█████▎    | 99/185 [00:03<00:03, 26.09it/s]\u001b[A\n",
            " 55%|█████▌    | 102/185 [00:03<00:03, 26.18it/s]\u001b[A\n",
            " 57%|█████▋    | 105/185 [00:04<00:03, 26.25it/s]\u001b[A\n",
            " 58%|█████▊    | 108/185 [00:04<00:02, 26.32it/s]\u001b[A\n",
            " 60%|██████    | 111/185 [00:04<00:02, 26.28it/s]\u001b[A\n",
            " 62%|██████▏   | 114/185 [00:04<00:02, 26.29it/s]\u001b[A\n",
            " 63%|██████▎   | 117/185 [00:04<00:02, 26.19it/s]\u001b[A\n",
            " 65%|██████▍   | 120/185 [00:04<00:02, 26.28it/s]\u001b[A\n",
            " 66%|██████▋   | 123/185 [00:04<00:02, 26.23it/s]\u001b[A\n",
            " 68%|██████▊   | 126/185 [00:04<00:02, 26.21it/s]\u001b[A\n",
            " 70%|██████▉   | 129/185 [00:04<00:02, 26.30it/s]\u001b[A\n",
            " 71%|███████▏  | 132/185 [00:05<00:02, 26.25it/s]\u001b[A\n",
            " 73%|███████▎  | 135/185 [00:05<00:01, 26.21it/s]\u001b[A\n",
            " 75%|███████▍  | 138/185 [00:05<00:01, 26.14it/s]\u001b[A\n",
            " 76%|███████▌  | 141/185 [00:05<00:01, 26.15it/s]\u001b[A\n",
            " 78%|███████▊  | 144/185 [00:05<00:01, 26.12it/s]\u001b[A\n",
            " 79%|███████▉  | 147/185 [00:05<00:01, 26.25it/s]\u001b[A\n",
            " 81%|████████  | 150/185 [00:05<00:01, 26.43it/s]\u001b[A\n",
            " 83%|████████▎ | 153/185 [00:05<00:01, 26.45it/s]\u001b[A\n",
            " 84%|████████▍ | 156/185 [00:05<00:01, 26.49it/s]\u001b[A\n",
            " 86%|████████▌ | 159/185 [00:06<00:00, 26.52it/s]\u001b[A\n",
            " 88%|████████▊ | 162/185 [00:06<00:00, 26.55it/s]\u001b[A\n",
            " 89%|████████▉ | 165/185 [00:06<00:00, 26.60it/s]\u001b[A\n",
            " 91%|█████████ | 168/185 [00:06<00:00, 26.60it/s]\u001b[A\n",
            " 92%|█████████▏| 171/185 [00:06<00:00, 26.55it/s]\u001b[A\n",
            " 94%|█████████▍| 174/185 [00:06<00:00, 26.44it/s]\u001b[A\n",
            " 96%|█████████▌| 177/185 [00:06<00:00, 26.41it/s]\u001b[A\n",
            " 97%|█████████▋| 180/185 [00:06<00:00, 26.41it/s]\u001b[A\n",
            "100%|██████████| 185/185 [00:07<00:00, 26.24it/s]\n",
            " 90%|█████████ | 9/10 [1:47:04<11:52, 712.65s/it]"
          ]
        },
        {
          "output_type": "stream",
          "name": "stdout",
          "text": [
            "Building 9...\n",
            "gen Dataset\n",
            "Trainning....\n",
            "Predicting....\n"
          ]
        },
        {
          "output_type": "stream",
          "name": "stderr",
          "text": [
            "\n",
            "  0%|          | 0/185 [00:00<?, ?it/s]\u001b[A\n",
            "  2%|▏         | 3/185 [00:00<00:06, 26.96it/s]\u001b[A\n",
            "  3%|▎         | 6/185 [00:00<00:06, 26.77it/s]\u001b[A\n",
            "  5%|▍         | 9/185 [00:00<00:06, 26.81it/s]\u001b[A\n",
            "  6%|▋         | 12/185 [00:00<00:06, 26.83it/s]\u001b[A\n",
            "  8%|▊         | 15/185 [00:00<00:06, 26.80it/s]\u001b[A\n",
            " 10%|▉         | 18/185 [00:00<00:06, 26.60it/s]\u001b[A\n",
            " 11%|█▏        | 21/185 [00:00<00:06, 26.59it/s]\u001b[A\n",
            " 13%|█▎        | 24/185 [00:00<00:06, 26.65it/s]\u001b[A\n",
            " 15%|█▍        | 27/185 [00:01<00:05, 26.66it/s]\u001b[A\n",
            " 16%|█▌        | 30/185 [00:01<00:05, 26.46it/s]\u001b[A\n",
            " 18%|█▊        | 33/185 [00:01<00:05, 26.31it/s]\u001b[A\n",
            " 19%|█▉        | 36/185 [00:01<00:05, 26.38it/s]\u001b[A\n",
            " 21%|██        | 39/185 [00:01<00:05, 26.49it/s]\u001b[A\n",
            " 23%|██▎       | 42/185 [00:01<00:05, 26.60it/s]\u001b[A\n",
            " 24%|██▍       | 45/185 [00:01<00:05, 26.70it/s]\u001b[A\n",
            " 26%|██▌       | 48/185 [00:01<00:05, 26.51it/s]\u001b[A\n",
            " 28%|██▊       | 51/185 [00:01<00:05, 26.49it/s]\u001b[A\n",
            " 29%|██▉       | 54/185 [00:02<00:04, 26.49it/s]\u001b[A\n",
            " 31%|███       | 57/185 [00:02<00:04, 26.39it/s]\u001b[A\n",
            " 32%|███▏      | 60/185 [00:02<00:04, 26.24it/s]\u001b[A\n",
            " 34%|███▍      | 63/185 [00:02<00:04, 26.20it/s]\u001b[A\n",
            " 36%|███▌      | 66/185 [00:02<00:04, 26.30it/s]\u001b[A\n",
            " 37%|███▋      | 69/185 [00:02<00:04, 26.39it/s]\u001b[A\n",
            " 39%|███▉      | 72/185 [00:02<00:04, 26.27it/s]\u001b[A\n",
            " 41%|████      | 75/185 [00:02<00:04, 26.38it/s]\u001b[A\n",
            " 42%|████▏     | 78/185 [00:02<00:04, 26.40it/s]\u001b[A\n",
            " 44%|████▍     | 81/185 [00:03<00:03, 26.41it/s]\u001b[A\n",
            " 45%|████▌     | 84/185 [00:03<00:03, 26.38it/s]\u001b[A\n",
            " 47%|████▋     | 87/185 [00:03<00:03, 26.36it/s]\u001b[A\n",
            " 49%|████▊     | 90/185 [00:03<00:03, 26.44it/s]\u001b[A\n",
            " 50%|█████     | 93/185 [00:03<00:03, 26.51it/s]\u001b[A\n",
            " 52%|█████▏    | 96/185 [00:03<00:03, 26.45it/s]\u001b[A\n",
            " 54%|█████▎    | 99/185 [00:03<00:03, 26.29it/s]\u001b[A\n",
            " 55%|█████▌    | 102/185 [00:03<00:03, 26.30it/s]\u001b[A\n",
            " 57%|█████▋    | 105/185 [00:03<00:03, 26.40it/s]\u001b[A\n",
            " 58%|█████▊    | 108/185 [00:04<00:02, 26.55it/s]\u001b[A\n",
            " 60%|██████    | 111/185 [00:04<00:02, 26.44it/s]\u001b[A\n",
            " 62%|██████▏   | 114/185 [00:04<00:02, 26.46it/s]\u001b[A\n",
            " 63%|██████▎   | 117/185 [00:04<00:02, 26.43it/s]\u001b[A\n",
            " 65%|██████▍   | 120/185 [00:04<00:02, 26.53it/s]\u001b[A\n",
            " 66%|██████▋   | 123/185 [00:04<00:02, 26.61it/s]\u001b[A\n",
            " 68%|██████▊   | 126/185 [00:04<00:02, 26.49it/s]\u001b[A\n",
            " 70%|██████▉   | 129/185 [00:04<00:02, 26.36it/s]\u001b[A\n",
            " 71%|███████▏  | 132/185 [00:04<00:02, 26.24it/s]\u001b[A\n",
            " 73%|███████▎  | 135/185 [00:05<00:01, 26.29it/s]\u001b[A\n",
            " 75%|███████▍  | 138/185 [00:05<00:01, 26.22it/s]\u001b[A\n",
            " 76%|███████▌  | 141/185 [00:05<00:01, 26.25it/s]\u001b[A\n",
            " 78%|███████▊  | 144/185 [00:05<00:01, 26.35it/s]\u001b[A\n",
            " 79%|███████▉  | 147/185 [00:05<00:01, 26.33it/s]\u001b[A\n",
            " 81%|████████  | 150/185 [00:05<00:01, 26.47it/s]\u001b[A\n",
            " 83%|████████▎ | 153/185 [00:05<00:01, 26.46it/s]\u001b[A\n",
            " 84%|████████▍ | 156/185 [00:05<00:01, 26.35it/s]\u001b[A\n",
            " 86%|████████▌ | 159/185 [00:06<00:00, 26.33it/s]\u001b[A\n",
            " 88%|████████▊ | 162/185 [00:06<00:00, 26.33it/s]\u001b[A\n",
            " 89%|████████▉ | 165/185 [00:06<00:00, 26.38it/s]\u001b[A\n",
            " 91%|█████████ | 168/185 [00:06<00:00, 26.52it/s]\u001b[A\n",
            " 92%|█████████▏| 171/185 [00:06<00:00, 26.57it/s]\u001b[A\n",
            " 94%|█████████▍| 174/185 [00:06<00:00, 26.56it/s]\u001b[A\n",
            " 96%|█████████▌| 177/185 [00:06<00:00, 26.56it/s]\u001b[A\n",
            " 97%|█████████▋| 180/185 [00:06<00:00, 26.57it/s]\u001b[A\n",
            "100%|██████████| 185/185 [00:06<00:00, 26.45it/s]\n",
            "100%|██████████| 10/10 [1:59:04<00:00, 714.49s/it]"
          ]
        },
        {
          "output_type": "stream",
          "name": "stdout",
          "text": [
            "CPU times: user 2d 10h 23min 41s, sys: 1min 3s, total: 2d 10h 24min 45s\n",
            "Wall time: 1h 59min 5s\n"
          ]
        },
        {
          "output_type": "stream",
          "name": "stderr",
          "text": [
            "\n"
          ]
        }
      ]
    },
    {
      "cell_type": "code",
      "source": [
        "%%time\n",
        "\n",
        "# Re-write\n",
        "\n",
        "models = []\n",
        "oof = np.zeros(len(id_y))\n",
        "p_test_all = np.zeros((100000, var_len, NFOLD))\n",
        "\n",
        "for i, (train_idx, valid_idx) in tqdm(enumerate(stratified(NFOLD)), total=NFOLD):\n",
        "    print()\n",
        "    # train\n",
        "    X_train_cv = X_train_concat[train_idx]\n",
        "    y_train_cv = y_train_concat[train_idx]\n",
        "    \n",
        "    # valid\n",
        "    X_valid = X_train_concat[valid_idx]\n",
        "\n",
        "    print('gen Dataset')\n",
        "    dtrain = lgb.Dataset(\n",
        "        X_train_cv, y_train_cv, \n",
        "        feature_name=['value', 'count_org', 'count_2', 'count_3', 'count_4', 'varnum'], \n",
        "        categorical_feature=['varnum'], free_raw_data=False\n",
        "    )\n",
        "    \n",
        "    print('Training....')\n",
        "    model = lgb.train(params, train_set=dtrain, num_boost_round=NROUND, verbose_eval=100)\n",
        "\n",
        "    model.save_model(f'{OUTPUT}Nhan_model{i}.txt', num_iteration=model.best_iteration)\n",
        "    \n",
        "    print('Predicting....')\n",
        "    p_valid = model.predict(X_valid)\n",
        "    p_test  = model.predict(X_test)\n",
        "    for j in tqdm(range(var_len)):\n",
        "        oof[valid_idx] = p_valid\n",
        "        p_test_all[:, j, i] = p_test[j*100000:(j+1)*100000]\n",
        "    '''\n",
        "        my_model.booster_.save_model('mode.txt')\n",
        "        #load from model:\n",
        "\n",
        "        bst = lgb.Booster(model_file='mode.txt')\n",
        "    '''\n",
        "\n",
        "    models.append(model)"
      ],
      "metadata": {
        "id": "AO1GBz746nTV",
        "colab": {
          "base_uri": "https://localhost:8080/"
        },
        "outputId": "32b68fee-47b2-4f97-adcd-b54141b4a1ae"
      },
      "execution_count": null,
      "outputs": [
        {
          "metadata": {
            "tags": null
          },
          "name": "stderr",
          "output_type": "stream",
          "text": [
            "\r  0%|          | 0/10 [00:00<?, ?it/s]"
          ]
        },
        {
          "metadata": {
            "tags": null
          },
          "name": "stdout",
          "output_type": "stream",
          "text": [
            "\n",
            "gen Dataset\n",
            "Training....\n",
            "Predicting....\n"
          ]
        },
        {
          "metadata": {
            "tags": null
          },
          "name": "stderr",
          "output_type": "stream",
          "text": [
            "\n",
            "  0%|          | 0/185 [00:00<?, ?it/s]\u001b[A\n",
            "  2%|▏         | 3/185 [00:00<00:07, 25.67it/s]\u001b[A\n",
            "  3%|▎         | 6/185 [00:00<00:06, 25.61it/s]\u001b[A\n",
            "  5%|▍         | 9/185 [00:00<00:06, 25.55it/s]\u001b[A\n",
            "  6%|▋         | 12/185 [00:00<00:06, 25.42it/s]\u001b[A\n",
            "  8%|▊         | 15/185 [00:00<00:06, 25.28it/s]\u001b[A\n",
            " 10%|▉         | 18/185 [00:00<00:06, 25.46it/s]\u001b[A\n",
            " 11%|█▏        | 21/185 [00:00<00:06, 25.42it/s]\u001b[A\n",
            " 13%|█▎        | 24/185 [00:00<00:06, 25.53it/s]\u001b[A\n",
            " 15%|█▍        | 27/185 [00:01<00:06, 25.59it/s]\u001b[A\n",
            " 16%|█▌        | 30/185 [00:01<00:06, 25.47it/s]\u001b[A\n",
            " 18%|█▊        | 33/185 [00:01<00:06, 25.22it/s]\u001b[A\n",
            " 19%|█▉        | 36/185 [00:01<00:05, 24.99it/s]\u001b[A\n",
            " 21%|██        | 39/185 [00:01<00:05, 25.10it/s]\u001b[A\n",
            " 23%|██▎       | 42/185 [00:01<00:05, 25.05it/s]\u001b[A\n",
            " 24%|██▍       | 45/185 [00:01<00:05, 25.12it/s]\u001b[A\n",
            " 26%|██▌       | 48/185 [00:01<00:05, 25.30it/s]\u001b[A\n",
            " 28%|██▊       | 51/185 [00:02<00:05, 25.40it/s]\u001b[A\n",
            " 29%|██▉       | 54/185 [00:02<00:05, 25.44it/s]\u001b[A\n",
            " 31%|███       | 57/185 [00:02<00:05, 25.51it/s]\u001b[A\n",
            " 32%|███▏      | 60/185 [00:02<00:04, 25.56it/s]\u001b[A\n",
            " 34%|███▍      | 63/185 [00:02<00:04, 25.59it/s]\u001b[A\n",
            " 36%|███▌      | 66/185 [00:02<00:04, 25.36it/s]\u001b[A\n",
            " 37%|███▋      | 69/185 [00:02<00:04, 25.39it/s]\u001b[A\n",
            " 39%|███▉      | 72/185 [00:02<00:04, 25.45it/s]\u001b[A\n",
            " 41%|████      | 75/185 [00:02<00:04, 25.48it/s]\u001b[A\n",
            " 42%|████▏     | 78/185 [00:03<00:04, 25.67it/s]\u001b[A\n",
            " 44%|████▍     | 81/185 [00:03<00:04, 25.77it/s]\u001b[A\n",
            " 45%|████▌     | 84/185 [00:03<00:03, 25.83it/s]\u001b[A\n",
            " 47%|████▋     | 87/185 [00:03<00:03, 25.85it/s]\u001b[A\n",
            " 49%|████▊     | 90/185 [00:03<00:03, 25.90it/s]\u001b[A\n",
            " 50%|█████     | 93/185 [00:03<00:03, 25.79it/s]\u001b[A\n",
            " 52%|█████▏    | 96/185 [00:03<00:03, 25.74it/s]\u001b[A\n",
            " 54%|█████▎    | 99/185 [00:03<00:03, 25.81it/s]\u001b[A\n",
            " 55%|█████▌    | 102/185 [00:03<00:03, 25.85it/s]\u001b[A\n",
            " 57%|█████▋    | 105/185 [00:04<00:03, 25.72it/s]\u001b[A\n",
            " 58%|█████▊    | 108/185 [00:04<00:02, 25.70it/s]\u001b[A\n",
            " 60%|██████    | 111/185 [00:04<00:02, 25.68it/s]\u001b[A\n",
            " 62%|██████▏   | 114/185 [00:04<00:02, 25.69it/s]\u001b[A\n",
            " 63%|██████▎   | 117/185 [00:04<00:02, 25.78it/s]\u001b[A\n",
            " 65%|██████▍   | 120/185 [00:04<00:02, 25.60it/s]\u001b[A\n",
            " 66%|██████▋   | 123/185 [00:04<00:02, 25.67it/s]\u001b[A\n",
            " 68%|██████▊   | 126/185 [00:04<00:02, 25.65it/s]\u001b[A\n",
            " 70%|██████▉   | 129/185 [00:05<00:02, 25.65it/s]\u001b[A\n",
            " 71%|███████▏  | 132/185 [00:05<00:02, 25.62it/s]\u001b[A\n",
            " 73%|███████▎  | 135/185 [00:05<00:01, 25.63it/s]\u001b[A\n",
            " 75%|███████▍  | 138/185 [00:05<00:01, 25.53it/s]\u001b[A\n",
            " 76%|███████▌  | 141/185 [00:05<00:01, 25.55it/s]\u001b[A\n",
            " 78%|███████▊  | 144/185 [00:05<00:01, 25.49it/s]\u001b[A\n",
            " 79%|███████▉  | 147/185 [00:05<00:01, 25.41it/s]\u001b[A\n",
            " 81%|████████  | 150/185 [00:05<00:01, 25.38it/s]\u001b[A\n",
            " 83%|████████▎ | 153/185 [00:05<00:01, 25.46it/s]\u001b[A\n",
            " 84%|████████▍ | 156/185 [00:06<00:01, 25.62it/s]\u001b[A\n",
            " 86%|████████▌ | 159/185 [00:06<00:01, 25.69it/s]\u001b[A\n",
            " 88%|████████▊ | 162/185 [00:06<00:00, 25.70it/s]\u001b[A\n",
            " 89%|████████▉ | 165/185 [00:06<00:00, 25.79it/s]\u001b[A\n",
            " 91%|█████████ | 168/185 [00:06<00:00, 25.57it/s]\u001b[A\n",
            " 92%|█████████▏| 171/185 [00:06<00:00, 25.28it/s]\u001b[A\n",
            " 94%|█████████▍| 174/185 [00:06<00:00, 25.14it/s]\u001b[A\n",
            " 96%|█████████▌| 177/185 [00:06<00:00, 25.13it/s]\u001b[A\n",
            " 97%|█████████▋| 180/185 [00:07<00:00, 25.12it/s]\u001b[A\n",
            "100%|██████████| 185/185 [00:07<00:00, 25.49it/s]\n",
            " 10%|█         | 1/10 [19:15<2:53:19, 1155.55s/it]"
          ]
        },
        {
          "metadata": {
            "tags": null
          },
          "name": "stdout",
          "output_type": "stream",
          "text": [
            "\n",
            "gen Dataset\n",
            "Training....\n",
            "Predicting....\n"
          ]
        },
        {
          "metadata": {
            "tags": null
          },
          "name": "stderr",
          "output_type": "stream",
          "text": [
            "\n",
            "  0%|          | 0/185 [00:00<?, ?it/s]\u001b[A\n",
            "  2%|▏         | 3/185 [00:00<00:06, 26.36it/s]\u001b[A\n",
            "  3%|▎         | 6/185 [00:00<00:06, 26.21it/s]\u001b[A\n",
            "  5%|▍         | 9/185 [00:00<00:06, 26.26it/s]\u001b[A\n",
            "  6%|▋         | 12/185 [00:00<00:06, 26.30it/s]\u001b[A\n",
            "  8%|▊         | 15/185 [00:00<00:06, 26.41it/s]\u001b[A\n",
            " 10%|▉         | 18/185 [00:00<00:06, 26.53it/s]\u001b[A\n",
            " 11%|█▏        | 21/185 [00:00<00:06, 26.46it/s]\u001b[A\n",
            " 13%|█▎        | 24/185 [00:00<00:06, 26.39it/s]\u001b[A\n",
            " 15%|█▍        | 27/185 [00:01<00:05, 26.42it/s]\u001b[A\n",
            " 16%|█▌        | 30/185 [00:01<00:05, 26.38it/s]\u001b[A\n",
            " 18%|█▊        | 33/185 [00:01<00:05, 26.22it/s]\u001b[A\n",
            " 19%|█▉        | 36/185 [00:01<00:05, 26.24it/s]\u001b[A\n",
            " 21%|██        | 39/185 [00:01<00:05, 26.22it/s]\u001b[A\n",
            " 23%|██▎       | 42/185 [00:01<00:05, 26.19it/s]\u001b[A\n",
            " 24%|██▍       | 45/185 [00:01<00:05, 26.24it/s]\u001b[A\n",
            " 26%|██▌       | 48/185 [00:01<00:05, 26.39it/s]\u001b[A\n",
            " 28%|██▊       | 51/185 [00:01<00:05, 26.22it/s]\u001b[A\n",
            " 29%|██▉       | 54/185 [00:02<00:05, 26.20it/s]\u001b[A\n",
            " 31%|███       | 57/185 [00:02<00:04, 26.26it/s]\u001b[A\n",
            " 32%|███▏      | 60/185 [00:02<00:04, 26.22it/s]\u001b[A\n",
            " 34%|███▍      | 63/185 [00:02<00:04, 26.19it/s]\u001b[A\n",
            " 36%|███▌      | 66/185 [00:02<00:04, 26.21it/s]\u001b[A\n",
            " 37%|███▋      | 69/185 [00:02<00:04, 26.21it/s]\u001b[A\n",
            " 39%|███▉      | 72/185 [00:02<00:04, 26.22it/s]\u001b[A\n",
            " 41%|████      | 75/185 [00:02<00:04, 26.21it/s]\u001b[A\n",
            " 42%|████▏     | 78/185 [00:02<00:04, 26.34it/s]\u001b[A\n",
            " 44%|████▍     | 81/185 [00:03<00:03, 26.27it/s]\u001b[A\n",
            " 45%|████▌     | 84/185 [00:03<00:03, 26.31it/s]\u001b[A\n",
            " 47%|████▋     | 87/185 [00:03<00:03, 26.37it/s]\u001b[A\n",
            " 49%|████▊     | 90/185 [00:03<00:03, 26.35it/s]\u001b[A\n",
            " 50%|█████     | 93/185 [00:03<00:03, 26.37it/s]\u001b[A\n",
            " 52%|█████▏    | 96/185 [00:03<00:03, 26.41it/s]\u001b[A\n",
            " 54%|█████▎    | 99/185 [00:03<00:03, 26.23it/s]\u001b[A\n",
            " 55%|█████▌    | 102/185 [00:03<00:03, 26.30it/s]\u001b[A\n",
            " 57%|█████▋    | 105/185 [00:03<00:03, 26.22it/s]\u001b[A\n",
            " 58%|█████▊    | 108/185 [00:04<00:02, 26.24it/s]\u001b[A\n",
            " 60%|██████    | 111/185 [00:04<00:02, 26.31it/s]\u001b[A\n",
            " 62%|██████▏   | 114/185 [00:04<00:02, 26.30it/s]\u001b[A\n",
            " 63%|██████▎   | 117/185 [00:04<00:02, 26.36it/s]\u001b[A\n",
            " 65%|██████▍   | 120/185 [00:04<00:02, 26.37it/s]\u001b[A\n",
            " 66%|██████▋   | 123/185 [00:04<00:02, 26.42it/s]\u001b[A\n",
            " 68%|██████▊   | 126/185 [00:04<00:02, 26.46it/s]\u001b[A\n",
            " 70%|██████▉   | 129/185 [00:04<00:02, 26.35it/s]\u001b[A\n",
            " 71%|███████▏  | 132/185 [00:05<00:02, 26.33it/s]\u001b[A\n",
            " 73%|███████▎  | 135/185 [00:05<00:01, 26.34it/s]\u001b[A\n",
            " 75%|███████▍  | 138/185 [00:05<00:01, 26.29it/s]\u001b[A\n",
            " 76%|███████▌  | 141/185 [00:05<00:01, 26.31it/s]\u001b[A\n",
            " 78%|███████▊  | 144/185 [00:05<00:01, 26.34it/s]\u001b[A\n",
            " 79%|███████▉  | 147/185 [00:05<00:01, 26.36it/s]\u001b[A\n",
            " 81%|████████  | 150/185 [00:05<00:01, 26.33it/s]\u001b[A\n",
            " 83%|████████▎ | 153/185 [00:05<00:01, 26.22it/s]\u001b[A\n",
            " 84%|████████▍ | 156/185 [00:05<00:01, 26.21it/s]\u001b[A\n",
            " 86%|████████▌ | 159/185 [00:06<00:00, 26.30it/s]\u001b[A\n",
            " 88%|████████▊ | 162/185 [00:06<00:00, 26.34it/s]\u001b[A\n",
            " 89%|████████▉ | 165/185 [00:06<00:00, 26.30it/s]\u001b[A\n",
            " 91%|█████████ | 168/185 [00:06<00:00, 26.40it/s]\u001b[A\n",
            " 92%|█████████▏| 171/185 [00:06<00:00, 26.41it/s]\u001b[A\n",
            " 94%|█████████▍| 174/185 [00:06<00:00, 26.37it/s]\u001b[A\n",
            " 96%|█████████▌| 177/185 [00:06<00:00, 26.41it/s]\u001b[A\n",
            " 97%|█████████▋| 180/185 [00:06<00:00, 26.45it/s]\u001b[A\n",
            "100%|██████████| 185/185 [00:07<00:00, 26.32it/s]\n",
            " 20%|██        | 2/10 [37:59<2:31:36, 1137.09s/it]"
          ]
        },
        {
          "metadata": {
            "tags": null
          },
          "name": "stdout",
          "output_type": "stream",
          "text": [
            "\n",
            "gen Dataset\n",
            "Training....\n",
            "Predicting....\n"
          ]
        },
        {
          "metadata": {
            "tags": null
          },
          "name": "stderr",
          "output_type": "stream",
          "text": [
            "\n",
            "  0%|          | 0/185 [00:00<?, ?it/s]\u001b[A\n",
            "  2%|▏         | 3/185 [00:00<00:06, 26.44it/s]\u001b[A\n",
            "  3%|▎         | 6/185 [00:00<00:06, 26.18it/s]\u001b[A\n",
            "  5%|▍         | 9/185 [00:00<00:06, 26.10it/s]\u001b[A\n",
            "  6%|▋         | 12/185 [00:00<00:06, 26.06it/s]\u001b[A\n",
            "  8%|▊         | 15/185 [00:00<00:06, 26.09it/s]\u001b[A\n",
            " 10%|▉         | 18/185 [00:00<00:06, 26.07it/s]\u001b[A\n",
            " 11%|█▏        | 21/185 [00:00<00:06, 26.08it/s]\u001b[A\n",
            " 13%|█▎        | 24/185 [00:00<00:06, 26.10it/s]\u001b[A\n",
            " 15%|█▍        | 27/185 [00:01<00:06, 26.17it/s]\u001b[A\n",
            " 16%|█▌        | 30/185 [00:01<00:05, 26.18it/s]\u001b[A\n",
            " 18%|█▊        | 33/185 [00:01<00:05, 26.19it/s]\u001b[A\n",
            " 19%|█▉        | 36/185 [00:01<00:05, 26.16it/s]\u001b[A\n",
            " 21%|██        | 39/185 [00:01<00:05, 26.20it/s]\u001b[A\n",
            " 23%|██▎       | 42/185 [00:01<00:05, 26.11it/s]\u001b[A\n",
            " 24%|██▍       | 45/185 [00:01<00:05, 26.20it/s]\u001b[A\n",
            " 26%|██▌       | 48/185 [00:01<00:05, 26.24it/s]\u001b[A\n",
            " 28%|██▊       | 51/185 [00:01<00:05, 26.22it/s]\u001b[A\n",
            " 29%|██▉       | 54/185 [00:02<00:04, 26.21it/s]\u001b[A\n",
            " 31%|███       | 57/185 [00:02<00:04, 26.29it/s]\u001b[A\n",
            " 32%|███▏      | 60/185 [00:02<00:04, 26.30it/s]\u001b[A\n",
            " 34%|███▍      | 63/185 [00:02<00:04, 26.18it/s]\u001b[A\n",
            " 36%|███▌      | 66/185 [00:02<00:04, 26.15it/s]\u001b[A\n",
            " 37%|███▋      | 69/185 [00:02<00:04, 26.17it/s]\u001b[A\n",
            " 39%|███▉      | 72/185 [00:02<00:04, 26.20it/s]\u001b[A\n",
            " 41%|████      | 75/185 [00:02<00:04, 26.19it/s]\u001b[A\n",
            " 42%|████▏     | 78/185 [00:02<00:04, 26.12it/s]\u001b[A\n",
            " 44%|████▍     | 81/185 [00:03<00:03, 26.12it/s]\u001b[A\n",
            " 45%|████▌     | 84/185 [00:03<00:03, 26.13it/s]\u001b[A\n",
            " 47%|████▋     | 87/185 [00:03<00:03, 26.06it/s]\u001b[A\n",
            " 49%|████▊     | 90/185 [00:03<00:03, 26.10it/s]\u001b[A\n",
            " 50%|█████     | 93/185 [00:03<00:03, 26.12it/s]\u001b[A\n",
            " 52%|█████▏    | 96/185 [00:03<00:03, 26.09it/s]\u001b[A\n",
            " 54%|█████▎    | 99/185 [00:03<00:03, 26.10it/s]\u001b[A\n",
            " 55%|█████▌    | 102/185 [00:03<00:03, 26.16it/s]\u001b[A\n",
            " 57%|█████▋    | 105/185 [00:04<00:03, 26.04it/s]\u001b[A\n",
            " 58%|█████▊    | 108/185 [00:04<00:02, 26.21it/s]\u001b[A\n",
            " 60%|██████    | 111/185 [00:04<00:02, 26.15it/s]\u001b[A\n",
            " 62%|██████▏   | 114/185 [00:04<00:02, 26.24it/s]\u001b[A\n",
            " 63%|██████▎   | 117/185 [00:04<00:02, 26.12it/s]\u001b[A\n",
            " 65%|██████▍   | 120/185 [00:04<00:02, 26.08it/s]\u001b[A\n",
            " 66%|██████▋   | 123/185 [00:04<00:02, 26.08it/s]\u001b[A\n",
            " 68%|██████▊   | 126/185 [00:04<00:02, 26.13it/s]\u001b[A\n",
            " 70%|██████▉   | 129/185 [00:04<00:02, 26.18it/s]\u001b[A\n",
            " 71%|███████▏  | 132/185 [00:05<00:02, 26.17it/s]\u001b[A\n",
            " 73%|███████▎  | 135/185 [00:05<00:01, 26.15it/s]\u001b[A\n",
            " 75%|███████▍  | 138/185 [00:05<00:01, 26.15it/s]\u001b[A\n",
            " 76%|███████▌  | 141/185 [00:05<00:01, 26.23it/s]\u001b[A\n",
            " 78%|███████▊  | 144/185 [00:05<00:01, 26.12it/s]\u001b[A\n",
            " 79%|███████▉  | 147/185 [00:05<00:01, 26.18it/s]\u001b[A\n",
            " 81%|████████  | 150/185 [00:05<00:01, 26.07it/s]\u001b[A\n",
            " 83%|████████▎ | 153/185 [00:05<00:01, 26.15it/s]\u001b[A\n",
            " 84%|████████▍ | 156/185 [00:05<00:01, 26.28it/s]\u001b[A\n",
            " 86%|████████▌ | 159/185 [00:06<00:00, 26.23it/s]\u001b[A\n",
            " 88%|████████▊ | 162/185 [00:06<00:00, 26.21it/s]\u001b[A\n",
            " 89%|████████▉ | 165/185 [00:06<00:00, 26.11it/s]\u001b[A\n",
            " 91%|█████████ | 168/185 [00:06<00:00, 25.96it/s]\u001b[A\n",
            " 92%|█████████▏| 171/185 [00:06<00:00, 25.89it/s]\u001b[A\n",
            " 94%|█████████▍| 174/185 [00:06<00:00, 25.89it/s]\u001b[A\n",
            " 96%|█████████▌| 177/185 [00:06<00:00, 25.89it/s]\u001b[A\n",
            " 97%|█████████▋| 180/185 [00:06<00:00, 26.02it/s]\u001b[A\n",
            "100%|██████████| 185/185 [00:07<00:00, 26.12it/s]\n",
            " 30%|███       | 3/10 [55:19<2:07:27, 1092.49s/it]"
          ]
        },
        {
          "metadata": {
            "tags": null
          },
          "name": "stdout",
          "output_type": "stream",
          "text": [
            "\n",
            "gen Dataset\n",
            "Training....\n",
            "Predicting....\n"
          ]
        },
        {
          "metadata": {
            "tags": null
          },
          "name": "stderr",
          "output_type": "stream",
          "text": [
            "\n",
            "  0%|          | 0/185 [00:00<?, ?it/s]\u001b[A\n",
            "  2%|▏         | 3/185 [00:00<00:06, 26.06it/s]\u001b[A\n",
            "  3%|▎         | 6/185 [00:00<00:06, 26.35it/s]\u001b[A\n",
            "  5%|▍         | 9/185 [00:00<00:06, 26.22it/s]\u001b[A\n",
            "  6%|▋         | 12/185 [00:00<00:06, 26.01it/s]\u001b[A\n",
            "  8%|▊         | 15/185 [00:00<00:06, 26.12it/s]\u001b[A\n",
            " 10%|▉         | 18/185 [00:00<00:06, 26.15it/s]\u001b[A\n",
            " 11%|█▏        | 21/185 [00:00<00:06, 26.07it/s]\u001b[A\n",
            " 13%|█▎        | 24/185 [00:00<00:06, 26.15it/s]\u001b[A\n",
            " 15%|█▍        | 27/185 [00:01<00:06, 26.18it/s]\u001b[A\n",
            " 16%|█▌        | 30/185 [00:01<00:05, 26.20it/s]\u001b[A\n",
            " 18%|█▊        | 33/185 [00:01<00:05, 26.24it/s]\u001b[A\n",
            " 19%|█▉        | 36/185 [00:01<00:05, 26.16it/s]\u001b[A\n",
            " 21%|██        | 39/185 [00:01<00:05, 26.13it/s]\u001b[A\n",
            " 23%|██▎       | 42/185 [00:01<00:05, 26.08it/s]\u001b[A\n",
            " 24%|██▍       | 45/185 [00:01<00:05, 26.08it/s]\u001b[A\n",
            " 26%|██▌       | 48/185 [00:01<00:05, 26.08it/s]\u001b[A\n",
            " 28%|██▊       | 51/185 [00:01<00:05, 26.11it/s]\u001b[A\n",
            " 29%|██▉       | 54/185 [00:02<00:05, 26.07it/s]\u001b[A\n",
            " 31%|███       | 57/185 [00:02<00:04, 26.36it/s]\u001b[A\n",
            " 32%|███▏      | 60/185 [00:02<00:04, 26.33it/s]\u001b[A\n",
            " 34%|███▍      | 63/185 [00:02<00:04, 26.28it/s]\u001b[A\n",
            " 36%|███▌      | 66/185 [00:02<00:04, 26.23it/s]\u001b[A\n",
            " 37%|███▋      | 69/185 [00:02<00:04, 26.22it/s]\u001b[A\n",
            " 39%|███▉      | 72/185 [00:02<00:04, 26.24it/s]\u001b[A\n",
            " 41%|████      | 75/185 [00:02<00:04, 26.27it/s]\u001b[A\n",
            " 42%|████▏     | 78/185 [00:02<00:04, 26.24it/s]\u001b[A\n",
            " 44%|████▍     | 81/185 [00:03<00:03, 26.29it/s]\u001b[A\n",
            " 45%|████▌     | 84/185 [00:03<00:03, 26.28it/s]\u001b[A\n",
            " 47%|████▋     | 87/185 [00:03<00:03, 26.21it/s]\u001b[A\n",
            " 49%|████▊     | 90/185 [00:03<00:03, 26.21it/s]\u001b[A\n",
            " 50%|█████     | 93/185 [00:03<00:03, 26.17it/s]\u001b[A\n",
            " 52%|█████▏    | 96/185 [00:03<00:03, 26.19it/s]\u001b[A\n",
            " 54%|█████▎    | 99/185 [00:03<00:03, 26.13it/s]\u001b[A\n",
            " 55%|█████▌    | 102/185 [00:03<00:03, 26.10it/s]\u001b[A\n",
            " 57%|█████▋    | 105/185 [00:04<00:03, 26.25it/s]\u001b[A\n",
            " 58%|█████▊    | 108/185 [00:04<00:02, 26.39it/s]\u001b[A\n",
            " 60%|██████    | 111/185 [00:04<00:02, 26.32it/s]\u001b[A\n",
            " 62%|██████▏   | 114/185 [00:04<00:02, 26.44it/s]\u001b[A\n",
            " 63%|██████▎   | 117/185 [00:04<00:02, 26.46it/s]\u001b[A\n",
            " 65%|██████▍   | 120/185 [00:04<00:02, 26.34it/s]\u001b[A\n",
            " 66%|██████▋   | 123/185 [00:04<00:02, 26.33it/s]\u001b[A\n",
            " 68%|██████▊   | 126/185 [00:04<00:02, 26.38it/s]\u001b[A\n",
            " 70%|██████▉   | 129/185 [00:04<00:02, 26.43it/s]\u001b[A\n",
            " 71%|███████▏  | 132/185 [00:05<00:02, 26.42it/s]\u001b[A\n",
            " 73%|███████▎  | 135/185 [00:05<00:01, 26.38it/s]\u001b[A\n",
            " 75%|███████▍  | 138/185 [00:05<00:01, 26.36it/s]\u001b[A\n",
            " 76%|███████▌  | 141/185 [00:05<00:01, 26.36it/s]\u001b[A\n",
            " 78%|███████▊  | 144/185 [00:05<00:01, 26.27it/s]\u001b[A\n",
            " 79%|███████▉  | 147/185 [00:05<00:01, 26.33it/s]\u001b[A\n",
            " 81%|████████  | 150/185 [00:05<00:01, 26.37it/s]\u001b[A\n",
            " 83%|████████▎ | 153/185 [00:05<00:01, 26.34it/s]\u001b[A\n",
            " 84%|████████▍ | 156/185 [00:05<00:01, 26.34it/s]\u001b[A\n",
            " 86%|████████▌ | 159/185 [00:06<00:00, 26.30it/s]\u001b[A\n",
            " 88%|████████▊ | 162/185 [00:06<00:00, 26.30it/s]\u001b[A\n",
            " 89%|████████▉ | 165/185 [00:06<00:00, 26.27it/s]\u001b[A\n",
            " 91%|█████████ | 168/185 [00:06<00:00, 26.23it/s]\u001b[A\n",
            " 92%|█████████▏| 171/185 [00:06<00:00, 26.22it/s]\u001b[A\n",
            " 94%|█████████▍| 174/185 [00:06<00:00, 26.19it/s]\u001b[A\n",
            " 96%|█████████▌| 177/185 [00:06<00:00, 26.18it/s]\u001b[A\n",
            " 97%|█████████▋| 180/185 [00:06<00:00, 26.22it/s]\u001b[A\n",
            "100%|██████████| 185/185 [00:07<00:00, 26.24it/s]\n",
            " 40%|████      | 4/10 [1:12:25<1:46:38, 1066.45s/it]"
          ]
        },
        {
          "metadata": {
            "tags": null
          },
          "name": "stdout",
          "output_type": "stream",
          "text": [
            "\n",
            "gen Dataset\n",
            "Training....\n",
            "Predicting....\n"
          ]
        },
        {
          "metadata": {
            "tags": null
          },
          "name": "stderr",
          "output_type": "stream",
          "text": [
            "\n",
            "  0%|          | 0/185 [00:00<?, ?it/s]\u001b[A\n",
            "  2%|▏         | 3/185 [00:00<00:06, 26.45it/s]\u001b[A\n",
            "  3%|▎         | 6/185 [00:00<00:06, 26.53it/s]\u001b[A\n",
            "  5%|▍         | 9/185 [00:00<00:06, 26.43it/s]\u001b[A\n",
            "  6%|▋         | 12/185 [00:00<00:06, 26.43it/s]\u001b[A\n",
            "  8%|▊         | 15/185 [00:00<00:06, 26.37it/s]\u001b[A\n",
            " 10%|▉         | 18/185 [00:00<00:06, 26.31it/s]\u001b[A\n",
            " 11%|█▏        | 21/185 [00:00<00:06, 26.25it/s]\u001b[A\n",
            " 13%|█▎        | 24/185 [00:00<00:06, 25.97it/s]\u001b[A\n",
            " 15%|█▍        | 27/185 [00:01<00:06, 26.02it/s]\u001b[A\n",
            " 16%|█▌        | 30/185 [00:01<00:05, 26.00it/s]\u001b[A\n",
            " 18%|█▊        | 33/185 [00:01<00:05, 26.04it/s]\u001b[A\n",
            " 19%|█▉        | 36/185 [00:01<00:05, 25.95it/s]\u001b[A\n",
            " 21%|██        | 39/185 [00:01<00:05, 26.08it/s]\u001b[A\n",
            " 23%|██▎       | 42/185 [00:01<00:05, 26.21it/s]\u001b[A\n",
            " 24%|██▍       | 45/185 [00:01<00:05, 26.25it/s]\u001b[A\n",
            " 26%|██▌       | 48/185 [00:01<00:05, 26.32it/s]\u001b[A\n",
            " 28%|██▊       | 51/185 [00:01<00:05, 26.30it/s]\u001b[A\n",
            " 29%|██▉       | 54/185 [00:02<00:04, 26.29it/s]\u001b[A\n",
            " 31%|███       | 57/185 [00:02<00:04, 26.20it/s]\u001b[A\n",
            " 32%|███▏      | 60/185 [00:02<00:04, 26.25it/s]\u001b[A\n",
            " 34%|███▍      | 63/185 [00:02<00:04, 26.16it/s]\u001b[A\n",
            " 36%|███▌      | 66/185 [00:02<00:04, 26.18it/s]\u001b[A\n",
            " 37%|███▋      | 69/185 [00:02<00:04, 26.21it/s]\u001b[A\n",
            " 39%|███▉      | 72/185 [00:02<00:04, 26.24it/s]\u001b[A\n",
            " 41%|████      | 75/185 [00:02<00:04, 26.20it/s]\u001b[A\n",
            " 42%|████▏     | 78/185 [00:02<00:04, 26.13it/s]\u001b[A\n",
            " 44%|████▍     | 81/185 [00:03<00:03, 26.29it/s]\u001b[A\n",
            " 45%|████▌     | 84/185 [00:03<00:03, 26.32it/s]\u001b[A\n",
            " 47%|████▋     | 87/185 [00:03<00:03, 26.25it/s]\u001b[A\n",
            " 49%|████▊     | 90/185 [00:03<00:03, 26.15it/s]\u001b[A\n",
            " 50%|█████     | 93/185 [00:03<00:03, 26.21it/s]\u001b[A\n",
            " 52%|█████▏    | 96/185 [00:03<00:03, 26.29it/s]\u001b[A\n",
            " 54%|█████▎    | 99/185 [00:03<00:03, 26.30it/s]\u001b[A\n",
            " 55%|█████▌    | 102/185 [00:03<00:03, 26.36it/s]\u001b[A\n",
            " 57%|█████▋    | 105/185 [00:04<00:03, 26.36it/s]\u001b[A\n",
            " 58%|█████▊    | 108/185 [00:04<00:02, 26.26it/s]\u001b[A\n",
            " 60%|██████    | 111/185 [00:04<00:02, 26.23it/s]\u001b[A\n",
            " 62%|██████▏   | 114/185 [00:04<00:02, 26.14it/s]\u001b[A\n",
            " 63%|██████▎   | 117/185 [00:04<00:02, 26.31it/s]\u001b[A\n",
            " 65%|██████▍   | 120/185 [00:04<00:02, 26.25it/s]\u001b[A\n",
            " 66%|██████▋   | 123/185 [00:04<00:02, 26.25it/s]\u001b[A\n",
            " 68%|██████▊   | 126/185 [00:04<00:02, 26.15it/s]\u001b[A\n",
            " 70%|██████▉   | 129/185 [00:04<00:02, 26.10it/s]\u001b[A\n",
            " 71%|███████▏  | 132/185 [00:05<00:02, 26.08it/s]\u001b[A\n",
            " 73%|███████▎  | 135/185 [00:05<00:01, 26.19it/s]\u001b[A\n",
            " 75%|███████▍  | 138/185 [00:05<00:01, 26.16it/s]\u001b[A\n",
            " 76%|███████▌  | 141/185 [00:05<00:01, 26.17it/s]\u001b[A\n",
            " 78%|███████▊  | 144/185 [00:05<00:01, 26.23it/s]\u001b[A\n",
            " 79%|███████▉  | 147/185 [00:05<00:01, 26.21it/s]\u001b[A\n",
            " 81%|████████  | 150/185 [00:05<00:01, 26.29it/s]\u001b[A\n",
            " 83%|████████▎ | 153/185 [00:05<00:01, 26.33it/s]\u001b[A\n",
            " 84%|████████▍ | 156/185 [00:05<00:01, 26.26it/s]\u001b[A\n",
            " 86%|████████▌ | 159/185 [00:06<00:00, 26.27it/s]\u001b[A\n",
            " 88%|████████▊ | 162/185 [00:06<00:00, 26.14it/s]\u001b[A\n",
            " 89%|████████▉ | 165/185 [00:06<00:00, 26.15it/s]\u001b[A\n",
            " 91%|█████████ | 168/185 [00:06<00:00, 26.19it/s]\u001b[A\n",
            " 92%|█████████▏| 171/185 [00:06<00:00, 26.17it/s]\u001b[A\n",
            " 94%|█████████▍| 174/185 [00:06<00:00, 26.23it/s]\u001b[A\n",
            " 96%|█████████▌| 177/185 [00:06<00:00, 26.34it/s]\u001b[A\n",
            " 97%|█████████▋| 180/185 [00:06<00:00, 26.26it/s]\u001b[A\n",
            "100%|██████████| 185/185 [00:07<00:00, 26.22it/s]\n",
            " 50%|█████     | 5/10 [1:29:24<1:27:25, 1049.14s/it]"
          ]
        },
        {
          "metadata": {
            "tags": null
          },
          "name": "stdout",
          "output_type": "stream",
          "text": [
            "\n",
            "gen Dataset\n",
            "Training....\n",
            "Predicting....\n"
          ]
        },
        {
          "metadata": {
            "tags": null
          },
          "name": "stderr",
          "output_type": "stream",
          "text": [
            "\n",
            "  0%|          | 0/185 [00:00<?, ?it/s]\u001b[A\n",
            "  2%|▏         | 3/185 [00:00<00:06, 26.48it/s]\u001b[A\n",
            "  3%|▎         | 6/185 [00:00<00:07, 25.48it/s]\u001b[A\n",
            "  5%|▍         | 9/185 [00:00<00:06, 25.26it/s]\u001b[A\n",
            "  6%|▋         | 12/185 [00:00<00:06, 25.56it/s]\u001b[A\n",
            "  8%|▊         | 15/185 [00:00<00:06, 25.77it/s]\u001b[A\n",
            " 10%|▉         | 18/185 [00:00<00:06, 25.91it/s]\u001b[A\n",
            " 11%|█▏        | 21/185 [00:00<00:06, 25.88it/s]\u001b[A\n",
            " 13%|█▎        | 24/185 [00:00<00:06, 25.92it/s]\u001b[A\n",
            " 15%|█▍        | 27/185 [00:01<00:06, 26.02it/s]\u001b[A\n",
            " 16%|█▌        | 30/185 [00:01<00:05, 26.12it/s]\u001b[A\n",
            " 18%|█▊        | 33/185 [00:01<00:05, 26.07it/s]\u001b[A\n",
            " 19%|█▉        | 36/185 [00:01<00:05, 26.00it/s]\u001b[A\n",
            " 21%|██        | 39/185 [00:01<00:05, 25.85it/s]\u001b[A\n",
            " 23%|██▎       | 42/185 [00:01<00:05, 25.90it/s]\u001b[A\n",
            " 24%|██▍       | 45/185 [00:01<00:05, 25.79it/s]\u001b[A\n",
            " 26%|██▌       | 48/185 [00:01<00:05, 25.84it/s]\u001b[A\n",
            " 28%|██▊       | 51/185 [00:01<00:05, 25.86it/s]\u001b[A\n",
            " 29%|██▉       | 54/185 [00:02<00:05, 25.95it/s]\u001b[A\n",
            " 31%|███       | 57/185 [00:02<00:04, 26.03it/s]\u001b[A\n",
            " 32%|███▏      | 60/185 [00:02<00:04, 26.05it/s]\u001b[A\n",
            " 34%|███▍      | 63/185 [00:02<00:04, 26.04it/s]\u001b[A\n",
            " 36%|███▌      | 66/185 [00:02<00:04, 26.13it/s]\u001b[A\n",
            " 37%|███▋      | 69/185 [00:02<00:04, 26.22it/s]\u001b[A\n",
            " 39%|███▉      | 72/185 [00:02<00:04, 26.25it/s]\u001b[A\n",
            " 41%|████      | 75/185 [00:02<00:04, 26.33it/s]\u001b[A\n",
            " 42%|████▏     | 78/185 [00:03<00:04, 26.37it/s]\u001b[A\n",
            " 44%|████▍     | 81/185 [00:03<00:03, 26.28it/s]\u001b[A\n",
            " 45%|████▌     | 84/185 [00:03<00:03, 26.26it/s]\u001b[A\n",
            " 47%|████▋     | 87/185 [00:03<00:03, 26.15it/s]\u001b[A\n",
            " 49%|████▊     | 90/185 [00:03<00:03, 26.21it/s]\u001b[A\n",
            " 50%|█████     | 93/185 [00:03<00:03, 26.26it/s]\u001b[A\n",
            " 52%|█████▏    | 96/185 [00:03<00:03, 26.25it/s]\u001b[A\n",
            " 54%|█████▎    | 99/185 [00:03<00:03, 26.23it/s]\u001b[A\n",
            " 55%|█████▌    | 102/185 [00:03<00:03, 26.30it/s]\u001b[A\n",
            " 57%|█████▋    | 105/185 [00:04<00:03, 26.19it/s]\u001b[A\n",
            " 58%|█████▊    | 108/185 [00:04<00:02, 26.32it/s]\u001b[A\n",
            " 60%|██████    | 111/185 [00:04<00:02, 26.33it/s]\u001b[A\n",
            " 62%|██████▏   | 114/185 [00:04<00:02, 26.23it/s]\u001b[A\n",
            " 63%|██████▎   | 117/185 [00:04<00:02, 26.25it/s]\u001b[A\n",
            " 65%|██████▍   | 120/185 [00:04<00:02, 26.25it/s]\u001b[A\n",
            " 66%|██████▋   | 123/185 [00:04<00:02, 26.16it/s]\u001b[A\n",
            " 68%|██████▊   | 126/185 [00:04<00:02, 26.14it/s]\u001b[A\n",
            " 70%|██████▉   | 129/185 [00:04<00:02, 26.11it/s]\u001b[A\n",
            " 71%|███████▏  | 132/185 [00:05<00:02, 26.08it/s]\u001b[A\n",
            " 73%|███████▎  | 135/185 [00:05<00:01, 25.91it/s]\u001b[A\n",
            " 75%|███████▍  | 138/185 [00:05<00:01, 25.88it/s]\u001b[A\n",
            " 76%|███████▌  | 141/185 [00:05<00:01, 25.92it/s]\u001b[A\n",
            " 78%|███████▊  | 144/185 [00:05<00:01, 25.92it/s]\u001b[A\n",
            " 79%|███████▉  | 147/185 [00:05<00:01, 25.94it/s]\u001b[A\n",
            " 81%|████████  | 150/185 [00:05<00:01, 26.08it/s]\u001b[A\n",
            " 83%|████████▎ | 153/185 [00:05<00:01, 26.06it/s]\u001b[A\n",
            " 84%|████████▍ | 156/185 [00:05<00:01, 26.03it/s]\u001b[A\n",
            " 86%|████████▌ | 159/185 [00:06<00:00, 26.03it/s]\u001b[A\n",
            " 88%|████████▊ | 162/185 [00:06<00:00, 26.05it/s]\u001b[A\n",
            " 89%|████████▉ | 165/185 [00:06<00:00, 26.09it/s]\u001b[A\n",
            " 91%|█████████ | 168/185 [00:06<00:00, 26.04it/s]\u001b[A\n",
            " 92%|█████████▏| 171/185 [00:06<00:00, 25.91it/s]\u001b[A\n",
            " 94%|█████████▍| 174/185 [00:06<00:00, 25.92it/s]\u001b[A\n",
            " 96%|█████████▌| 177/185 [00:06<00:00, 25.92it/s]\u001b[A\n",
            " 97%|█████████▋| 180/185 [00:06<00:00, 25.96it/s]\u001b[A\n",
            "100%|██████████| 185/185 [00:07<00:00, 26.05it/s]\n",
            " 60%|██████    | 6/10 [1:46:35<1:09:32, 1043.17s/it]"
          ]
        },
        {
          "metadata": {
            "tags": null
          },
          "name": "stdout",
          "output_type": "stream",
          "text": [
            "\n",
            "gen Dataset\n",
            "Training....\n",
            "Predicting....\n"
          ]
        },
        {
          "metadata": {
            "tags": null
          },
          "name": "stderr",
          "output_type": "stream",
          "text": [
            "\n",
            "  0%|          | 0/185 [00:00<?, ?it/s]\u001b[A\n",
            "  2%|▏         | 3/185 [00:00<00:07, 25.69it/s]\u001b[A\n",
            "  3%|▎         | 6/185 [00:00<00:06, 26.10it/s]\u001b[A\n",
            "  5%|▍         | 9/185 [00:00<00:06, 26.00it/s]\u001b[A\n",
            "  6%|▋         | 12/185 [00:00<00:06, 26.17it/s]\u001b[A\n",
            "  8%|▊         | 15/185 [00:00<00:06, 26.17it/s]\u001b[A\n",
            " 10%|▉         | 18/185 [00:00<00:06, 26.24it/s]\u001b[A\n",
            " 11%|█▏        | 21/185 [00:00<00:06, 26.30it/s]\u001b[A\n",
            " 13%|█▎        | 24/185 [00:00<00:06, 26.33it/s]\u001b[A\n",
            " 15%|█▍        | 27/185 [00:01<00:06, 26.25it/s]\u001b[A\n",
            " 16%|█▌        | 30/185 [00:01<00:05, 26.25it/s]\u001b[A\n",
            " 18%|█▊        | 33/185 [00:01<00:05, 26.20it/s]\u001b[A\n",
            " 19%|█▉        | 36/185 [00:01<00:05, 26.13it/s]\u001b[A\n",
            " 21%|██        | 39/185 [00:01<00:05, 26.15it/s]\u001b[A\n",
            " 23%|██▎       | 42/185 [00:01<00:05, 26.09it/s]\u001b[A\n",
            " 24%|██▍       | 45/185 [00:01<00:05, 26.06it/s]\u001b[A\n",
            " 26%|██▌       | 48/185 [00:01<00:05, 26.04it/s]\u001b[A\n",
            " 28%|██▊       | 51/185 [00:01<00:05, 26.22it/s]\u001b[A\n",
            " 29%|██▉       | 54/185 [00:02<00:05, 26.11it/s]\u001b[A\n",
            " 31%|███       | 57/185 [00:02<00:04, 26.14it/s]\u001b[A\n",
            " 32%|███▏      | 60/185 [00:02<00:04, 26.15it/s]\u001b[A\n",
            " 34%|███▍      | 63/185 [00:02<00:04, 26.17it/s]\u001b[A\n",
            " 36%|███▌      | 66/185 [00:02<00:04, 26.24it/s]\u001b[A\n",
            " 37%|███▋      | 69/185 [00:02<00:04, 26.16it/s]\u001b[A\n",
            " 39%|███▉      | 72/185 [00:02<00:04, 26.21it/s]\u001b[A\n",
            " 41%|████      | 75/185 [00:02<00:04, 26.17it/s]\u001b[A\n",
            " 42%|████▏     | 78/185 [00:02<00:04, 26.28it/s]\u001b[A\n",
            " 44%|████▍     | 81/185 [00:03<00:03, 26.28it/s]\u001b[A\n",
            " 45%|████▌     | 84/185 [00:03<00:03, 26.23it/s]\u001b[A\n",
            " 47%|████▋     | 87/185 [00:03<00:03, 26.15it/s]\u001b[A\n",
            " 49%|████▊     | 90/185 [00:03<00:03, 26.16it/s]\u001b[A\n",
            " 50%|█████     | 93/185 [00:03<00:03, 26.16it/s]\u001b[A\n",
            " 52%|█████▏    | 96/185 [00:03<00:03, 26.14it/s]\u001b[A\n",
            " 54%|█████▎    | 99/185 [00:03<00:03, 26.13it/s]\u001b[A\n",
            " 55%|█████▌    | 102/185 [00:03<00:03, 26.27it/s]\u001b[A\n",
            " 57%|█████▋    | 105/185 [00:04<00:03, 26.12it/s]\u001b[A\n",
            " 58%|█████▊    | 108/185 [00:04<00:02, 26.10it/s]\u001b[A\n",
            " 60%|██████    | 111/185 [00:04<00:02, 26.11it/s]\u001b[A\n",
            " 62%|██████▏   | 114/185 [00:04<00:02, 26.19it/s]\u001b[A\n",
            " 63%|██████▎   | 117/185 [00:04<00:02, 26.32it/s]\u001b[A\n",
            " 65%|██████▍   | 120/185 [00:04<00:02, 26.42it/s]\u001b[A\n",
            " 66%|██████▋   | 123/185 [00:04<00:02, 26.45it/s]\u001b[A\n",
            " 68%|██████▊   | 126/185 [00:04<00:02, 26.36it/s]\u001b[A\n",
            " 70%|██████▉   | 129/185 [00:04<00:02, 26.31it/s]\u001b[A\n",
            " 71%|███████▏  | 132/185 [00:05<00:02, 26.19it/s]\u001b[A\n",
            " 73%|███████▎  | 135/185 [00:05<00:01, 26.15it/s]\u001b[A\n",
            " 75%|███████▍  | 138/185 [00:05<00:01, 26.02it/s]\u001b[A\n",
            " 76%|███████▌  | 141/185 [00:05<00:01, 26.11it/s]\u001b[A\n",
            " 78%|███████▊  | 144/185 [00:05<00:01, 26.20it/s]\u001b[A\n",
            " 79%|███████▉  | 147/185 [00:05<00:01, 26.12it/s]\u001b[A\n",
            " 81%|████████  | 150/185 [00:05<00:01, 26.06it/s]\u001b[A\n",
            " 83%|████████▎ | 153/185 [00:05<00:01, 25.91it/s]\u001b[A\n",
            " 84%|████████▍ | 156/185 [00:05<00:01, 25.76it/s]\u001b[A\n",
            " 86%|████████▌ | 159/185 [00:06<00:01, 25.74it/s]\u001b[A\n",
            " 88%|████████▊ | 162/185 [00:06<00:00, 25.73it/s]\u001b[A\n",
            " 89%|████████▉ | 165/185 [00:06<00:00, 25.73it/s]\u001b[A\n",
            " 91%|█████████ | 168/185 [00:06<00:00, 25.87it/s]\u001b[A\n",
            " 92%|█████████▏| 171/185 [00:06<00:00, 26.09it/s]\u001b[A\n",
            " 94%|█████████▍| 174/185 [00:06<00:00, 26.05it/s]\u001b[A\n",
            " 96%|█████████▌| 177/185 [00:06<00:00, 26.09it/s]\u001b[A\n",
            " 97%|█████████▋| 180/185 [00:06<00:00, 26.02it/s]\u001b[A\n",
            "100%|██████████| 185/185 [00:07<00:00, 26.11it/s]\n",
            " 70%|███████   | 7/10 [2:03:43<51:54, 1038.25s/it]  "
          ]
        },
        {
          "output_type": "stream",
          "name": "stdout",
          "text": [
            "\n",
            "gen Dataset\n",
            "Training....\n",
            "Predicting....\n"
          ]
        },
        {
          "output_type": "stream",
          "name": "stderr",
          "text": [
            "\n",
            "  0%|          | 0/185 [00:00<?, ?it/s]\u001b[A\n",
            "  2%|▏         | 3/185 [00:00<00:07, 24.74it/s]\u001b[A\n",
            "  3%|▎         | 6/185 [00:00<00:07, 25.49it/s]\u001b[A\n",
            "  5%|▍         | 9/185 [00:00<00:06, 25.69it/s]\u001b[A\n",
            "  6%|▋         | 12/185 [00:00<00:06, 25.80it/s]\u001b[A\n",
            "  8%|▊         | 15/185 [00:00<00:06, 25.92it/s]\u001b[A\n",
            " 10%|▉         | 18/185 [00:00<00:06, 26.05it/s]\u001b[A\n",
            " 11%|█▏        | 21/185 [00:00<00:06, 26.05it/s]\u001b[A\n",
            " 13%|█▎        | 24/185 [00:00<00:06, 26.01it/s]\u001b[A\n",
            " 15%|█▍        | 27/185 [00:01<00:06, 25.96it/s]\u001b[A\n",
            " 16%|█▌        | 30/185 [00:01<00:05, 25.93it/s]\u001b[A\n",
            " 18%|█▊        | 33/185 [00:01<00:05, 25.91it/s]\u001b[A\n",
            " 19%|█▉        | 36/185 [00:01<00:05, 25.99it/s]\u001b[A\n",
            " 21%|██        | 39/185 [00:01<00:05, 25.88it/s]\u001b[A\n",
            " 23%|██▎       | 42/185 [00:01<00:05, 25.87it/s]\u001b[A\n",
            " 24%|██▍       | 45/185 [00:01<00:05, 25.91it/s]\u001b[A\n",
            " 26%|██▌       | 48/185 [00:01<00:05, 25.86it/s]\u001b[A\n",
            " 28%|██▊       | 51/185 [00:01<00:05, 25.87it/s]\u001b[A\n",
            " 29%|██▉       | 54/185 [00:02<00:05, 25.89it/s]\u001b[A\n",
            " 31%|███       | 57/185 [00:02<00:04, 25.87it/s]\u001b[A\n",
            " 32%|███▏      | 60/185 [00:02<00:04, 25.93it/s]\u001b[A\n",
            " 34%|███▍      | 63/185 [00:02<00:04, 25.97it/s]\u001b[A\n",
            " 36%|███▌      | 66/185 [00:02<00:04, 26.06it/s]\u001b[A\n",
            " 37%|███▋      | 69/185 [00:02<00:04, 26.06it/s]\u001b[A\n",
            " 39%|███▉      | 72/185 [00:02<00:04, 26.03it/s]\u001b[A\n",
            " 41%|████      | 75/185 [00:02<00:04, 25.95it/s]\u001b[A\n",
            " 42%|████▏     | 78/185 [00:03<00:04, 25.98it/s]\u001b[A\n",
            " 44%|████▍     | 81/185 [00:03<00:03, 26.01it/s]\u001b[A\n",
            " 45%|████▌     | 84/185 [00:03<00:03, 26.11it/s]\u001b[A\n",
            " 47%|████▋     | 87/185 [00:03<00:03, 26.16it/s]\u001b[A\n",
            " 49%|████▊     | 90/185 [00:03<00:03, 26.21it/s]\u001b[A\n",
            " 50%|█████     | 93/185 [00:03<00:03, 26.23it/s]\u001b[A\n",
            " 52%|█████▏    | 96/185 [00:03<00:03, 26.20it/s]\u001b[A\n",
            " 54%|█████▎    | 99/185 [00:03<00:03, 26.23it/s]\u001b[A\n",
            " 55%|█████▌    | 102/185 [00:03<00:03, 26.23it/s]\u001b[A\n",
            " 57%|█████▋    | 105/185 [00:04<00:03, 26.18it/s]\u001b[A\n",
            " 58%|█████▊    | 108/185 [00:04<00:02, 26.17it/s]\u001b[A\n",
            " 60%|██████    | 111/185 [00:04<00:02, 26.07it/s]\u001b[A\n",
            " 62%|██████▏   | 114/185 [00:04<00:02, 26.08it/s]\u001b[A\n",
            " 63%|██████▎   | 117/185 [00:04<00:02, 26.06it/s]\u001b[A\n",
            " 65%|██████▍   | 120/185 [00:04<00:02, 26.11it/s]\u001b[A\n",
            " 66%|██████▋   | 123/185 [00:04<00:02, 26.14it/s]\u001b[A\n",
            " 68%|██████▊   | 126/185 [00:04<00:02, 26.19it/s]\u001b[A\n",
            " 70%|██████▉   | 129/185 [00:04<00:02, 26.23it/s]\u001b[A\n",
            " 71%|███████▏  | 132/185 [00:05<00:02, 26.18it/s]\u001b[A\n",
            " 73%|███████▎  | 135/185 [00:05<00:01, 26.08it/s]\u001b[A\n",
            " 75%|███████▍  | 138/185 [00:05<00:01, 26.07it/s]\u001b[A\n",
            " 76%|███████▌  | 141/185 [00:05<00:01, 26.06it/s]\u001b[A\n",
            " 78%|███████▊  | 144/185 [00:05<00:01, 26.00it/s]\u001b[A\n",
            " 79%|███████▉  | 147/185 [00:05<00:01, 26.14it/s]\u001b[A\n",
            " 81%|████████  | 150/185 [00:05<00:01, 26.01it/s]\u001b[A\n",
            " 83%|████████▎ | 153/185 [00:05<00:01, 26.00it/s]\u001b[A\n",
            " 84%|████████▍ | 156/185 [00:05<00:01, 26.01it/s]\u001b[A\n",
            " 86%|████████▌ | 159/185 [00:06<00:00, 26.07it/s]\u001b[A\n",
            " 88%|████████▊ | 162/185 [00:06<00:00, 26.02it/s]\u001b[A\n",
            " 89%|████████▉ | 165/185 [00:06<00:00, 26.08it/s]\u001b[A\n",
            " 91%|█████████ | 168/185 [00:06<00:00, 26.03it/s]\u001b[A\n",
            " 92%|█████████▏| 171/185 [00:06<00:00, 25.99it/s]\u001b[A\n",
            " 94%|█████████▍| 174/185 [00:06<00:00, 26.00it/s]\u001b[A\n",
            " 96%|█████████▌| 177/185 [00:06<00:00, 26.00it/s]\u001b[A\n",
            " 97%|█████████▋| 180/185 [00:06<00:00, 25.96it/s]\u001b[A\n",
            "100%|██████████| 185/185 [00:07<00:00, 26.02it/s]\n",
            " 80%|████████  | 8/10 [2:20:46<34:26, 1033.17s/it]"
          ]
        },
        {
          "output_type": "stream",
          "name": "stdout",
          "text": [
            "\n",
            "gen Dataset\n",
            "Training....\n",
            "Predicting....\n"
          ]
        },
        {
          "output_type": "stream",
          "name": "stderr",
          "text": [
            "\n",
            "  0%|          | 0/185 [00:00<?, ?it/s]\u001b[A\n",
            "  2%|▏         | 3/185 [00:00<00:06, 26.35it/s]\u001b[A\n",
            "  3%|▎         | 6/185 [00:00<00:06, 26.13it/s]\u001b[A\n",
            "  5%|▍         | 9/185 [00:00<00:06, 26.05it/s]\u001b[A\n",
            "  6%|▋         | 12/185 [00:00<00:06, 26.06it/s]\u001b[A\n",
            "  8%|▊         | 15/185 [00:00<00:06, 26.16it/s]\u001b[A\n",
            " 10%|▉         | 18/185 [00:00<00:06, 26.05it/s]\u001b[A\n",
            " 11%|█▏        | 21/185 [00:00<00:06, 25.94it/s]\u001b[A\n",
            " 13%|█▎        | 24/185 [00:00<00:06, 25.92it/s]\u001b[A\n",
            " 15%|█▍        | 27/185 [00:01<00:06, 25.92it/s]\u001b[A\n",
            " 16%|█▌        | 30/185 [00:01<00:05, 25.89it/s]\u001b[A\n",
            " 18%|█▊        | 33/185 [00:01<00:05, 25.90it/s]\u001b[A\n",
            " 19%|█▉        | 36/185 [00:01<00:05, 25.89it/s]\u001b[A\n",
            " 21%|██        | 39/185 [00:01<00:05, 25.97it/s]\u001b[A\n",
            " 23%|██▎       | 42/185 [00:01<00:05, 26.08it/s]\u001b[A\n",
            " 24%|██▍       | 45/185 [00:01<00:05, 26.06it/s]\u001b[A\n",
            " 26%|██▌       | 48/185 [00:01<00:05, 26.13it/s]\u001b[A\n",
            " 28%|██▊       | 51/185 [00:01<00:05, 26.10it/s]\u001b[A\n",
            " 29%|██▉       | 54/185 [00:02<00:05, 26.13it/s]\u001b[A\n",
            " 31%|███       | 57/185 [00:02<00:04, 26.21it/s]\u001b[A\n",
            " 32%|███▏      | 60/185 [00:02<00:04, 26.27it/s]\u001b[A\n",
            " 34%|███▍      | 63/185 [00:02<00:04, 26.28it/s]\u001b[A\n",
            " 36%|███▌      | 66/185 [00:02<00:04, 26.23it/s]\u001b[A\n",
            " 37%|███▋      | 69/185 [00:02<00:04, 26.18it/s]\u001b[A\n",
            " 39%|███▉      | 72/185 [00:02<00:04, 26.11it/s]\u001b[A\n",
            " 41%|████      | 75/185 [00:02<00:04, 26.07it/s]\u001b[A\n",
            " 42%|████▏     | 78/185 [00:02<00:04, 26.05it/s]\u001b[A\n",
            " 44%|████▍     | 81/185 [00:03<00:03, 26.11it/s]\u001b[A\n",
            " 45%|████▌     | 84/185 [00:03<00:03, 25.79it/s]\u001b[A\n",
            " 47%|████▋     | 87/185 [00:03<00:03, 25.96it/s]\u001b[A\n",
            " 49%|████▊     | 90/185 [00:03<00:03, 26.03it/s]\u001b[A\n",
            " 50%|█████     | 93/185 [00:03<00:03, 26.07it/s]\u001b[A\n",
            " 52%|█████▏    | 96/185 [00:03<00:03, 26.00it/s]\u001b[A\n",
            " 54%|█████▎    | 99/185 [00:03<00:03, 26.14it/s]\u001b[A\n",
            " 55%|█████▌    | 102/185 [00:03<00:03, 26.12it/s]\u001b[A\n",
            " 57%|█████▋    | 105/185 [00:04<00:03, 26.09it/s]\u001b[A\n",
            " 58%|█████▊    | 108/185 [00:04<00:02, 26.11it/s]\u001b[A\n",
            " 60%|██████    | 111/185 [00:04<00:02, 26.05it/s]\u001b[A\n",
            " 62%|██████▏   | 114/185 [00:04<00:02, 26.14it/s]\u001b[A\n",
            " 63%|██████▎   | 117/185 [00:04<00:02, 26.18it/s]\u001b[A\n",
            " 65%|██████▍   | 120/185 [00:04<00:02, 26.21it/s]\u001b[A\n",
            " 66%|██████▋   | 123/185 [00:04<00:02, 26.19it/s]\u001b[A\n",
            " 68%|██████▊   | 126/185 [00:04<00:02, 26.02it/s]\u001b[A\n",
            " 70%|██████▉   | 129/185 [00:04<00:02, 26.10it/s]\u001b[A\n",
            " 71%|███████▏  | 132/185 [00:05<00:02, 25.99it/s]\u001b[A\n",
            " 73%|███████▎  | 135/185 [00:05<00:01, 25.97it/s]\u001b[A\n",
            " 75%|███████▍  | 138/185 [00:05<00:01, 26.05it/s]\u001b[A\n",
            " 76%|███████▌  | 141/185 [00:05<00:01, 25.96it/s]\u001b[A\n",
            " 78%|███████▊  | 144/185 [00:05<00:01, 25.85it/s]\u001b[A\n",
            " 79%|███████▉  | 147/185 [00:05<00:01, 25.98it/s]\u001b[A\n",
            " 81%|████████  | 150/185 [00:05<00:01, 26.00it/s]\u001b[A\n",
            " 83%|████████▎ | 153/185 [00:05<00:01, 25.98it/s]\u001b[A\n",
            " 84%|████████▍ | 156/185 [00:05<00:01, 26.06it/s]\u001b[A\n",
            " 86%|████████▌ | 159/185 [00:06<00:00, 26.11it/s]\u001b[A\n",
            " 88%|████████▊ | 162/185 [00:06<00:00, 26.00it/s]\u001b[A\n",
            " 89%|████████▉ | 165/185 [00:06<00:00, 25.98it/s]\u001b[A\n",
            " 91%|█████████ | 168/185 [00:06<00:00, 25.90it/s]\u001b[A\n",
            " 92%|█████████▏| 171/185 [00:06<00:00, 26.06it/s]\u001b[A\n",
            " 94%|█████████▍| 174/185 [00:06<00:00, 26.04it/s]\u001b[A\n",
            " 96%|█████████▌| 177/185 [00:06<00:00, 25.90it/s]\u001b[A\n",
            " 97%|█████████▋| 180/185 [00:06<00:00, 25.99it/s]\u001b[A\n",
            "100%|██████████| 185/185 [00:07<00:00, 26.04it/s]\n",
            " 90%|█████████ | 9/10 [2:38:05<17:15, 1035.10s/it]"
          ]
        },
        {
          "output_type": "stream",
          "name": "stdout",
          "text": [
            "\n",
            "gen Dataset\n",
            "Training....\n",
            "Predicting....\n"
          ]
        },
        {
          "output_type": "stream",
          "name": "stderr",
          "text": [
            "\n",
            "  0%|          | 0/185 [00:00<?, ?it/s]\u001b[A\n",
            "  2%|▏         | 3/185 [00:00<00:06, 26.25it/s]\u001b[A\n",
            "  3%|▎         | 6/185 [00:00<00:06, 26.09it/s]\u001b[A\n",
            "  5%|▍         | 9/185 [00:00<00:06, 25.91it/s]\u001b[A\n",
            "  6%|▋         | 12/185 [00:00<00:06, 25.77it/s]\u001b[A\n",
            "  8%|▊         | 15/185 [00:00<00:06, 25.88it/s]\u001b[A\n",
            " 10%|▉         | 18/185 [00:00<00:06, 25.90it/s]\u001b[A\n",
            " 11%|█▏        | 21/185 [00:00<00:06, 25.91it/s]\u001b[A\n",
            " 13%|█▎        | 24/185 [00:00<00:06, 26.06it/s]\u001b[A\n",
            " 15%|█▍        | 27/185 [00:01<00:06, 26.19it/s]\u001b[A\n",
            " 16%|█▌        | 30/185 [00:01<00:05, 26.17it/s]\u001b[A\n",
            " 18%|█▊        | 33/185 [00:01<00:05, 26.11it/s]\u001b[A\n",
            " 19%|█▉        | 36/185 [00:01<00:05, 26.10it/s]\u001b[A\n",
            " 21%|██        | 39/185 [00:01<00:05, 26.11it/s]\u001b[A\n",
            " 23%|██▎       | 42/185 [00:01<00:05, 26.18it/s]\u001b[A\n",
            " 24%|██▍       | 45/185 [00:01<00:05, 26.19it/s]\u001b[A\n",
            " 26%|██▌       | 48/185 [00:01<00:05, 26.13it/s]\u001b[A\n",
            " 28%|██▊       | 51/185 [00:01<00:05, 26.16it/s]\u001b[A\n",
            " 29%|██▉       | 54/185 [00:02<00:05, 26.12it/s]\u001b[A\n",
            " 31%|███       | 57/185 [00:02<00:04, 26.13it/s]\u001b[A\n",
            " 32%|███▏      | 60/185 [00:02<00:04, 26.12it/s]\u001b[A\n",
            " 34%|███▍      | 63/185 [00:02<00:04, 26.19it/s]\u001b[A\n",
            " 36%|███▌      | 66/185 [00:02<00:04, 26.15it/s]\u001b[A\n",
            " 37%|███▋      | 69/185 [00:02<00:04, 26.06it/s]\u001b[A\n",
            " 39%|███▉      | 72/185 [00:02<00:04, 26.09it/s]\u001b[A\n",
            " 41%|████      | 75/185 [00:02<00:04, 26.14it/s]\u001b[A\n",
            " 42%|████▏     | 78/185 [00:02<00:04, 26.12it/s]\u001b[A\n",
            " 44%|████▍     | 81/185 [00:03<00:03, 26.09it/s]\u001b[A\n",
            " 45%|████▌     | 84/185 [00:03<00:03, 25.98it/s]\u001b[A\n",
            " 47%|████▋     | 87/185 [00:03<00:03, 25.96it/s]\u001b[A\n",
            " 49%|████▊     | 90/185 [00:03<00:03, 25.87it/s]\u001b[A\n",
            " 50%|█████     | 93/185 [00:03<00:03, 26.08it/s]\u001b[A\n",
            " 52%|█████▏    | 96/185 [00:03<00:03, 26.07it/s]\u001b[A\n",
            " 54%|█████▎    | 99/185 [00:03<00:03, 26.06it/s]\u001b[A\n",
            " 55%|█████▌    | 102/185 [00:03<00:03, 25.86it/s]\u001b[A\n",
            " 57%|█████▋    | 105/185 [00:04<00:03, 25.72it/s]\u001b[A\n",
            " 58%|█████▊    | 108/185 [00:04<00:02, 25.83it/s]\u001b[A\n",
            " 60%|██████    | 111/185 [00:04<00:02, 25.92it/s]\u001b[A\n",
            " 62%|██████▏   | 114/185 [00:04<00:02, 25.93it/s]\u001b[A\n",
            " 63%|██████▎   | 117/185 [00:04<00:02, 26.01it/s]\u001b[A\n",
            " 65%|██████▍   | 120/185 [00:04<00:02, 25.95it/s]\u001b[A\n",
            " 66%|██████▋   | 123/185 [00:04<00:02, 26.10it/s]\u001b[A\n",
            " 68%|██████▊   | 126/185 [00:04<00:02, 26.11it/s]\u001b[A\n",
            " 70%|██████▉   | 129/185 [00:04<00:02, 25.96it/s]\u001b[A\n",
            " 71%|███████▏  | 132/185 [00:05<00:02, 25.80it/s]\u001b[A\n",
            " 73%|███████▎  | 135/185 [00:05<00:01, 25.94it/s]\u001b[A\n",
            " 75%|███████▍  | 138/185 [00:05<00:01, 26.06it/s]\u001b[A\n",
            " 76%|███████▌  | 141/185 [00:05<00:01, 26.18it/s]\u001b[A\n",
            " 78%|███████▊  | 144/185 [00:05<00:01, 26.16it/s]\u001b[A\n",
            " 79%|███████▉  | 147/185 [00:05<00:01, 26.25it/s]\u001b[A\n",
            " 81%|████████  | 150/185 [00:05<00:01, 26.30it/s]\u001b[A\n",
            " 83%|████████▎ | 153/185 [00:05<00:01, 26.26it/s]\u001b[A\n",
            " 84%|████████▍ | 156/185 [00:05<00:01, 26.27it/s]\u001b[A\n",
            " 86%|████████▌ | 159/185 [00:06<00:00, 26.07it/s]\u001b[A\n",
            " 88%|████████▊ | 162/185 [00:06<00:00, 26.07it/s]\u001b[A\n",
            " 89%|████████▉ | 165/185 [00:06<00:00, 26.11it/s]\u001b[A\n",
            " 91%|█████████ | 168/185 [00:06<00:00, 26.10it/s]\u001b[A\n",
            " 92%|█████████▏| 171/185 [00:06<00:00, 26.11it/s]\u001b[A\n",
            " 94%|█████████▍| 174/185 [00:06<00:00, 26.10it/s]\u001b[A\n",
            " 96%|█████████▌| 177/185 [00:06<00:00, 26.09it/s]\u001b[A\n",
            " 97%|█████████▋| 180/185 [00:06<00:00, 26.09it/s]\u001b[A\n",
            "100%|██████████| 185/185 [00:07<00:00, 26.06it/s]\n",
            "100%|██████████| 10/10 [2:55:10<00:00, 1051.05s/it]\n"
          ]
        },
        {
          "output_type": "stream",
          "name": "stdout",
          "text": [
            "CPU times: user 3d 18h 27min 35s, sys: 1min 42s, total: 3d 18h 29min 18s\n",
            "Wall time: 2h 55min 10s\n"
          ]
        }
      ]
    },
    {
      "cell_type": "markdown",
      "metadata": {
        "id": "Zs_vAp3MtPy-"
      },
      "source": [
        "## 8. Chuyển kết quả predict sang tỉ lệ\n"
      ]
    },
    {
      "cell_type": "markdown",
      "source": [
        "Do data đã được ta thay đổi để train, bộ data lúc đưa vào training có kích thước là $(200k*200, 6)$, nên ta phải biến đổi kết quả này về lại kết quả như ban đầu\n",
        "\n",
        "Tác giả sử dụng công thức:\n",
        "\\begin{align}\n",
        "    \\frac{9*p}{1-p}\n",
        "\\end{align}\n",
        "và đưa về một bộ kết quả duy nhất.\n",
        "\n",
        "Công thức được sử dụng ở trên đến từ thực nghiệm:\n",
        "![](https://drive.google.com/uc?id=1mcjzRR5aSDrWM_chqYOFsX6W2p5j8a_E)\n",
        "\n",
        "Kết hợp cùng với cách đánh giá dựa trên $AUC$, với $threshold >=0.500$ để ra được kết quả là tập submit cuối cùng."
      ],
      "metadata": {
        "id": "bPDdhu0xOw54"
      }
    },
    {
      "cell_type": "code",
      "metadata": {
        "id": "15-0LYuQ6thm",
        "colab": {
          "base_uri": "https://localhost:8080/"
        },
        "outputId": "ebdfd188-6390-4d5a-f572-890e3969aed0"
      },
      "source": [
        "%%time\n",
        "\n",
        "var_col = np.zeros((200000,),dtype=np.uint8)\n",
        "for i in range(1,var_len):\n",
        "    var_col = np.concatenate([var_col, (np.ones((200000,))*i).astype(np.uint8)])\n",
        "\n",
        "id_y['var'] = var_col\n",
        "id_y['pred'] = oof\n",
        "oof = pd.pivot_table(id_y, index='id', columns='var', values='pred').values\n",
        "\n",
        "p_test_mean = p_test_all.mean(axis=2)\n",
        "\n",
        "p_test_odds = np.ones(100000) * 1 / 9\n",
        "for j in tqdm(range(var_len)):\n",
        "    if roc_auc_score(y_train, oof[:, j]) >= 0.500:\n",
        "        p_test_odds *= (9 * p_test_mean[:, j] / (1 - p_test_mean[:, j]))\n",
        "\n",
        "p_test_odds = p_test_odds / (1 + p_test_odds)\n",
        "\n",
        "sub1 = pd.read_csv(sample_submission_file)\n",
        "sub2 = pd.DataFrame({\"ID_code\":test.ID_code.values , \"target\":p_test_odds})\n",
        "sub = pd.merge(sub1[[\"ID_code\"]], sub2, how=\"left\").fillna(0)"
      ],
      "execution_count": null,
      "outputs": [
        {
          "output_type": "stream",
          "name": "stderr",
          "text": [
            "100%|██████████| 185/185 [00:15<00:00, 11.87it/s]\n"
          ]
        },
        {
          "output_type": "stream",
          "name": "stdout",
          "text": [
            "CPU times: user 52 s, sys: 3.16 s, total: 55.2 s\n",
            "Wall time: 55.2 s\n"
          ]
        }
      ]
    },
    {
      "cell_type": "markdown",
      "metadata": {
        "id": "LgiZExNltVv-"
      },
      "source": [
        "## 9. Submit kết quả"
      ]
    },
    {
      "cell_type": "code",
      "metadata": {
        "id": "4h4icmmN6v2-",
        "colab": {
          "base_uri": "https://localhost:8080/"
        },
        "outputId": "ebded39c-3197-4408-f8dd-3db4e18345ef"
      },
      "source": [
        "%%time\n",
        "\n",
        "sub.to_csv(OUTPUT + 'submit_file_2912.csv.gz', index=False, compression='gzip')"
      ],
      "execution_count": null,
      "outputs": [
        {
          "output_type": "stream",
          "name": "stdout",
          "text": [
            "CPU times: user 1.56 s, sys: 5 ms, total: 1.57 s\n",
            "Wall time: 1.58 s\n"
          ]
        }
      ]
    },
    {
      "cell_type": "markdown",
      "metadata": {
        "id": "dIHLMF4r36Uh"
      },
      "source": [
        "\n",
        "Kết quả từ file golf của tác giả:\n",
        "\n",
        "![](https://drive.google.com/uc?export=view&id=1ch8qcGijBZWVv_HduumZ07R34zyks0m6)\n",
        "\n",
        "Kết quả các lần submit:\n",
        "\n",
        "![](https://drive.google.com/uc?export=view&id=1FonZ8wHEBEEwr8TJgkS6bhrQSnAOqvgj)\n",
        "\n",
        "![](https://drive.google.com/uc?id=1etf8al_OouxfLMfZzbPpNzTG1xUfkrwj)"
      ]
    },
    {
      "cell_type": "markdown",
      "metadata": {
        "id": "JZoSsbI0MdK3"
      },
      "source": [
        "## 10. Plot tree & model’s feature importances"
      ]
    },
    {
      "cell_type": "code",
      "metadata": {
        "id": "bsxIyFJbzRmS",
        "colab": {
          "base_uri": "https://localhost:8080/",
          "height": 1000
        },
        "outputId": "ef48a7dc-8bb7-4a02-b2d7-7312f04d684f"
      },
      "source": [
        "for i in range(10):\n",
        "    model = lgb.Booster(model_file=f'{OUTPUT}Nhan_model{i}.txt')\n",
        "\n",
        "    fig, ax = plt.subplots(figsize=(20, 10))\n",
        "    lgb.plot_importance(model, ax=ax)\n",
        "    fig.savefig(f'{OUTPUT}Nhan_feature_importance{i}.jpg')"
      ],
      "execution_count": null,
      "outputs": [
        {
          "output_type": "display_data",
          "data": {
            "image/png": "[encoded data removed]",
            "text/plain": [
              "<Figure size 1440x720 with 1 Axes>"
            ]
          },
          "metadata": {
            "needs_background": "light"
          }
        },
        {
          "output_type": "display_data",
          "data": {
            "image/png": "[encoded data removed]",
            "text/plain": [
              "<Figure size 1440x720 with 1 Axes>"
            ]
          },
          "metadata": {
            "needs_background": "light"
          }
        },
        {
          "output_type": "display_data",
          "data": {
            "image/png": "[encoded data removed]",
            "text/plain": [
              "<Figure size 1440x720 with 1 Axes>"
            ]
          },
          "metadata": {
            "needs_background": "light"
          }
        },
        {
          "output_type": "display_data",
          "data": {
            "image/png": "[encoded data removed]",
            "text/plain": [
              "<Figure size 1440x720 with 1 Axes>"
            ]
          },
          "metadata": {
            "needs_background": "light"
          }
        },
        {
          "output_type": "display_data",
          "data": {
            "image/png": "[encoded data removed]",
            "text/plain": [
              "<Figure size 1440x720 with 1 Axes>"
            ]
          },
          "metadata": {
            "needs_background": "light"
          }
        },
        {
          "output_type": "display_data",
          "data": {
            "image/png": "[encoded data removed]",
            "text/plain": [
              "<Figure size 1440x720 with 1 Axes>"
            ]
          },
          "metadata": {
            "needs_background": "light"
          }
        },
        {
          "output_type": "display_data",
          "data": {
            "image/png": "[encoded data removed]",
            "text/plain": [
              "<Figure size 1440x720 with 1 Axes>"
            ]
          },
          "metadata": {
            "needs_background": "light"
          }
        },
        {
          "output_type": "display_data",
          "data": {
            "image/png": "[encoded data removed]",
            "text/plain": [
              "<Figure size 1440x720 with 1 Axes>"
            ]
          },
          "metadata": {
            "needs_background": "light"
          }
        },
        {
          "output_type": "display_data",
          "data": {
            "image/png": "[encoded data removed]",
            "text/plain": [
              "<Figure size 1440x720 with 1 Axes>"
            ]
          },
          "metadata": {
            "needs_background": "light"
          }
        },
        {
          "output_type": "display_data",
          "data": {
            "image/png": "[encoded data removed]",
            "text/plain": [
              "<Figure size 1440x720 with 1 Axes>"
            ]
          },
          "metadata": {
            "needs_background": "light"
          }
        }
      ]
    },
    {
      "cell_type": "markdown",
      "metadata": {
        "id": "MZgCbW2AB7Sb"
      },
      "source": [
        "# Tài liệu tham khảo\n",
        "\n",
        "\n",
        "*   https://www.noron.vn/post/tim-hieu-chi-tiet-ve-auc---roc-trong-machine-learning-1fz9nhqo5ut\n",
        "*   https://scikit-learn.org/stable/modules/generated/sklearn.metrics.roc_auc_score.html\n",
        "\n",
        "\n",
        "\n",
        "\n"
      ]
    }
  ]
}