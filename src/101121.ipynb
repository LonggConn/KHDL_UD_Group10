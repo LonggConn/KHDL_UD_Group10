{
 "cells": [
  {
   "cell_type": "markdown",
   "id": "f19b2a99",
   "metadata": {},
   "source": [
    "# KHDLUD - Team 10\n",
    "\n"
   ]
  },
  {
   "cell_type": "markdown",
   "id": "3156ef7e",
   "metadata": {},
   "source": [
    "# kaggle competion:\n",
    "https://www.kaggle.com/c/santander-customer-transaction-prediction#\n",
    "    \n",
    "# solution git:\n",
    "https://github.com/KazukiOnodera/Santander-Customer-Transaction-Prediction/blob/master/final_solution/akiyama/py/lgb_train_and_predict.py\n",
    "\n",
    "# golf src:\n",
    "https://github.com/KazukiOnodera/santander-customer-transaction-prediction/blob/master/py/990_2nd_place_solution_golf.py"
   ]
  },
  {
   "cell_type": "markdown",
   "id": "c5045f56",
   "metadata": {},
   "source": [
    "# Các bước thực hiện\n",
    "    1\n",
    "    2\n",
    "    3\n",
    "    4\n",
    "    5\n",
    "    6\n",
    "    7"
   ]
  },
  {
   "cell_type": "markdown",
   "id": "a2e2236f",
   "metadata": {},
   "source": [
    "# import lib"
   ]
  },
  {
   "cell_type": "code",
   "execution_count": 1,
   "id": "b4999422",
   "metadata": {
    "scrolled": true
   },
   "outputs": [],
   "source": [
    "import numpy as np\n",
    "import pandas as pd\n",
    "import gc, os\n",
    "\n",
    "import lightgbm as lgb\n",
    "from sklearn.metrics import roc_auc_score\n",
    "from sklearn.model_selection import StratifiedKFold\n",
    "from sklearn.preprocessing import StandardScaler\n",
    "\n",
    "from multiprocessing import cpu_count\n",
    "from tqdm import tqdm"
   ]
  },
  {
   "cell_type": "code",
   "execution_count": 2,
   "id": "ef14f19d",
   "metadata": {
    "code_folding": [],
    "scrolled": true
   },
   "outputs": [],
   "source": [
    "# const\n",
    "test_original_data  = '../input/test.csv'\n",
    "train_original_data = '../input/train.csv'\n",
    "sample_submission_file = '../input/sample_submission.csv'\n",
    "SUBMIT_FILE_PATH = f'../output/2nd-place-solution.csv.gz'"
   ]
  },
  {
   "cell_type": "code",
   "execution_count": 3,
   "id": "d2c36d2e",
   "metadata": {
    "code_folding": [],
    "scrolled": true
   },
   "outputs": [],
   "source": [
    "# config\n",
    "\n",
    "drop_vars = [7,\n",
    "            10,\n",
    "            17,\n",
    "            27,\n",
    "            29,\n",
    "            30,\n",
    "            38,\n",
    "            41,\n",
    "            46,\n",
    "            96,\n",
    "            100,\n",
    "            103,\n",
    "            126,\n",
    "            158,\n",
    "            185]\n",
    "\n",
    "var_len = 200 - len(drop_vars)\n",
    "NFOLD = 10\n",
    "NROUND = 1600"
   ]
  },
  {
   "cell_type": "markdown",
   "id": "65d22e17",
   "metadata": {},
   "source": [
    "## Bước 1: remove fake sample"
   ]
  },
  {
   "cell_type": "code",
   "execution_count": 4,
   "id": "344ddc88",
   "metadata": {
    "code_folding": [],
    "scrolled": true
   },
   "outputs": [
    {
     "name": "stderr",
     "output_type": "stream",
     "text": [
      "100%|████████████████████████████████████████████████████████████████████████████████| 200/200 [00:08<00:00, 23.37it/s]"
     ]
    },
    {
     "name": "stdout",
     "output_type": "stream",
     "text": [
      "Wall time: 18.4 s\n"
     ]
    },
    {
     "name": "stderr",
     "output_type": "stream",
     "text": [
      "\n"
     ]
    }
   ],
   "source": [
    "%%time\n",
    "\n",
    "te_ = pd.read_csv(test_original_data).drop(['ID_code'], axis=1).values\n",
    "\n",
    "unique_samples = []\n",
    "unique_count = np.zeros_like(te_)\n",
    "for feature in tqdm(range(te_.shape[1])):\n",
    "    _, index_, count_ = np.unique(te_[:, feature], return_counts=True, return_index=True)\n",
    "    unique_count[index_[count_ == 1], feature] += 1\n"
   ]
  },
  {
   "cell_type": "code",
   "execution_count": 5,
   "id": "0671b608",
   "metadata": {
    "scrolled": true
   },
   "outputs": [
    {
     "name": "stdout",
     "output_type": "stream",
     "text": [
      "Wall time: 102 ms\n"
     ]
    }
   ],
   "source": [
    "%%time\n",
    "\n",
    "real_samples_indexes = np.argwhere(np.sum(unique_count, axis=1) > 0)[:, 0]\n",
    "synthetic_samples_indexes = np.argwhere(np.sum(unique_count, axis=1) == 0)[:, 0]"
   ]
  },
  {
   "cell_type": "markdown",
   "id": "924afab3",
   "metadata": {},
   "source": [
    "#  set param for training"
   ]
  },
  {
   "cell_type": "code",
   "execution_count": 6,
   "id": "ad3cef30",
   "metadata": {
    "scrolled": true
   },
   "outputs": [],
   "source": [
    "params = {\n",
    "    'bagging_freq': 5,\n",
    "    'bagging_fraction': 1.0,\n",
    "    'boost_from_average':'false',\n",
    "    'boost': 'gbdt',\n",
    "    'feature_fraction': 1.0,\n",
    "    'learning_rate': 0.005,\n",
    "    'max_depth': -1,\n",
    "    'metric':'binary_logloss',\n",
    "    'min_data_in_leaf': 30,\n",
    "    'min_sum_hessian_in_leaf': 10.0,\n",
    "    'num_leaves': 64,\n",
    "    'num_threads': cpu_count(),\n",
    "    'tree_learner': 'serial',\n",
    "    'objective': 'binary',\n",
    "    'verbosity': -1\n",
    "    }\n",
    "SEED = np.random.randint(99999)\n",
    "np.random.seed(SEED)"
   ]
  },
  {
   "cell_type": "markdown",
   "id": "d7a1d732",
   "metadata": {},
   "source": [
    "## B2: load"
   ]
  },
  {
   "cell_type": "code",
   "execution_count": 7,
   "id": "3cae6448",
   "metadata": {
    "scrolled": true
   },
   "outputs": [
    {
     "name": "stdout",
     "output_type": "stream",
     "text": [
      "Wall time: 18.1 s\n"
     ]
    }
   ],
   "source": [
    "%%time\n",
    "\n",
    "train = pd.read_csv(train_original_data)\n",
    "test  = pd.read_csv(test_original_data).drop(synthetic_samples_indexes)\n",
    "\n",
    "X_train = train.iloc[:, 2:].values\n",
    "y_train = train.target.values\n",
    "\n",
    "X_test = test.iloc[:, 1:].values\n",
    "\n",
    "X = np.concatenate([X_train, X_test], axis=0)\n",
    "del X_train, X_test; gc.collect()\n",
    "\n",
    "reverse_list = [0, 1, 2, 3, 4, 5, 6, 7, 8, 11, 15, 16, 18, 19, 22, 24, 25, 26,\n",
    "                27, 29, 32, 35, 37, 40, 41, 47, 48, 49, 51, 52, 53, 55, 60, 61,\n",
    "                62, 65, 66, 67, 69, 70, 71, 74, 78, 79, 82, 84, 89, 90, 91, 94,\n",
    "                95, 96, 97, 99, 103, 105, 106, 110, 111, 112, 118, 119, 125, 128,\n",
    "                130, 133, 134, 135, 137, 138, 140, 144, 145, 147, 151, 155, 157,\n",
    "                159, 161, 162, 163, 164, 167, 168, 170, 171, 173, 175, 176, 179,\n",
    "                180, 181, 184, 185, 187, 189, 190, 191, 195, 196, 199,\n",
    "                \n",
    "                ]\n",
    "\n",
    "for j in reverse_list:\n",
    "    X[:, j] *= -1"
   ]
  },
  {
   "cell_type": "markdown",
   "id": "1d768e03",
   "metadata": {},
   "source": [
    "##  remove vars that not necessary & scaling"
   ]
  },
  {
   "cell_type": "code",
   "execution_count": 8,
   "id": "e64b733c",
   "metadata": {
    "scrolled": true
   },
   "outputs": [
    {
     "name": "stderr",
     "output_type": "stream",
     "text": [
      "100%|████████████████████████████████████████████████████████████████████████████████| 185/185 [01:33<00:00,  1.98it/s]\n",
      "100%|████████████████████████████████████████████████████████████████████████████████| 185/185 [00:16<00:00, 11.44it/s]\n"
     ]
    },
    {
     "name": "stdout",
     "output_type": "stream",
     "text": [
      "Wall time: 2min 12s\n"
     ]
    }
   ],
   "source": [
    "%%time\n",
    "\n",
    "# drop\n",
    "X = np.delete(X, drop_vars, 1)\n",
    "\n",
    "# scaling\n",
    "scaler = StandardScaler()\n",
    "X = scaler.fit_transform(X)\n",
    "\n",
    "# count encoding\n",
    "X_cnt = np.zeros((len(X), var_len * 4))\n",
    "\n",
    "for j in tqdm(range(var_len)):\n",
    "    for i in range(1, 4):\n",
    "        x = np.round(X[:, j], i+1)\n",
    "        dic = pd.value_counts(x).to_dict()\n",
    "        X_cnt[:, i+j*4] = pd.Series(x).map(dic)\n",
    "    x = X[:, j]\n",
    "    dic = pd.value_counts(x).to_dict()\n",
    "    X_cnt[:, j*4] = pd.Series(x).map(dic)\n",
    "\n",
    "# raw + count feature\n",
    "X_raw = X.copy() # rename for readable\n",
    "del X; gc.collect()\n",
    "\n",
    "X = np.zeros((len(X_raw), var_len * 5))\n",
    "for j in tqdm(range(var_len)):\n",
    "    X[:, 5*j+1:5*j+5] = X_cnt[:, 4*j:4*j+4]\n",
    "    X[:, 5*j] = X_raw[:, j]\n",
    "\n",
    "# treat each var as same\n",
    "X_train_concat = np.concatenate([\n",
    "    np.concatenate([\n",
    "        X[:200000, 5*cnum:5*cnum+5], \n",
    "        np.ones((len(y_train), 1)).astype(\"int\")*cnum\n",
    "    ], axis=1) for cnum in range(var_len)], axis=0)\n",
    "y_train_concat = np.concatenate([y_train for cnum in range(var_len)], axis=0)"
   ]
  },
  {
   "cell_type": "markdown",
   "id": "f2da916e",
   "metadata": {},
   "source": [
    "## stratified"
   ]
  },
  {
   "cell_type": "code",
   "execution_count": 9,
   "id": "60a2c590",
   "metadata": {
    "scrolled": true
   },
   "outputs": [
    {
     "name": "stdout",
     "output_type": "stream",
     "text": [
      "Wall time: 3min 7s\n"
     ]
    }
   ],
   "source": [
    "%%time\n",
    "\n",
    "train_group = np.arange(len(X_train_concat))%200000\n",
    "\n",
    "id_y = pd.DataFrame(zip(train_group, y_train_concat), \n",
    "                    columns=['id', 'y'])\n",
    "\n",
    "id_y_uq = id_y.drop_duplicates('id').reset_index(drop=True)\n",
    "\n",
    "def stratified(nfold=5):\n",
    "    \n",
    "    id_y_uq0 = id_y_uq[id_y_uq.y==0].sample(frac=1)\n",
    "    id_y_uq1 = id_y_uq[id_y_uq.y==1].sample(frac=1)\n",
    "    \n",
    "    id_y_uq0['g'] = [i%nfold for i in range(len(id_y_uq0))]\n",
    "    id_y_uq1['g'] = [i%nfold for i in range(len(id_y_uq1))]\n",
    "    id_y_uq_ = pd.concat([id_y_uq0, id_y_uq1])\n",
    "    \n",
    "    id_y_ = pd.merge(id_y[['id']], id_y_uq_, how='left', on='id')\n",
    "    \n",
    "    train_idx_list = []\n",
    "    valid_idx_list = []\n",
    "    for i in range(nfold):\n",
    "        train_idx = id_y_[id_y_.g!=i].index\n",
    "        train_idx_list.append(train_idx)\n",
    "        valid_idx = id_y_[id_y_.g==i].index\n",
    "        valid_idx_list.append(valid_idx)\n",
    "    \n",
    "    return train_idx_list, valid_idx_list\n",
    "\n",
    "train_idx_list, valid_idx_list = stratified(NFOLD)"
   ]
  },
  {
   "cell_type": "markdown",
   "id": "e2958803",
   "metadata": {},
   "source": [
    "## Train"
   ]
  },
  {
   "cell_type": "code",
   "execution_count": 10,
   "id": "9a740bcf",
   "metadata": {
    "scrolled": true
   },
   "outputs": [
    {
     "name": "stdout",
     "output_type": "stream",
     "text": [
      "10\n"
     ]
    },
    {
     "name": "stderr",
     "output_type": "stream",
     "text": [
      "\r",
      "  0%|                                                                                           | 0/10 [00:00<?, ?it/s]"
     ]
    },
    {
     "name": "stdout",
     "output_type": "stream",
     "text": [
      "building 0...\n",
      "create Dataset\n",
      "Trainning....\n"
     ]
    },
    {
     "name": "stderr",
     "output_type": "stream",
     "text": [
      "C:\\Users\\LovIn'U\\AppData\\Local\\Programs\\Python\\Python39\\lib\\site-packages\\lightgbm\\basic.py:2065: UserWarning: Using categorical_feature in Dataset.\n",
      "  _log_warning('Using categorical_feature in Dataset.')\n",
      "C:\\Users\\LovIn'U\\AppData\\Local\\Programs\\Python\\Python39\\lib\\site-packages\\lightgbm\\engine.py:239: UserWarning: 'verbose_eval' argument is deprecated and will be removed in a future release of LightGBM. Pass 'log_evaluation()' callback via 'callbacks' argument instead.\n",
      "  _log_warning(\"'verbose_eval' argument is deprecated and will be removed in a future release of LightGBM. \"\n",
      "  0%|                                                                                           | 0/10 [03:49<?, ?it/s]\n"
     ]
    },
    {
     "ename": "KeyboardInterrupt",
     "evalue": "",
     "output_type": "error",
     "traceback": [
      "\u001b[1;31m---------------------------------------------------------------------------\u001b[0m",
      "\u001b[1;31mKeyboardInterrupt\u001b[0m                         Traceback (most recent call last)",
      "\u001b[1;32m<timed exec>\u001b[0m in \u001b[0;36m<module>\u001b[1;34m\u001b[0m\n",
      "\u001b[1;32m~\\AppData\\Local\\Programs\\Python\\Python39\\lib\\site-packages\\lightgbm\\engine.py\u001b[0m in \u001b[0;36mtrain\u001b[1;34m(params, train_set, num_boost_round, valid_sets, valid_names, fobj, feval, init_model, feature_name, categorical_feature, early_stopping_rounds, evals_result, verbose_eval, learning_rates, keep_training_booster, callbacks)\u001b[0m\n\u001b[0;32m    290\u001b[0m                                     evaluation_result_list=None))\n\u001b[0;32m    291\u001b[0m \u001b[1;33m\u001b[0m\u001b[0m\n\u001b[1;32m--> 292\u001b[1;33m         \u001b[0mbooster\u001b[0m\u001b[1;33m.\u001b[0m\u001b[0mupdate\u001b[0m\u001b[1;33m(\u001b[0m\u001b[0mfobj\u001b[0m\u001b[1;33m=\u001b[0m\u001b[0mfobj\u001b[0m\u001b[1;33m)\u001b[0m\u001b[1;33m\u001b[0m\u001b[1;33m\u001b[0m\u001b[0m\n\u001b[0m\u001b[0;32m    293\u001b[0m \u001b[1;33m\u001b[0m\u001b[0m\n\u001b[0;32m    294\u001b[0m         \u001b[0mevaluation_result_list\u001b[0m \u001b[1;33m=\u001b[0m \u001b[1;33m[\u001b[0m\u001b[1;33m]\u001b[0m\u001b[1;33m\u001b[0m\u001b[1;33m\u001b[0m\u001b[0m\n",
      "\u001b[1;32m~\\AppData\\Local\\Programs\\Python\\Python39\\lib\\site-packages\\lightgbm\\basic.py\u001b[0m in \u001b[0;36mupdate\u001b[1;34m(self, train_set, fobj)\u001b[0m\n\u001b[0;32m   3019\u001b[0m             \u001b[1;32mif\u001b[0m \u001b[0mself\u001b[0m\u001b[1;33m.\u001b[0m\u001b[0m__set_objective_to_none\u001b[0m\u001b[1;33m:\u001b[0m\u001b[1;33m\u001b[0m\u001b[1;33m\u001b[0m\u001b[0m\n\u001b[0;32m   3020\u001b[0m                 \u001b[1;32mraise\u001b[0m \u001b[0mLightGBMError\u001b[0m\u001b[1;33m(\u001b[0m\u001b[1;34m'Cannot update due to null objective function.'\u001b[0m\u001b[1;33m)\u001b[0m\u001b[1;33m\u001b[0m\u001b[1;33m\u001b[0m\u001b[0m\n\u001b[1;32m-> 3021\u001b[1;33m             _safe_call(_LIB.LGBM_BoosterUpdateOneIter(\n\u001b[0m\u001b[0;32m   3022\u001b[0m                 \u001b[0mself\u001b[0m\u001b[1;33m.\u001b[0m\u001b[0mhandle\u001b[0m\u001b[1;33m,\u001b[0m\u001b[1;33m\u001b[0m\u001b[1;33m\u001b[0m\u001b[0m\n\u001b[0;32m   3023\u001b[0m                 ctypes.byref(is_finished)))\n",
      "\u001b[1;31mKeyboardInterrupt\u001b[0m: "
     ]
    }
   ],
   "source": [
    "%%time\n",
    "\n",
    "models = []\n",
    "oof = np.zeros(len(id_y))\n",
    "p_test_all = np.zeros((100000, var_len, NFOLD))\n",
    "id_y['var'] = np.concatenate([np.ones(200000)*i for i in range(var_len)])\n",
    "\n",
    "print(NFOLD)\n",
    "for i in  tqdm(range(NFOLD)):\n",
    "    \n",
    "    print(f'building {i}...')\n",
    "    \n",
    "    train_idx = train_idx_list[i]\n",
    "    valid_idx = valid_idx_list[i]\n",
    "    \n",
    "    # train\n",
    "    X_train_cv = X_train_concat[train_idx]\n",
    "    y_train_cv = y_train_concat[train_idx]\n",
    "    \n",
    "    # valid\n",
    "    X_valid = X_train_concat[valid_idx]\n",
    "    \n",
    "    # test\n",
    "    X_test = np.concatenate([\n",
    "        np.concatenate([\n",
    "            X[200000:, 5*cnum:5*cnum+5], \n",
    "            np.ones((100000, 1)).astype(\"int\")*cnum\n",
    "        ], axis=1) for cnum in range(var_len)], axis=0\n",
    "    )\n",
    "    print('gen Dataset')\n",
    "    dtrain = lgb.Dataset(\n",
    "        X_train_cv, y_train_cv, \n",
    "        feature_name=['value', 'count_org', 'count_2', 'count_3', 'count_4', 'varnum'], \n",
    "        categorical_feature=['varnum'], free_raw_data=False\n",
    "    )\n",
    "    print('Trainning....')\n",
    "    model = lgb.train(params, train_set=dtrain, num_boost_round=NROUND, verbose_eval=100)\n",
    "    l = valid_idx.shape[0]\n",
    "    \n",
    "    print('Predicting....')\n",
    "    p_valid = model.predict(X_valid)\n",
    "    p_test  = model.predict(X_test)\n",
    "    for j in tqdm(range(var_len)):\n",
    "        oof[valid_idx] = p_valid\n",
    "        p_test_all[:, j, i] = p_test[j*100000:(j+1)*100000]\n",
    "    \n",
    "    models.append(model)"
   ]
  },
  {
   "cell_type": "markdown",
   "id": "8b4e4ed8",
   "metadata": {},
   "source": [
    "## Test"
   ]
  },
  {
   "cell_type": "code",
   "execution_count": 11,
   "id": "940a4ef1",
   "metadata": {
    "scrolled": true
   },
   "outputs": [
    {
     "name": "stdout",
     "output_type": "stream",
     "text": [
      "Wall time: 1min 2s\n"
     ]
    }
   ],
   "source": [
    "%%time\n",
    "\n",
    "id_y['pred'] = oof\n",
    "oof = pd.pivot_table(id_y, index='id', columns='var', values='pred').values\n",
    "\n",
    "p_test_mean = p_test_all.mean(axis=2)\n",
    "\n",
    "p_test_odds = np.ones(100000) * 1 / 9\n",
    "for j in tqdm(range(var_len)):\n",
    "    if roc_auc_score(y_train, oof[:, j]) >= 0.500:\n",
    "        p_test_odds *= (9 * p_test_mean[:, j] / (1 - p_test_mean[:, j]))\n",
    "\n",
    "p_test_odds = p_test_odds / (1 + p_test_odds)\n",
    "\n",
    "sub1 = pd.read_csv(sample_submission_file)\n",
    "sub2 = pd.DataFrame({\"ID_code\":test.ID_code.values , \"target\":p_test_odds})\n",
    "sub = pd.merge(sub1[[\"ID_code\"]], sub2, how=\"left\").fillna(0)"
   ]
  },
  {
   "cell_type": "markdown",
   "id": "5a1ab22d",
   "metadata": {},
   "source": [
    "## save result"
   ]
  },
  {
   "cell_type": "code",
   "execution_count": 12,
   "id": "489ffb52",
   "metadata": {
    "scrolled": true
   },
   "outputs": [
    {
     "name": "stdout",
     "output_type": "stream",
     "text": [
      "Wall time: 657 ms\n"
     ]
    }
   ],
   "source": [
    "%%time\n",
    "\n",
    "sub.to_csv(SUBMIT_FILE_PATH, index=False, compression='gzip')"
   ]
  }
 ],
 "metadata": {
  "kernelspec": {
   "display_name": "Python 3 (ipykernel)",
   "language": "python",
   "name": "python3"
  },
  "language_info": {
   "codemirror_mode": {
    "name": "ipython",
    "version": 3
   },
   "file_extension": ".py",
   "mimetype": "text/x-python",
   "name": "python",
   "nbconvert_exporter": "python",
   "pygments_lexer": "ipython3",
   "version": "3.9.8"
  }
 },
 "nbformat": 4,
 "nbformat_minor": 5
}
